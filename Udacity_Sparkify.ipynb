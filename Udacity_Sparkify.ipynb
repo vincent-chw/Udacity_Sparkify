{
 "cells": [
  {
   "cell_type": "markdown",
   "metadata": {
    "tags": []
   },
   "source": [
    "# Sparkify Project Workspace\n",
    "This workspace contains a tiny subset (128MB) of the full dataset available (12GB). Feel free to use this workspace to build your project, or to explore a smaller subset with Spark before deploying your cluster on the cloud. Instructions for setting up your Spark cluster is included in the last lesson of the Extracurricular Spark Course content.\n",
    "\n",
    "You can follow the steps below to guide your data analysis and model building portion of this project."
   ]
  },
  {
   "cell_type": "code",
   "execution_count": 1,
   "metadata": {
    "execution": {
     "iopub.execute_input": "2023-02-12T16:21:55.984095Z",
     "iopub.status.busy": "2023-02-12T16:21:55.983784Z",
     "iopub.status.idle": "2023-02-12T16:23:03.442060Z",
     "shell.execute_reply": "2023-02-12T16:23:03.441182Z",
     "shell.execute_reply.started": "2023-02-12T16:21:55.984070Z"
    },
    "tags": []
   },
   "outputs": [
    {
     "data": {
      "application/vnd.jupyter.widget-view+json": {
       "model_id": "7cf5839b5c38449987c58d9c523ca0af",
       "version_major": 2,
       "version_minor": 0
      },
      "text/plain": [
       "VBox()"
      ]
     },
     "metadata": {},
     "output_type": "display_data"
    },
    {
     "name": "stdout",
     "output_type": "stream",
     "text": [
      "Starting Spark application\n"
     ]
    },
    {
     "data": {
      "text/html": [
       "<table>\n",
       "<tbody><tr><th>ID</th><th>YARN Application ID</th><th>Kind</th><th>State</th><th>Spark UI</th><th>Driver log</th><th>User</th><th>Current session?</th></tr><tr><td>0</td><td>application_1676218098777_0001</td><td>pyspark</td><td>idle</td><td><a target=\"_blank\" href=\"http://ip-172-31-2-201.ap-southeast-1.compute.internal:20888/proxy/application_1676218098777_0001/\" class=\"emr-proxy-link j-2PQBAT5G3SGM1 application_1676218098777_0001\" emr-resource=\"j-2PQBAT5G3SGM1\n",
       "\" application-id=\"application_1676218098777_0001\">Link</a></td><td><a target=\"_blank\" href=\"http://ip-172-31-4-216.ap-southeast-1.compute.internal:8042/node/containerlogs/container_1676218098777_0001_01_000001/livy\">Link</a></td><td>None</td><td>✔</td></tr></tbody></table>"
      ],
      "text/plain": [
       "<IPython.core.display.HTML object>"
      ]
     },
     "metadata": {},
     "output_type": "display_data"
    },
    {
     "data": {
      "application/vnd.jupyter.widget-view+json": {
       "model_id": "",
       "version_major": 2,
       "version_minor": 0
      },
      "text/plain": [
       "FloatProgress(value=0.0, bar_style='info', description='Progress:', layout=Layout(height='25px', width='50%'),…"
      ]
     },
     "metadata": {},
     "output_type": "display_data"
    },
    {
     "name": "stdout",
     "output_type": "stream",
     "text": [
      "SparkSession available as 'spark'.\n"
     ]
    },
    {
     "data": {
      "application/vnd.jupyter.widget-view+json": {
       "model_id": "",
       "version_major": 2,
       "version_minor": 0
      },
      "text/plain": [
       "FloatProgress(value=0.0, bar_style='info', description='Progress:', layout=Layout(height='25px', width='50%'),…"
      ]
     },
     "metadata": {},
     "output_type": "display_data"
    },
    {
     "name": "stdout",
     "output_type": "stream",
     "text": [
      "Collecting pandas==1.0.5\n",
      "  Downloading pandas-1.0.5-cp37-cp37m-manylinux1_x86_64.whl (10.1 MB)\n",
      "Collecting python-dateutil>=2.6.1\n",
      "  Downloading python_dateutil-2.8.2-py2.py3-none-any.whl (247 kB)\n",
      "Requirement already satisfied: pytz>=2017.2 in /usr/local/lib/python3.7/site-packages (from pandas==1.0.5) (2022.6)\n",
      "Requirement already satisfied: numpy>=1.13.3 in /usr/local/lib64/python3.7/site-packages (from pandas==1.0.5) (1.20.0)\n",
      "Requirement already satisfied: six>=1.5 in /usr/local/lib/python3.7/site-packages (from python-dateutil>=2.6.1->pandas==1.0.5) (1.13.0)\n",
      "Installing collected packages: python-dateutil, pandas\n",
      "Successfully installed pandas-1.0.5 python-dateutil-2.8.2\n",
      "\n",
      "Collecting matplotlib\n",
      "  Downloading matplotlib-3.5.3-cp37-cp37m-manylinux_2_5_x86_64.manylinux1_x86_64.whl (11.2 MB)\n",
      "Requirement already satisfied: numpy>=1.17 in /usr/local/lib64/python3.7/site-packages (from matplotlib) (1.20.0)\n",
      "Collecting packaging>=20.0\n",
      "  Downloading packaging-23.0-py3-none-any.whl (42 kB)\n",
      "Requirement already satisfied: python-dateutil>=2.7 in ./tmp/1676218956727-0/lib/python3.7/site-packages (from matplotlib) (2.8.2)\n",
      "Collecting pyparsing>=2.2.1\n",
      "  Downloading pyparsing-3.0.9-py3-none-any.whl (98 kB)\n",
      "Collecting cycler>=0.10\n",
      "  Downloading cycler-0.11.0-py3-none-any.whl (6.4 kB)\n",
      "Collecting kiwisolver>=1.0.1\n",
      "  Downloading kiwisolver-1.4.4-cp37-cp37m-manylinux_2_5_x86_64.manylinux1_x86_64.whl (1.1 MB)\n",
      "Collecting pillow>=6.2.0\n",
      "  Downloading Pillow-9.4.0-cp37-cp37m-manylinux_2_17_x86_64.manylinux2014_x86_64.whl (3.3 MB)\n",
      "Collecting fonttools>=4.22.0\n",
      "  Downloading fonttools-4.38.0-py3-none-any.whl (965 kB)\n",
      "Requirement already satisfied: six>=1.5 in /usr/local/lib/python3.7/site-packages (from python-dateutil>=2.7->matplotlib) (1.13.0)\n",
      "Collecting typing-extensions; python_version < \"3.8\"\n",
      "  Downloading typing_extensions-4.4.0-py3-none-any.whl (26 kB)\n",
      "Installing collected packages: packaging, pyparsing, cycler, typing-extensions, kiwisolver, pillow, fonttools, matplotlib\n",
      "Successfully installed cycler-0.11.0 fonttools-4.38.0 kiwisolver-1.4.4 matplotlib-3.5.3 packaging-23.0 pillow-9.4.0 pyparsing-3.0.9 typing-extensions-4.4.0\n",
      "\n",
      "WARNING: The directory '/home/.cache/pip' or its parent directory is not owned or is not writable by the current user. The cache has been disabled. Check the permissions and owner of that directory. If executing pip with sudo, you may want sudo's -H flag.\n",
      "\n",
      "WARNING: The directory '/home/.cache/pip' or its parent directory is not owned or is not writable by the current user. The cache has been disabled. Check the permissions and owner of that directory. If executing pip with sudo, you may want sudo's -H flag."
     ]
    }
   ],
   "source": [
    "# import libraries\n",
    "from pyspark.sql import SparkSession\n",
    "from pyspark.sql.functions import udf\n",
    "from pyspark.sql.types import StringType\n",
    "from pyspark.sql.types import IntegerType\n",
    "from pyspark.sql.functions import desc\n",
    "from pyspark.sql.functions import asc\n",
    "from pyspark.sql.functions import sum as Fsum\n",
    "from pyspark.sql.functions import col,isnan, when, count, concat, lit, avg\n",
    "from pyspark.sql.functions import countDistinct\n",
    "from pyspark.ml import Pipeline\n",
    "\n",
    "from pyspark.mllib.evaluation import BinaryClassificationMetrics\n",
    "from pyspark.ml.evaluation import BinaryClassificationEvaluator, MulticlassClassificationEvaluator\n",
    "from pyspark.mllib.evaluation import MulticlassMetrics\n",
    "from pyspark.sql.types import FloatType\n",
    "import pyspark.sql.functions as F\n",
    "from pyspark.sql.functions import variance\n",
    "from operator import add\n",
    "from functools import reduce\n",
    "# from pyspark.sql import functions as F\n",
    "\n",
    "from pyspark.ml.feature import VectorAssembler\n",
    "from pyspark.ml.feature import StandardScaler\n",
    "from pyspark.ml.feature import IndexToString, StringIndexer, VectorIndexer\n",
    "\n",
    "from pyspark.ml.classification import LogisticRegression\n",
    "from pyspark.ml.classification import RandomForestClassifier\n",
    "from pyspark.ml.classification import GBTClassifier\n",
    "\n",
    "from pyspark.ml.tuning import ParamGridBuilder, CrossValidator, TrainValidationSplit\n",
    "\n",
    "import datetime\n",
    "\n",
    "# https://aws.amazon.com/blogs/big-data/install-python-libraries-on-a-running-cluster-with-emr-notebooks/\n",
    "\n",
    "sc.install_pypi_package(\"pandas==1.0.5\") #Install pandas version 1.0.5 \n",
    "sc.install_pypi_package(\"matplotlib\", \"https://pypi.org/simple\") #Install matplotlib from given PyPI repository\n",
    "\n",
    "import numpy as np\n",
    "import pandas as pd\n",
    "# %matplotlib inline\n",
    "import matplotlib.pyplot as plt"
   ]
  },
  {
   "cell_type": "code",
   "execution_count": 2,
   "metadata": {
    "execution": {
     "iopub.execute_input": "2023-02-12T16:23:03.444073Z",
     "iopub.status.busy": "2023-02-12T16:23:03.443738Z",
     "iopub.status.idle": "2023-02-12T16:23:04.241344Z",
     "shell.execute_reply": "2023-02-12T16:23:04.240597Z",
     "shell.execute_reply.started": "2023-02-12T16:23:03.444037Z"
    },
    "tags": []
   },
   "outputs": [
    {
     "data": {
      "application/vnd.jupyter.widget-view+json": {
       "model_id": "0363a789248749db8fd9542dd5f2c83e",
       "version_major": 2,
       "version_minor": 0
      },
      "text/plain": [
       "VBox()"
      ]
     },
     "metadata": {},
     "output_type": "display_data"
    },
    {
     "data": {
      "application/vnd.jupyter.widget-view+json": {
       "model_id": "",
       "version_major": 2,
       "version_minor": 0
      },
      "text/plain": [
       "FloatProgress(value=0.0, bar_style='info', description='Progress:', layout=Layout(height='25px', width='50%'),…"
      ]
     },
     "metadata": {},
     "output_type": "display_data"
    },
    {
     "name": "stdout",
     "output_type": "stream",
     "text": [
      "Package                    Version\n",
      "-------------------------- ----------\n",
      "aws-cfn-bootstrap          2.0\n",
      "beautifulsoup4             4.9.3\n",
      "boto                       2.49.0\n",
      "click                      8.1.3\n",
      "cycler                     0.11.0\n",
      "docutils                   0.14\n",
      "fonttools                  4.38.0\n",
      "jmespath                   1.0.1\n",
      "joblib                     1.2.0\n",
      "kiwisolver                 1.4.4\n",
      "lockfile                   0.11.0\n",
      "lxml                       4.9.1\n",
      "matplotlib                 3.5.3\n",
      "mysqlclient                1.4.2\n",
      "nltk                       3.7\n",
      "nose                       1.3.4\n",
      "numpy                      1.20.0\n",
      "packaging                  23.0\n",
      "pandas                     1.0.5\n",
      "Pillow                     9.4.0\n",
      "pip                        20.2.2\n",
      "py-dateutil                2.2\n",
      "pyparsing                  3.0.9\n",
      "pystache                   0.5.4\n",
      "python-daemon              2.2.3\n",
      "python-dateutil            2.8.2\n",
      "python37-sagemaker-pyspark 1.4.2\n",
      "pytz                       2022.6\n",
      "PyYAML                     5.4.1\n",
      "regex                      2021.11.10\n",
      "setuptools                 28.8.0\n",
      "simplejson                 3.2.0\n",
      "six                        1.13.0\n",
      "tqdm                       4.64.1\n",
      "typing-extensions          4.4.0\n",
      "wheel                      0.29.0\n",
      "windmill                   1.6\n",
      "\n",
      "WARNING: The directory '/home/.cache/pip' or its parent directory is not owned or is not writable by the current user. The cache has been disabled. Check the permissions and owner of that directory. If executing pip with sudo, you may want sudo's -H flag."
     ]
    }
   ],
   "source": [
    "sc.list_packages()"
   ]
  },
  {
   "cell_type": "code",
   "execution_count": 3,
   "metadata": {
    "execution": {
     "iopub.execute_input": "2023-02-12T16:23:04.243094Z",
     "iopub.status.busy": "2023-02-12T16:23:04.242848Z",
     "iopub.status.idle": "2023-02-12T16:23:04.312139Z",
     "shell.execute_reply": "2023-02-12T16:23:04.311419Z",
     "shell.execute_reply.started": "2023-02-12T16:23:04.243069Z"
    },
    "tags": []
   },
   "outputs": [
    {
     "data": {
      "application/vnd.jupyter.widget-view+json": {
       "model_id": "c3c3d01af12449809f019d2aff29f4a5",
       "version_major": 2,
       "version_minor": 0
      },
      "text/plain": [
       "VBox()"
      ]
     },
     "metadata": {},
     "output_type": "display_data"
    },
    {
     "data": {
      "application/vnd.jupyter.widget-view+json": {
       "model_id": "",
       "version_major": 2,
       "version_minor": 0
      },
      "text/plain": [
       "FloatProgress(value=0.0, bar_style='info', description='Progress:', layout=Layout(height='25px', width='50%'),…"
      ]
     },
     "metadata": {},
     "output_type": "display_data"
    }
   ],
   "source": [
    "# create a Spark session\n",
    "spark = SparkSession \\\n",
    "    .builder \\\n",
    "    .appName(\"Sparkify\") \\\n",
    "    .getOrCreate()"
   ]
  },
  {
   "cell_type": "markdown",
   "metadata": {},
   "source": [
    "# Load and Clean Dataset\n",
    "In this workspace, the mini-dataset file is `mini_sparkify_event_data.json`. Load and clean the dataset, checking for invalid or missing data - for example, records without userids or sessionids. "
   ]
  },
  {
   "cell_type": "code",
   "execution_count": 4,
   "metadata": {
    "execution": {
     "iopub.execute_input": "2023-02-12T16:23:04.313981Z",
     "iopub.status.busy": "2023-02-12T16:23:04.313647Z",
     "iopub.status.idle": "2023-02-12T16:25:00.085697Z",
     "shell.execute_reply": "2023-02-12T16:25:00.084885Z",
     "shell.execute_reply.started": "2023-02-12T16:23:04.313945Z"
    },
    "tags": []
   },
   "outputs": [
    {
     "data": {
      "application/vnd.jupyter.widget-view+json": {
       "model_id": "044d5e91722045c0b5fa7e5ad14020fe",
       "version_major": 2,
       "version_minor": 0
      },
      "text/plain": [
       "VBox()"
      ]
     },
     "metadata": {},
     "output_type": "display_data"
    },
    {
     "data": {
      "application/vnd.jupyter.widget-view+json": {
       "model_id": "",
       "version_major": 2,
       "version_minor": 0
      },
      "text/plain": [
       "FloatProgress(value=0.0, bar_style='info', description='Progress:', layout=Layout(height='25px', width='50%'),…"
      ]
     },
     "metadata": {},
     "output_type": "display_data"
    },
    {
     "name": "stdout",
     "output_type": "stream",
     "text": [
      "Row(artist='Popol Vuh', auth='Logged In', firstName='Shlok', gender='M', itemInSession=278, lastName='Johnson', length=524.32934, level='paid', location='Dallas-Fort Worth-Arlington, TX', method='PUT', page='NextSong', registration=1533734541000, sessionId=22683, song='Ich mache einen Spiegel - Dream Part 4', status=200, ts=1538352001000, userAgent='\"Mozilla/5.0 (Windows NT 6.1; WOW64) AppleWebKit/537.36 (KHTML, like Gecko) Chrome/36.0.1985.143 Safari/537.36\"', userId='1749042')"
     ]
    }
   ],
   "source": [
    "# Read in full sparkify dataset\n",
    "# event_data = \"mini_sparkify_event_data.json\"\n",
    "# Full dataset:\n",
    "event_data = \"s3n://udacity-dsnd/sparkify/sparkify_event_data.json\"\n",
    "df = spark.read.json(event_data)\n",
    "df.head()"
   ]
  },
  {
   "cell_type": "code",
   "execution_count": 5,
   "metadata": {
    "execution": {
     "iopub.execute_input": "2023-02-12T16:25:00.087422Z",
     "iopub.status.busy": "2023-02-12T16:25:00.087085Z",
     "iopub.status.idle": "2023-02-12T16:25:00.162558Z",
     "shell.execute_reply": "2023-02-12T16:25:00.161680Z",
     "shell.execute_reply.started": "2023-02-12T16:25:00.087385Z"
    },
    "tags": []
   },
   "outputs": [
    {
     "data": {
      "application/vnd.jupyter.widget-view+json": {
       "model_id": "c368b28e98804b39b5e4a33f8ed5d141",
       "version_major": 2,
       "version_minor": 0
      },
      "text/plain": [
       "VBox()"
      ]
     },
     "metadata": {},
     "output_type": "display_data"
    },
    {
     "data": {
      "application/vnd.jupyter.widget-view+json": {
       "model_id": "",
       "version_major": 2,
       "version_minor": 0
      },
      "text/plain": [
       "FloatProgress(value=0.0, bar_style='info', description='Progress:', layout=Layout(height='25px', width='50%'),…"
      ]
     },
     "metadata": {},
     "output_type": "display_data"
    }
   ],
   "source": [
    "pd.set_option('max_columns', None) # Show all columns\n",
    "# pd.reset_option(“max_columns”) # Reset number of columns shown\n",
    "\n",
    "# pd.set_option(“max_colwidth”, None) # Increase column width to show all characters\n",
    "\n",
    "pd.set_option(\"max_rows\", None) # Show all rows"
   ]
  },
  {
   "cell_type": "markdown",
   "metadata": {},
   "source": [
    "# Exploratory Data Analysis\n",
    "When you're working with the full dataset, perform EDA by loading a small subset of the data and doing basic manipulations within Spark. In this workspace, you are already provided a small subset of data you can explore.\n",
    "\n",
    "### Define Churn\n",
    "\n",
    "Once you've done some preliminary analysis, create a column `Churn` to use as the label for your model. I suggest using the `Cancellation Confirmation` events to define your churn, which happen for both paid and free users. As a bonus task, you can also look into the `Downgrade` events.\n",
    "\n",
    "### Explore Data\n",
    "Once you've defined churn, perform some exploratory data analysis to observe the behavior for users who stayed vs users who churned. You can start by exploring aggregates on these two groups of users, observing how much of a specific action they experienced per a certain time unit or number of songs played."
   ]
  },
  {
   "cell_type": "code",
   "execution_count": 6,
   "metadata": {
    "execution": {
     "iopub.execute_input": "2023-02-12T16:25:00.164165Z",
     "iopub.status.busy": "2023-02-12T16:25:00.163844Z",
     "iopub.status.idle": "2023-02-12T16:25:00.232309Z",
     "shell.execute_reply": "2023-02-12T16:25:00.231610Z",
     "shell.execute_reply.started": "2023-02-12T16:25:00.164135Z"
    },
    "tags": []
   },
   "outputs": [
    {
     "data": {
      "application/vnd.jupyter.widget-view+json": {
       "model_id": "82fe0f57ba5e4f3b9f12c77d4338c5c6",
       "version_major": 2,
       "version_minor": 0
      },
      "text/plain": [
       "VBox()"
      ]
     },
     "metadata": {},
     "output_type": "display_data"
    },
    {
     "data": {
      "application/vnd.jupyter.widget-view+json": {
       "model_id": "",
       "version_major": 2,
       "version_minor": 0
      },
      "text/plain": [
       "FloatProgress(value=0.0, bar_style='info', description='Progress:', layout=Layout(height='25px', width='50%'),…"
      ]
     },
     "metadata": {},
     "output_type": "display_data"
    },
    {
     "name": "stdout",
     "output_type": "stream",
     "text": [
      "root\n",
      " |-- artist: string (nullable = true)\n",
      " |-- auth: string (nullable = true)\n",
      " |-- firstName: string (nullable = true)\n",
      " |-- gender: string (nullable = true)\n",
      " |-- itemInSession: long (nullable = true)\n",
      " |-- lastName: string (nullable = true)\n",
      " |-- length: double (nullable = true)\n",
      " |-- level: string (nullable = true)\n",
      " |-- location: string (nullable = true)\n",
      " |-- method: string (nullable = true)\n",
      " |-- page: string (nullable = true)\n",
      " |-- registration: long (nullable = true)\n",
      " |-- sessionId: long (nullable = true)\n",
      " |-- song: string (nullable = true)\n",
      " |-- status: long (nullable = true)\n",
      " |-- ts: long (nullable = true)\n",
      " |-- userAgent: string (nullable = true)\n",
      " |-- userId: string (nullable = true)"
     ]
    }
   ],
   "source": [
    "df.printSchema()"
   ]
  },
  {
   "cell_type": "code",
   "execution_count": 6,
   "metadata": {
    "execution": {
     "iopub.execute_input": "2023-02-11T15:06:52.930776Z",
     "iopub.status.busy": "2023-02-11T15:06:52.930533Z",
     "iopub.status.idle": "2023-02-11T15:06:54.213128Z",
     "shell.execute_reply": "2023-02-11T15:06:54.212367Z",
     "shell.execute_reply.started": "2023-02-11T15:06:52.930752Z"
    },
    "tags": []
   },
   "outputs": [
    {
     "data": {
      "application/vnd.jupyter.widget-view+json": {
       "model_id": "27441946c46b472e8ccf7d41dd1cb49a",
       "version_major": 2,
       "version_minor": 0
      },
      "text/plain": [
       "VBox()"
      ]
     },
     "metadata": {},
     "output_type": "display_data"
    },
    {
     "data": {
      "application/vnd.jupyter.widget-view+json": {
       "model_id": "",
       "version_major": 2,
       "version_minor": 0
      },
      "text/plain": [
       "FloatProgress(value=0.0, bar_style='info', description='Progress:', layout=Layout(height='25px', width='50%'),…"
      ]
     },
     "metadata": {},
     "output_type": "display_data"
    },
    {
     "name": "stdout",
     "output_type": "stream",
     "text": [
      "                                              artist       auth firstName  \\\n",
      "0                                          Popol Vuh  Logged In     Shlok   \n",
      "1                                        Los Bunkers  Logged In   Vianney   \n",
      "2                                               Lush  Logged In      Vina   \n",
      "3  Barry Tuckwell/Academy of St Martin-in-the-Fie...  Logged In    Andres   \n",
      "4                                                Yes  Logged In   Aaliyah   \n",
      "5                                               MGMT  Logged In      Ryan   \n",
      "6                                  Animal Collective  Logged In     Isaac   \n",
      "7                                             Eminem  Logged In  Jonathan   \n",
      "8                                        Leona Lewis  Logged In  Jennifer   \n",
      "9                                    The Cranberries  Logged In   Michael   \n",
      "\n",
      "  gender  itemInSession  lastName      length level  \\\n",
      "0      M            278   Johnson   524.32934  paid   \n",
      "1      F              9    Miller   238.39302  paid   \n",
      "2      F            109    Bailey   140.35546  paid   \n",
      "3      M             71     Foley   277.15873  paid   \n",
      "4      F             21   Ramirez  1121.25342  paid   \n",
      "5      M              8  Williams   229.25016  paid   \n",
      "6      M              6     Brown   313.54730  free   \n",
      "7      M             29    Martin   250.82730  free   \n",
      "8      F              0   Shelton   203.88526  free   \n",
      "9      M             13     Riley   183.87546  paid   \n",
      "\n",
      "                                location method      page   registration  \\\n",
      "0        Dallas-Fort Worth-Arlington, TX    PUT  NextSong  1533734541000   \n",
      "1      San Francisco-Oakland-Hayward, CA    PUT  NextSong  1537500318000   \n",
      "2                               Hilo, HI    PUT  NextSong  1536414505000   \n",
      "3                          Watertown, SD    PUT  NextSong  1534386660000   \n",
      "4          Baltimore-Columbia-Towson, MD    PUT  NextSong  1537381415000   \n",
      "5              Cape Coral-Fort Myers, FL    PUT  NextSong  1537602560000   \n",
      "6                             Kokomo, IN    PUT  NextSong  1536563853000   \n",
      "7  New York-Newark-Jersey City, NY-NJ-PA    PUT  NextSong  1538069376000   \n",
      "8                         Pittsburgh, PA    PUT  NextSong  1536455539000   \n",
      "9            Albany-Schenectady-Troy, NY    PUT  NextSong  1533220062000   \n",
      "\n",
      "   sessionId                                               song  status  \\\n",
      "0      22683             Ich mache einen Spiegel - Dream Part 4     200   \n",
      "1      20836                                        MiÃÂ©ntele     200   \n",
      "2       4593                                          Baby Talk     200   \n",
      "3       6370  Horn Concerto No. 4 in E flat K495: II. Romanc...     200   \n",
      "4      22316  Close To The Edge (I. The Solid Time Of Change...     200   \n",
      "5      23924                                      Electric Feel     200   \n",
      "6       1746                                             Bluish     200   \n",
      "7      22483                                        Mockingbird     200   \n",
      "8      25128                                         Forgive Me     200   \n",
      "9       3992                                        The Concept     200   \n",
      "\n",
      "              ts                                          userAgent   userId  \n",
      "0  1538352001000  \"Mozilla/5.0 (Windows NT 6.1; WOW64) AppleWebK...  1749042  \n",
      "1  1538352002000  \"Mozilla/5.0 (Macintosh; Intel Mac OS X 10_9_4...  1563081  \n",
      "2  1538352002000  Mozilla/5.0 (Macintosh; Intel Mac OS X 10.9; r...  1697168  \n",
      "3  1538352003000  \"Mozilla/5.0 (Macintosh; Intel Mac OS X 10_9_4...  1222580  \n",
      "4  1538352003000  \"Mozilla/5.0 (Windows NT 6.1; WOW64) AppleWebK...  1714398  \n",
      "5  1538352004000  \"Mozilla/5.0 (Windows NT 6.1; WOW64) AppleWebK...  1010522  \n",
      "6  1538352005000  Mozilla/5.0 (Windows NT 5.1; rv:31.0) Gecko/20...  1475659  \n",
      "7  1538352006000  \"Mozilla/5.0 (Windows NT 6.1; WOW64) AppleWebK...  1465194  \n",
      "8  1538352006000  \"Mozilla/5.0 (Windows NT 5.1) AppleWebKit/537....  1558463  \n",
      "9  1538352006000  \"Mozilla/5.0 (Windows NT 6.1) AppleWebKit/537....  1605667"
     ]
    }
   ],
   "source": [
    "df.limit(10).toPandas()"
   ]
  },
  {
   "cell_type": "code",
   "execution_count": 7,
   "metadata": {
    "execution": {
     "iopub.execute_input": "2023-02-12T16:25:00.234056Z",
     "iopub.status.busy": "2023-02-12T16:25:00.233814Z",
     "iopub.status.idle": "2023-02-12T16:26:43.930875Z",
     "shell.execute_reply": "2023-02-12T16:26:43.930002Z",
     "shell.execute_reply.started": "2023-02-12T16:25:00.234033Z"
    }
   },
   "outputs": [
    {
     "data": {
      "application/vnd.jupyter.widget-view+json": {
       "model_id": "cd0b40222cfb4f779a250ce533331b79",
       "version_major": 2,
       "version_minor": 0
      },
      "text/plain": [
       "VBox()"
      ]
     },
     "metadata": {},
     "output_type": "display_data"
    },
    {
     "data": {
      "application/vnd.jupyter.widget-view+json": {
       "model_id": "",
       "version_major": 2,
       "version_minor": 0
      },
      "text/plain": [
       "FloatProgress(value=0.0, bar_style='info', description='Progress:', layout=Layout(height='25px', width='50%'),…"
      ]
     },
     "metadata": {},
     "output_type": "display_data"
    },
    {
     "name": "stdout",
     "output_type": "stream",
     "text": [
      "Number of rows = 26259199"
     ]
    }
   ],
   "source": [
    "print('Number of rows =', df.count())"
   ]
  },
  {
   "cell_type": "markdown",
   "metadata": {},
   "source": [
    "#### Check for duplicates"
   ]
  },
  {
   "cell_type": "code",
   "execution_count": 7,
   "metadata": {
    "execution": {
     "iopub.execute_input": "2023-02-11T15:06:54.214374Z",
     "iopub.status.busy": "2023-02-11T15:06:54.214143Z",
     "iopub.status.idle": "2023-02-11T15:11:02.456008Z",
     "shell.execute_reply": "2023-02-11T15:11:02.455109Z",
     "shell.execute_reply.started": "2023-02-11T15:06:54.214351Z"
    },
    "tags": []
   },
   "outputs": [
    {
     "data": {
      "application/vnd.jupyter.widget-view+json": {
       "model_id": "fbd77b9bcbf842af99b4e0d82019a325",
       "version_major": 2,
       "version_minor": 0
      },
      "text/plain": [
       "VBox()"
      ]
     },
     "metadata": {},
     "output_type": "display_data"
    },
    {
     "data": {
      "application/vnd.jupyter.widget-view+json": {
       "model_id": "",
       "version_major": 2,
       "version_minor": 0
      },
      "text/plain": [
       "FloatProgress(value=0.0, bar_style='info', description='Progress:', layout=Layout(height='25px', width='50%'),…"
      ]
     },
     "metadata": {},
     "output_type": "display_data"
    },
    {
     "name": "stdout",
     "output_type": "stream",
     "text": [
      "No duplicates are found in the dataset"
     ]
    }
   ],
   "source": [
    "# Check for duplicates\n",
    "if df.count() == df.dropDuplicates().count():\n",
    "    print('No duplicates are found in the dataset')\n",
    "else:\n",
    "    print('There are duplicates found in the dataset')"
   ]
  },
  {
   "cell_type": "markdown",
   "metadata": {},
   "source": [
    "#### Check for NAN and NULL"
   ]
  },
  {
   "cell_type": "code",
   "execution_count": 8,
   "metadata": {
    "execution": {
     "iopub.execute_input": "2023-02-11T15:11:02.460004Z",
     "iopub.status.busy": "2023-02-11T15:11:02.459659Z",
     "iopub.status.idle": "2023-02-11T15:14:22.407401Z",
     "shell.execute_reply": "2023-02-11T15:14:22.406664Z",
     "shell.execute_reply.started": "2023-02-11T15:11:02.459968Z"
    },
    "tags": []
   },
   "outputs": [
    {
     "data": {
      "application/vnd.jupyter.widget-view+json": {
       "model_id": "8e02ee1a092a4b5a809d23347078f0c8",
       "version_major": 2,
       "version_minor": 0
      },
      "text/plain": [
       "VBox()"
      ]
     },
     "metadata": {},
     "output_type": "display_data"
    },
    {
     "data": {
      "application/vnd.jupyter.widget-view+json": {
       "model_id": "",
       "version_major": 2,
       "version_minor": 0
      },
      "text/plain": [
       "FloatProgress(value=0.0, bar_style='info', description='Progress:', layout=Layout(height='25px', width='50%'),…"
      ]
     },
     "metadata": {},
     "output_type": "display_data"
    },
    {
     "name": "stdout",
     "output_type": "stream",
     "text": [
      "[Row(artist=0, auth=0, firstName=0, gender=0, itemInSession=0, lastName=0, length=0, level=0, location=0, method=0, page=0, registration=0, sessionId=0, song=3, status=0, ts=0, userAgent=0, userId=0)]"
     ]
    }
   ],
   "source": [
    "# Check for NAN\n",
    "df.select([count(when(isnan(c), c)).alias(c) for c in df.columns]).collect()"
   ]
  },
  {
   "cell_type": "code",
   "execution_count": 9,
   "metadata": {
    "execution": {
     "iopub.execute_input": "2023-02-11T15:14:22.409248Z",
     "iopub.status.busy": "2023-02-11T15:14:22.409009Z",
     "iopub.status.idle": "2023-02-11T15:16:06.022552Z",
     "shell.execute_reply": "2023-02-11T15:16:06.021817Z",
     "shell.execute_reply.started": "2023-02-11T15:14:22.409224Z"
    },
    "tags": []
   },
   "outputs": [
    {
     "data": {
      "application/vnd.jupyter.widget-view+json": {
       "model_id": "cce49f725df9430d94619e65afe84a69",
       "version_major": 2,
       "version_minor": 0
      },
      "text/plain": [
       "VBox()"
      ]
     },
     "metadata": {},
     "output_type": "display_data"
    },
    {
     "data": {
      "application/vnd.jupyter.widget-view+json": {
       "model_id": "",
       "version_major": 2,
       "version_minor": 0
      },
      "text/plain": [
       "FloatProgress(value=0.0, bar_style='info', description='Progress:', layout=Layout(height='25px', width='50%'),…"
      ]
     },
     "metadata": {},
     "output_type": "display_data"
    },
    {
     "name": "stdout",
     "output_type": "stream",
     "text": [
      "[Row(artist=5408927, auth=0, firstName=778479, gender=778479, itemInSession=0, lastName=778479, length=5408927, level=0, location=778479, method=0, page=0, registration=778479, sessionId=0, song=5408927, status=0, ts=0, userAgent=778479, userId=0)]"
     ]
    }
   ],
   "source": [
    "# Check for NULL\n",
    "df.select([count(when(col(c).isNull(), c)).alias(c) for c in df.columns]).collect()"
   ]
  },
  {
   "cell_type": "code",
   "execution_count": 10,
   "metadata": {
    "execution": {
     "iopub.execute_input": "2023-02-11T15:16:06.023791Z",
     "iopub.status.busy": "2023-02-11T15:16:06.023558Z",
     "iopub.status.idle": "2023-02-11T15:17:41.598348Z",
     "shell.execute_reply": "2023-02-11T15:17:41.597492Z",
     "shell.execute_reply.started": "2023-02-11T15:16:06.023768Z"
    },
    "tags": []
   },
   "outputs": [
    {
     "data": {
      "application/vnd.jupyter.widget-view+json": {
       "model_id": "f401057c19eb423b9dd1f4221cb4692b",
       "version_major": 2,
       "version_minor": 0
      },
      "text/plain": [
       "VBox()"
      ]
     },
     "metadata": {},
     "output_type": "display_data"
    },
    {
     "data": {
      "application/vnd.jupyter.widget-view+json": {
       "model_id": "",
       "version_major": 2,
       "version_minor": 0
      },
      "text/plain": [
       "FloatProgress(value=0.0, bar_style='info', description='Progress:', layout=Layout(height='25px', width='50%'),…"
      ]
     },
     "metadata": {},
     "output_type": "display_data"
    },
    {
     "name": "stdout",
     "output_type": "stream",
     "text": [
      "[Row(page='Downgrade'), Row(page='Save Settings'), Row(page='Error'), Row(page='Add to Playlist'), Row(page='Help'), Row(page='Submit Upgrade'), Row(page='Cancel'), Row(page='Submit Downgrade'), Row(page='Thumbs Down'), Row(page='Home'), Row(page='Roll Advert'), Row(page='About'), Row(page='Upgrade'), Row(page='Cancellation Confirmation'), Row(page='Submit Registration'), Row(page='Login'), Row(page='Register'), Row(page='Thumbs Up'), Row(page='Logout'), Row(page='Settings'), Row(page='Add Friend')]"
     ]
    }
   ],
   "source": [
    "# Check for page visits where artist is null\n",
    "df.filter(col('artist').isNull()).select('page').distinct().collect()"
   ]
  },
  {
   "cell_type": "code",
   "execution_count": 11,
   "metadata": {
    "execution": {
     "iopub.execute_input": "2023-02-11T15:17:41.599691Z",
     "iopub.status.busy": "2023-02-11T15:17:41.599445Z",
     "iopub.status.idle": "2023-02-11T15:20:47.499065Z",
     "shell.execute_reply": "2023-02-11T15:20:47.498155Z",
     "shell.execute_reply.started": "2023-02-11T15:17:41.599666Z"
    },
    "tags": []
   },
   "outputs": [
    {
     "data": {
      "application/vnd.jupyter.widget-view+json": {
       "model_id": "21a58ef9e21c435bb8cfd5004c05311b",
       "version_major": 2,
       "version_minor": 0
      },
      "text/plain": [
       "VBox()"
      ]
     },
     "metadata": {},
     "output_type": "display_data"
    },
    {
     "data": {
      "application/vnd.jupyter.widget-view+json": {
       "model_id": "",
       "version_major": 2,
       "version_minor": 0
      },
      "text/plain": [
       "FloatProgress(value=0.0, bar_style='info', description='Progress:', layout=Layout(height='25px', width='50%'),…"
      ]
     },
     "metadata": {},
     "output_type": "display_data"
    },
    {
     "name": "stdout",
     "output_type": "stream",
     "text": [
      "[Row(page='NextSong')]"
     ]
    }
   ],
   "source": [
    "# Check for unique page where artist is not null\n",
    "df.select('page').distinct().subtract(df.filter(col('artist').isNull()).select('page').distinct()).collect()"
   ]
  },
  {
   "cell_type": "markdown",
   "metadata": {},
   "source": [
    "From the above filtered pages, it can be seen that no artist or songs are recorded because the user is visiting other pages that does not play any song. In this case, it is worth keeping these rows for the algorithm to study the user's behaviour based on page visits. "
   ]
  },
  {
   "cell_type": "code",
   "execution_count": 12,
   "metadata": {
    "execution": {
     "iopub.execute_input": "2023-02-11T15:20:47.500321Z",
     "iopub.status.busy": "2023-02-11T15:20:47.500089Z",
     "iopub.status.idle": "2023-02-11T15:22:19.081000Z",
     "shell.execute_reply": "2023-02-11T15:22:19.080045Z",
     "shell.execute_reply.started": "2023-02-11T15:20:47.500298Z"
    },
    "tags": []
   },
   "outputs": [
    {
     "data": {
      "application/vnd.jupyter.widget-view+json": {
       "model_id": "af9383070cb14c24a1a56519264bdfac",
       "version_major": 2,
       "version_minor": 0
      },
      "text/plain": [
       "VBox()"
      ]
     },
     "metadata": {},
     "output_type": "display_data"
    },
    {
     "data": {
      "application/vnd.jupyter.widget-view+json": {
       "model_id": "",
       "version_major": 2,
       "version_minor": 0
      },
      "text/plain": [
       "FloatProgress(value=0.0, bar_style='info', description='Progress:', layout=Layout(height='25px', width='50%'),…"
      ]
     },
     "metadata": {},
     "output_type": "display_data"
    },
    {
     "name": "stdout",
     "output_type": "stream",
     "text": [
      "+-------+\n",
      "| userId|\n",
      "+-------+\n",
      "|1000025|\n",
      "|1000035|\n",
      "|1000083|\n",
      "|1000103|\n",
      "|1000164|\n",
      "|1000168|\n",
      "|1000182|\n",
      "|1000194|\n",
      "|1000214|\n",
      "|1000233|\n",
      "|1000244|\n",
      "|1000248|\n",
      "|1000280|\n",
      "|1000353|\n",
      "|1000407|\n",
      "|1000409|\n",
      "|1000446|\n",
      "|1000503|\n",
      "|1000527|\n",
      "|1000611|\n",
      "+-------+\n",
      "only showing top 20 rows"
     ]
    }
   ],
   "source": [
    "# Check for userId\n",
    "df.select(\"userId\").dropDuplicates().sort(\"userId\").show()"
   ]
  },
  {
   "cell_type": "markdown",
   "metadata": {},
   "source": [
    "The dataset is ready to be used."
   ]
  },
  {
   "cell_type": "code",
   "execution_count": 13,
   "metadata": {
    "execution": {
     "iopub.execute_input": "2023-02-11T15:22:19.082866Z",
     "iopub.status.busy": "2023-02-11T15:22:19.082460Z",
     "iopub.status.idle": "2023-02-11T15:22:19.163741Z",
     "shell.execute_reply": "2023-02-11T15:22:19.162774Z",
     "shell.execute_reply.started": "2023-02-11T15:22:19.082826Z"
    },
    "tags": []
   },
   "outputs": [
    {
     "data": {
      "application/vnd.jupyter.widget-view+json": {
       "model_id": "92c4eef3f6e646489579bb490f8429d0",
       "version_major": 2,
       "version_minor": 0
      },
      "text/plain": [
       "VBox()"
      ]
     },
     "metadata": {},
     "output_type": "display_data"
    },
    {
     "data": {
      "application/vnd.jupyter.widget-view+json": {
       "model_id": "",
       "version_major": 2,
       "version_minor": 0
      },
      "text/plain": [
       "FloatProgress(value=0.0, bar_style='info', description='Progress:', layout=Layout(height='25px', width='50%'),…"
      ]
     },
     "metadata": {},
     "output_type": "display_data"
    }
   ],
   "source": [
    "df_valid = df"
   ]
  },
  {
   "cell_type": "markdown",
   "metadata": {},
   "source": [
    "#### Check for total number of users vs total number of users who churned"
   ]
  },
  {
   "cell_type": "code",
   "execution_count": 14,
   "metadata": {
    "execution": {
     "iopub.execute_input": "2023-02-11T15:22:19.165885Z",
     "iopub.status.busy": "2023-02-11T15:22:19.165244Z",
     "iopub.status.idle": "2023-02-11T15:23:56.743017Z",
     "shell.execute_reply": "2023-02-11T15:23:56.742089Z",
     "shell.execute_reply.started": "2023-02-11T15:22:19.165846Z"
    },
    "tags": []
   },
   "outputs": [
    {
     "data": {
      "application/vnd.jupyter.widget-view+json": {
       "model_id": "6d72bee774f942cd84d763287e54a362",
       "version_major": 2,
       "version_minor": 0
      },
      "text/plain": [
       "VBox()"
      ]
     },
     "metadata": {},
     "output_type": "display_data"
    },
    {
     "data": {
      "application/vnd.jupyter.widget-view+json": {
       "model_id": "",
       "version_major": 2,
       "version_minor": 0
      },
      "text/plain": [
       "FloatProgress(value=0.0, bar_style='info', description='Progress:', layout=Layout(height='25px', width='50%'),…"
      ]
     },
     "metadata": {},
     "output_type": "display_data"
    },
    {
     "name": "stdout",
     "output_type": "stream",
     "text": [
      "Total number of users = 22278"
     ]
    }
   ],
   "source": [
    "# Total number of users:\n",
    "print('Total number of users =',df_valid.select(\"userId\").dropDuplicates().count())"
   ]
  },
  {
   "cell_type": "code",
   "execution_count": 15,
   "metadata": {
    "execution": {
     "iopub.execute_input": "2023-02-11T15:23:56.744710Z",
     "iopub.status.busy": "2023-02-11T15:23:56.744324Z",
     "iopub.status.idle": "2023-02-11T15:27:24.682505Z",
     "shell.execute_reply": "2023-02-11T15:27:24.681630Z",
     "shell.execute_reply.started": "2023-02-11T15:23:56.744672Z"
    },
    "tags": []
   },
   "outputs": [
    {
     "data": {
      "application/vnd.jupyter.widget-view+json": {
       "model_id": "169a2b5be67e47bfae1cfb994464cc9f",
       "version_major": 2,
       "version_minor": 0
      },
      "text/plain": [
       "VBox()"
      ]
     },
     "metadata": {},
     "output_type": "display_data"
    },
    {
     "data": {
      "application/vnd.jupyter.widget-view+json": {
       "model_id": "",
       "version_major": 2,
       "version_minor": 0
      },
      "text/plain": [
       "FloatProgress(value=0.0, bar_style='info', description='Progress:', layout=Layout(height='25px', width='50%'),…"
      ]
     },
     "metadata": {},
     "output_type": "display_data"
    }
   ],
   "source": [
    "# Total number of users vs users who churned\n",
    "total_users = df_valid.select(\"userId\").dropDuplicates().count()\n",
    "total_users_churned = df_valid.select([\"*\"]).where(df_valid.page == \"Cancellation Confirmation\").count()\n",
    "total_users_not_churned = total_users - total_users_churned"
   ]
  },
  {
   "cell_type": "code",
   "execution_count": 16,
   "metadata": {
    "execution": {
     "iopub.execute_input": "2023-02-11T15:27:24.683798Z",
     "iopub.status.busy": "2023-02-11T15:27:24.683562Z",
     "iopub.status.idle": "2023-02-11T15:27:24.737138Z",
     "shell.execute_reply": "2023-02-11T15:27:24.736281Z",
     "shell.execute_reply.started": "2023-02-11T15:27:24.683776Z"
    },
    "scrolled": true
   },
   "outputs": [
    {
     "data": {
      "application/vnd.jupyter.widget-view+json": {
       "model_id": "b290c41ac7d640c4871e2724595bf411",
       "version_major": 2,
       "version_minor": 0
      },
      "text/plain": [
       "VBox()"
      ]
     },
     "metadata": {},
     "output_type": "display_data"
    },
    {
     "data": {
      "application/vnd.jupyter.widget-view+json": {
       "model_id": "",
       "version_major": 2,
       "version_minor": 0
      },
      "text/plain": [
       "FloatProgress(value=0.0, bar_style='info', description='Progress:', layout=Layout(height='25px', width='50%'),…"
      ]
     },
     "metadata": {},
     "output_type": "display_data"
    },
    {
     "name": "stdout",
     "output_type": "stream",
     "text": [
      "Total Users Churned = 5003\n",
      "Total Users Not Churned = 17275"
     ]
    }
   ],
   "source": [
    "print('Total Users Churned =', total_users_churned)\n",
    "print('Total Users Not Churned =', total_users_not_churned)"
   ]
  },
  {
   "cell_type": "code",
   "execution_count": 52,
   "metadata": {
    "execution": {
     "iopub.execute_input": "2023-02-11T17:35:53.008668Z",
     "iopub.status.busy": "2023-02-11T17:35:53.008348Z",
     "iopub.status.idle": "2023-02-11T17:35:53.776563Z",
     "shell.execute_reply": "2023-02-11T17:35:53.775682Z",
     "shell.execute_reply.started": "2023-02-11T17:35:53.008641Z"
    },
    "tags": []
   },
   "outputs": [
    {
     "data": {
      "application/vnd.jupyter.widget-view+json": {
       "model_id": "528862b98e464a7ea0b938ef32a891a7",
       "version_major": 2,
       "version_minor": 0
      },
      "text/plain": [
       "VBox()"
      ]
     },
     "metadata": {},
     "output_type": "display_data"
    },
    {
     "data": {
      "application/vnd.jupyter.widget-view+json": {
       "model_id": "",
       "version_major": 2,
       "version_minor": 0
      },
      "text/plain": [
       "FloatProgress(value=0.0, bar_style='info', description='Progress:', layout=Layout(height='25px', width='50%'),…"
      ]
     },
     "metadata": {},
     "output_type": "display_data"
    },
    {
     "data": {
      "image/png": "[encoded data removed]",
      "text/plain": [
       "<IPython.core.display.Image object>"
      ]
     },
     "metadata": {},
     "output_type": "display_data"
    }
   ],
   "source": [
    "df_churn = spark.createDataFrame([['Total Users Churned',total_users_churned],['Total Users Not Churned',total_users_not_churned]], ['status','count']).toPandas()\n",
    "plt.clf()\n",
    "df_churn.plot(kind='bar', x='status',y='count', color=['b','r'], rot = 00,legend=None, figsize=(8,6))\n",
    "plt.title('Total users who churned vs Total users not churned')\n",
    "plt.xlabel('status')\n",
    "plt.ylabel('Number of Users')\n",
    "%matplot plt"
   ]
  },
  {
   "cell_type": "markdown",
   "metadata": {},
   "source": [
    "Based on the bar chart above, we can see that the data is imbalanced between users who churned and users who did not churn. Care will need to be taken when preparing the data for machine learning algorithm and evaluation of the results. "
   ]
  },
  {
   "cell_type": "markdown",
   "metadata": {},
   "source": [
    "#### Check for gender distribution"
   ]
  },
  {
   "cell_type": "code",
   "execution_count": 18,
   "metadata": {
    "execution": {
     "iopub.execute_input": "2023-02-11T15:27:25.004845Z",
     "iopub.status.busy": "2023-02-11T15:27:25.004603Z",
     "iopub.status.idle": "2023-02-11T15:27:25.071112Z",
     "shell.execute_reply": "2023-02-11T15:27:25.070122Z",
     "shell.execute_reply.started": "2023-02-11T15:27:25.004822Z"
    },
    "tags": []
   },
   "outputs": [
    {
     "data": {
      "application/vnd.jupyter.widget-view+json": {
       "model_id": "3e22df5f1c704d5ea068b4890a2507ac",
       "version_major": 2,
       "version_minor": 0
      },
      "text/plain": [
       "VBox()"
      ]
     },
     "metadata": {},
     "output_type": "display_data"
    },
    {
     "data": {
      "application/vnd.jupyter.widget-view+json": {
       "model_id": "",
       "version_major": 2,
       "version_minor": 0
      },
      "text/plain": [
       "FloatProgress(value=0.0, bar_style='info', description='Progress:', layout=Layout(height='25px', width='50%'),…"
      ]
     },
     "metadata": {},
     "output_type": "display_data"
    }
   ],
   "source": [
    "df_valid_gender = df_valid.select(\"userId\",\"gender\").dropDuplicates()"
   ]
  },
  {
   "cell_type": "code",
   "execution_count": 19,
   "metadata": {
    "execution": {
     "iopub.execute_input": "2023-02-11T15:27:25.072703Z",
     "iopub.status.busy": "2023-02-11T15:27:25.072450Z",
     "iopub.status.idle": "2023-02-11T15:29:00.657693Z",
     "shell.execute_reply": "2023-02-11T15:29:00.656586Z",
     "shell.execute_reply.started": "2023-02-11T15:27:25.072680Z"
    },
    "tags": []
   },
   "outputs": [
    {
     "data": {
      "application/vnd.jupyter.widget-view+json": {
       "model_id": "f4698cc350d542d4b86441e40ccd8f2a",
       "version_major": 2,
       "version_minor": 0
      },
      "text/plain": [
       "VBox()"
      ]
     },
     "metadata": {},
     "output_type": "display_data"
    },
    {
     "data": {
      "application/vnd.jupyter.widget-view+json": {
       "model_id": "",
       "version_major": 2,
       "version_minor": 0
      },
      "text/plain": [
       "FloatProgress(value=0.0, bar_style='info', description='Progress:', layout=Layout(height='25px', width='50%'),…"
      ]
     },
     "metadata": {},
     "output_type": "display_data"
    }
   ],
   "source": [
    "df_valid_female = df_valid_gender.where(df_valid_gender.gender == 'F').count()"
   ]
  },
  {
   "cell_type": "code",
   "execution_count": 20,
   "metadata": {
    "execution": {
     "iopub.execute_input": "2023-02-11T15:29:00.659883Z",
     "iopub.status.busy": "2023-02-11T15:29:00.659129Z",
     "iopub.status.idle": "2023-02-11T15:30:34.225445Z",
     "shell.execute_reply": "2023-02-11T15:30:34.224445Z",
     "shell.execute_reply.started": "2023-02-11T15:29:00.659838Z"
    },
    "tags": []
   },
   "outputs": [
    {
     "data": {
      "application/vnd.jupyter.widget-view+json": {
       "model_id": "988949786a13440f90e77cc8e7d54f73",
       "version_major": 2,
       "version_minor": 0
      },
      "text/plain": [
       "VBox()"
      ]
     },
     "metadata": {},
     "output_type": "display_data"
    },
    {
     "data": {
      "application/vnd.jupyter.widget-view+json": {
       "model_id": "",
       "version_major": 2,
       "version_minor": 0
      },
      "text/plain": [
       "FloatProgress(value=0.0, bar_style='info', description='Progress:', layout=Layout(height='25px', width='50%'),…"
      ]
     },
     "metadata": {},
     "output_type": "display_data"
    }
   ],
   "source": [
    "df_valid_male = df_valid_gender.where(df_valid_gender.gender == 'M').count()"
   ]
  },
  {
   "cell_type": "code",
   "execution_count": 21,
   "metadata": {
    "execution": {
     "iopub.execute_input": "2023-02-11T15:30:34.226720Z",
     "iopub.status.busy": "2023-02-11T15:30:34.226472Z",
     "iopub.status.idle": "2023-02-11T15:30:34.287934Z",
     "shell.execute_reply": "2023-02-11T15:30:34.286846Z",
     "shell.execute_reply.started": "2023-02-11T15:30:34.226695Z"
    }
   },
   "outputs": [
    {
     "data": {
      "application/vnd.jupyter.widget-view+json": {
       "model_id": "829f8d32f5d24d58b6b1f30623da3f70",
       "version_major": 2,
       "version_minor": 0
      },
      "text/plain": [
       "VBox()"
      ]
     },
     "metadata": {},
     "output_type": "display_data"
    },
    {
     "data": {
      "application/vnd.jupyter.widget-view+json": {
       "model_id": "",
       "version_major": 2,
       "version_minor": 0
      },
      "text/plain": [
       "FloatProgress(value=0.0, bar_style='info', description='Progress:', layout=Layout(height='25px', width='50%'),…"
      ]
     },
     "metadata": {},
     "output_type": "display_data"
    },
    {
     "name": "stdout",
     "output_type": "stream",
     "text": [
      "Number of Male Users = 11651\n",
      "Number of Female Users = 10626"
     ]
    }
   ],
   "source": [
    "print('Number of Male Users =', df_valid_male)\n",
    "print('Number of Female Users =', df_valid_female)"
   ]
  },
  {
   "cell_type": "code",
   "execution_count": 53,
   "metadata": {
    "execution": {
     "iopub.execute_input": "2023-02-11T17:36:12.032994Z",
     "iopub.status.busy": "2023-02-11T17:36:12.032668Z",
     "iopub.status.idle": "2023-02-11T17:36:12.811578Z",
     "shell.execute_reply": "2023-02-11T17:36:12.810664Z",
     "shell.execute_reply.started": "2023-02-11T17:36:12.032952Z"
    },
    "scrolled": false,
    "tags": []
   },
   "outputs": [
    {
     "data": {
      "application/vnd.jupyter.widget-view+json": {
       "model_id": "1c0d6b4fb33f415d9fe1638f632fc661",
       "version_major": 2,
       "version_minor": 0
      },
      "text/plain": [
       "VBox()"
      ]
     },
     "metadata": {},
     "output_type": "display_data"
    },
    {
     "data": {
      "application/vnd.jupyter.widget-view+json": {
       "model_id": "",
       "version_major": 2,
       "version_minor": 0
      },
      "text/plain": [
       "FloatProgress(value=0.0, bar_style='info', description='Progress:', layout=Layout(height='25px', width='50%'),…"
      ]
     },
     "metadata": {},
     "output_type": "display_data"
    },
    {
     "data": {
      "image/png": "[encoded data removed]",
      "text/plain": [
       "<IPython.core.display.Image object>"
      ]
     },
     "metadata": {},
     "output_type": "display_data"
    }
   ],
   "source": [
    "df_m_f = spark.createDataFrame([['Male',df_valid_male],['Female',df_valid_female]], ['Gender','Count']).toPandas()\n",
    "plt.clf()\n",
    "df_m_f.plot(kind='bar', x='Gender',y='Count', color=['b','r'], rot = 0, legend=None, figsize=(8,6))\n",
    "# plt.xticks(df_valid_page_count.page)\n",
    "# plt.xlim(1995, 2015)\n",
    "plt.title('Number of Users: Male vs Female')\n",
    "plt.xlabel('Gender')\n",
    "plt.ylabel('Number of Users')\n",
    "%matplot plt"
   ]
  },
  {
   "cell_type": "markdown",
   "metadata": {},
   "source": [
    "#### Check for average number of page visits per user (Total pages divide by total users)"
   ]
  },
  {
   "cell_type": "code",
   "execution_count": 23,
   "metadata": {
    "execution": {
     "iopub.execute_input": "2023-02-11T15:30:34.556313Z",
     "iopub.status.busy": "2023-02-11T15:30:34.555997Z",
     "iopub.status.idle": "2023-02-11T15:32:10.116480Z",
     "shell.execute_reply": "2023-02-11T15:32:10.115624Z",
     "shell.execute_reply.started": "2023-02-11T15:30:34.556285Z"
    },
    "tags": []
   },
   "outputs": [
    {
     "data": {
      "application/vnd.jupyter.widget-view+json": {
       "model_id": "c0e90966e37d4d4bbf0fdcc6b2f59ae9",
       "version_major": 2,
       "version_minor": 0
      },
      "text/plain": [
       "VBox()"
      ]
     },
     "metadata": {},
     "output_type": "display_data"
    },
    {
     "data": {
      "application/vnd.jupyter.widget-view+json": {
       "model_id": "",
       "version_major": 2,
       "version_minor": 0
      },
      "text/plain": [
       "FloatProgress(value=0.0, bar_style='info', description='Progress:', layout=Layout(height='25px', width='50%'),…"
      ]
     },
     "metadata": {},
     "output_type": "display_data"
    },
    {
     "name": "stdout",
     "output_type": "stream",
     "text": [
      "+--------------------+--------+\n",
      "|                page|   count|\n",
      "+--------------------+--------+\n",
      "|              Cancel|    5003|\n",
      "|               Login|  296350|\n",
      "|             Upgrade|   50507|\n",
      "|         Roll Advert|  385212|\n",
      "|     Add to Playlist|  597921|\n",
      "|                Help|  155100|\n",
      "|            Settings|  147074|\n",
      "|           Thumbs Up| 1151465|\n",
      "|    Submit Downgrade|    6494|\n",
      "|               About|   92759|\n",
      "|         Thumbs Down|  239212|\n",
      "|                Home| 1343102|\n",
      "|               Error|   25962|\n",
      "|Cancellation Conf...|    5003|\n",
      "|              Logout|  296005|\n",
      "|                null|26259199|\n",
      "|           Downgrade|  184240|\n",
      "|      Submit Upgrade|   15135|\n",
      "|            NextSong|20850272|\n",
      "|            Register|     802|\n",
      "+--------------------+--------+\n",
      "only showing top 20 rows"
     ]
    }
   ],
   "source": [
    "df_valid_page_count = df_valid.cube(\"page\").count()\n",
    "df_valid_page_count.show()"
   ]
  },
  {
   "cell_type": "code",
   "execution_count": 24,
   "metadata": {
    "execution": {
     "iopub.execute_input": "2023-02-11T15:32:10.118564Z",
     "iopub.status.busy": "2023-02-11T15:32:10.118201Z",
     "iopub.status.idle": "2023-02-11T15:33:47.676774Z",
     "shell.execute_reply": "2023-02-11T15:33:47.675682Z",
     "shell.execute_reply.started": "2023-02-11T15:32:10.118526Z"
    },
    "tags": []
   },
   "outputs": [
    {
     "data": {
      "application/vnd.jupyter.widget-view+json": {
       "model_id": "e3ef5d756d034f2281824a34b0c0698f",
       "version_major": 2,
       "version_minor": 0
      },
      "text/plain": [
       "VBox()"
      ]
     },
     "metadata": {},
     "output_type": "display_data"
    },
    {
     "data": {
      "application/vnd.jupyter.widget-view+json": {
       "model_id": "",
       "version_major": 2,
       "version_minor": 0
      },
      "text/plain": [
       "FloatProgress(value=0.0, bar_style='info', description='Progress:', layout=Layout(height='25px', width='50%'),…"
      ]
     },
     "metadata": {},
     "output_type": "display_data"
    },
    {
     "name": "stdout",
     "output_type": "stream",
     "text": [
      "+--------------------+--------+\n",
      "|                page|   count|\n",
      "+--------------------+--------+\n",
      "|              Cancel|    5003|\n",
      "|               Login|  296350|\n",
      "|             Upgrade|   50507|\n",
      "|         Roll Advert|  385212|\n",
      "|     Add to Playlist|  597921|\n",
      "|                Help|  155100|\n",
      "|            Settings|  147074|\n",
      "|           Thumbs Up| 1151465|\n",
      "|    Submit Downgrade|    6494|\n",
      "|               About|   92759|\n",
      "|         Thumbs Down|  239212|\n",
      "|                Home| 1343102|\n",
      "|               Error|   25962|\n",
      "|Cancellation Conf...|    5003|\n",
      "|              Logout|  296005|\n",
      "|           Downgrade|  184240|\n",
      "|      Submit Upgrade|   15135|\n",
      "|            NextSong|20850272|\n",
      "|            Register|     802|\n",
      "|       Save Settings|   29516|\n",
      "+--------------------+--------+\n",
      "only showing top 20 rows"
     ]
    }
   ],
   "source": [
    "# Drop Null page\n",
    "df_valid_page_count = df_valid_page_count.where(df_valid_page_count.page != 'null')\n",
    "df_valid_page_count.show()"
   ]
  },
  {
   "cell_type": "code",
   "execution_count": 25,
   "metadata": {
    "execution": {
     "iopub.execute_input": "2023-02-11T15:33:47.678392Z",
     "iopub.status.busy": "2023-02-11T15:33:47.678078Z",
     "iopub.status.idle": "2023-02-11T15:35:29.273261Z",
     "shell.execute_reply": "2023-02-11T15:35:29.272336Z",
     "shell.execute_reply.started": "2023-02-11T15:33:47.678356Z"
    },
    "tags": []
   },
   "outputs": [
    {
     "data": {
      "application/vnd.jupyter.widget-view+json": {
       "model_id": "dbd7d06baece4298af1fede2ffb3d771",
       "version_major": 2,
       "version_minor": 0
      },
      "text/plain": [
       "VBox()"
      ]
     },
     "metadata": {},
     "output_type": "display_data"
    },
    {
     "data": {
      "application/vnd.jupyter.widget-view+json": {
       "model_id": "",
       "version_major": 2,
       "version_minor": 0
      },
      "text/plain": [
       "FloatProgress(value=0.0, bar_style='info', description='Progress:', layout=Layout(height='25px', width='50%'),…"
      ]
     },
     "metadata": {},
     "output_type": "display_data"
    }
   ],
   "source": [
    "total_users = df_valid.select(\"userId\").dropDuplicates().count()"
   ]
  },
  {
   "cell_type": "code",
   "execution_count": 26,
   "metadata": {
    "execution": {
     "iopub.execute_input": "2023-02-11T15:35:29.275003Z",
     "iopub.status.busy": "2023-02-11T15:35:29.274650Z",
     "iopub.status.idle": "2023-02-11T15:37:14.848683Z",
     "shell.execute_reply": "2023-02-11T15:37:14.847944Z",
     "shell.execute_reply.started": "2023-02-11T15:35:29.274968Z"
    },
    "tags": []
   },
   "outputs": [
    {
     "data": {
      "application/vnd.jupyter.widget-view+json": {
       "model_id": "36ffab09c72c42bea58e36cb6a5f1353",
       "version_major": 2,
       "version_minor": 0
      },
      "text/plain": [
       "VBox()"
      ]
     },
     "metadata": {},
     "output_type": "display_data"
    },
    {
     "data": {
      "application/vnd.jupyter.widget-view+json": {
       "model_id": "",
       "version_major": 2,
       "version_minor": 0
      },
      "text/plain": [
       "FloatProgress(value=0.0, bar_style='info', description='Progress:', layout=Layout(height='25px', width='50%'),…"
      ]
     },
     "metadata": {},
     "output_type": "display_data"
    },
    {
     "name": "stdout",
     "output_type": "stream",
     "text": [
      "+--------------------+-------------------+\n",
      "|                page|              count|\n",
      "+--------------------+-------------------+\n",
      "|              Cancel|0.22457132597181076|\n",
      "|               Login|    13.302361073705|\n",
      "|             Upgrade| 2.2671245174611725|\n",
      "|         Roll Advert|  17.29113924050633|\n",
      "|     Add to Playlist| 26.839078911931054|\n",
      "|                Help|  6.962025316455696|\n",
      "|            Settings|  6.601759583445552|\n",
      "|           Thumbs Up| 51.686192656432354|\n",
      "|    Submit Downgrade| 0.2914983391686866|\n",
      "|               About| 4.1637041027022175|\n",
      "|         Thumbs Down|  10.73758865248227|\n",
      "|                Home|  60.28826645120747|\n",
      "|               Error| 1.1653649340156207|\n",
      "|Cancellation Conf...|0.22457132597181076|\n",
      "|              Logout| 13.286874943890833|\n",
      "|           Downgrade|  8.270042194092827|\n",
      "|      Submit Upgrade| 0.6793697818475626|\n",
      "|            NextSong|  935.9130981237095|\n",
      "|            Register|0.03599964090133764|\n",
      "|       Save Settings| 1.3248945147679325|\n",
      "+--------------------+-------------------+\n",
      "only showing top 20 rows"
     ]
    }
   ],
   "source": [
    "df_valid_page_count = df_valid_page_count.withColumn(\"count\",col(\"count\")/total_users)\n",
    "df_valid_page_count.show()"
   ]
  },
  {
   "cell_type": "code",
   "execution_count": 27,
   "metadata": {
    "execution": {
     "iopub.execute_input": "2023-02-11T15:37:14.849886Z",
     "iopub.status.busy": "2023-02-11T15:37:14.849649Z",
     "iopub.status.idle": "2023-02-11T15:38:52.418462Z",
     "shell.execute_reply": "2023-02-11T15:38:52.417554Z",
     "shell.execute_reply.started": "2023-02-11T15:37:14.849863Z"
    },
    "tags": []
   },
   "outputs": [
    {
     "data": {
      "application/vnd.jupyter.widget-view+json": {
       "model_id": "b825cbdd56b94dddafb734919f89e08f",
       "version_major": 2,
       "version_minor": 0
      },
      "text/plain": [
       "VBox()"
      ]
     },
     "metadata": {},
     "output_type": "display_data"
    },
    {
     "data": {
      "application/vnd.jupyter.widget-view+json": {
       "model_id": "",
       "version_major": 2,
       "version_minor": 0
      },
      "text/plain": [
       "FloatProgress(value=0.0, bar_style='info', description='Progress:', layout=Layout(height='25px', width='50%'),…"
      ]
     },
     "metadata": {},
     "output_type": "display_data"
    },
    {
     "name": "stdout",
     "output_type": "stream",
     "text": [
      "<AxesSubplot:xlabel='page'>"
     ]
    }
   ],
   "source": [
    "df_valid_page_count.toPandas().plot.bar(x='page', y='count') "
   ]
  },
  {
   "cell_type": "code",
   "execution_count": 28,
   "metadata": {
    "execution": {
     "iopub.execute_input": "2023-02-11T15:38:52.419818Z",
     "iopub.status.busy": "2023-02-11T15:38:52.419584Z",
     "iopub.status.idle": "2023-02-11T15:40:27.990895Z",
     "shell.execute_reply": "2023-02-11T15:40:27.990109Z",
     "shell.execute_reply.started": "2023-02-11T15:38:52.419795Z"
    },
    "tags": []
   },
   "outputs": [
    {
     "data": {
      "application/vnd.jupyter.widget-view+json": {
       "model_id": "51187ff0c4ee4278a79344b33e3c40b8",
       "version_major": 2,
       "version_minor": 0
      },
      "text/plain": [
       "VBox()"
      ]
     },
     "metadata": {},
     "output_type": "display_data"
    },
    {
     "data": {
      "application/vnd.jupyter.widget-view+json": {
       "model_id": "",
       "version_major": 2,
       "version_minor": 0
      },
      "text/plain": [
       "FloatProgress(value=0.0, bar_style='info', description='Progress:', layout=Layout(height='25px', width='50%'),…"
      ]
     },
     "metadata": {},
     "output_type": "display_data"
    },
    {
     "name": "stdout",
     "output_type": "stream",
     "text": [
      "+--------------------+-------------------+\n",
      "|                page|              count|\n",
      "+--------------------+-------------------+\n",
      "|              Cancel|0.22457132597181076|\n",
      "|               Login|    13.302361073705|\n",
      "|             Upgrade| 2.2671245174611725|\n",
      "|         Roll Advert|  17.29113924050633|\n",
      "|     Add to Playlist| 26.839078911931054|\n",
      "|                Help|  6.962025316455696|\n",
      "|            Settings|  6.601759583445552|\n",
      "|           Thumbs Up| 51.686192656432354|\n",
      "|    Submit Downgrade| 0.2914983391686866|\n",
      "|               About| 4.1637041027022175|\n",
      "|         Thumbs Down|  10.73758865248227|\n",
      "|                Home|  60.28826645120747|\n",
      "|               Error| 1.1653649340156207|\n",
      "|Cancellation Conf...|0.22457132597181076|\n",
      "|              Logout| 13.286874943890833|\n",
      "|           Downgrade|  8.270042194092827|\n",
      "|      Submit Upgrade| 0.6793697818475626|\n",
      "|            Register|0.03599964090133764|\n",
      "|       Save Settings| 1.3248945147679325|\n",
      "| Submit Registration|0.01799982045066882|\n",
      "+--------------------+-------------------+\n",
      "only showing top 20 rows"
     ]
    }
   ],
   "source": [
    "# Drop NextSong page\n",
    "df_valid_page_count = df_valid_page_count.where(df_valid_page_count.page != 'NextSong')\n",
    "df_valid_page_count.show()"
   ]
  },
  {
   "cell_type": "code",
   "execution_count": null,
   "metadata": {},
   "outputs": [],
   "source": [
    "df_valid_page_count.show()"
   ]
  },
  {
   "cell_type": "code",
   "execution_count": 65,
   "metadata": {
    "execution": {
     "iopub.execute_input": "2023-02-11T17:37:41.506066Z",
     "iopub.status.busy": "2023-02-11T17:37:41.505757Z",
     "iopub.status.idle": "2023-02-11T17:37:42.293159Z",
     "shell.execute_reply": "2023-02-11T17:37:42.292459Z",
     "shell.execute_reply.started": "2023-02-11T17:37:41.506040Z"
    },
    "tags": []
   },
   "outputs": [
    {
     "data": {
      "application/vnd.jupyter.widget-view+json": {
       "model_id": "74caa38d790e4f00b54c31f468f5ba23",
       "version_major": 2,
       "version_minor": 0
      },
      "text/plain": [
       "VBox()"
      ]
     },
     "metadata": {},
     "output_type": "display_data"
    },
    {
     "data": {
      "application/vnd.jupyter.widget-view+json": {
       "model_id": "",
       "version_major": 2,
       "version_minor": 0
      },
      "text/plain": [
       "FloatProgress(value=0.0, bar_style='info', description='Progress:', layout=Layout(height='25px', width='50%'),…"
      ]
     },
     "metadata": {},
     "output_type": "display_data"
    },
    {
     "data": {
      "image/png": "[encoded data removed]",
      "text/plain": [
       "<IPython.core.display.Image object>"
      ]
     },
     "metadata": {},
     "output_type": "display_data"
    }
   ],
   "source": [
    "plt.clf()\n",
    "df_valid_page_count.toPandas().plot(kind='bar', x='page',y='count', color='#bc5090', rot = 40, legend=None, figsize=(25,15))\n",
    "plt.title('Average number of page visits')\n",
    "plt.xlabel('Page')\n",
    "plt.ylabel('Number of Page Visits')\n",
    "%matplot plt"
   ]
  },
  {
   "cell_type": "markdown",
   "metadata": {},
   "source": [
    "#### Assumption\n",
    "\n",
    "Users' page visit varies a lot depending on the type of pages. Type of page visited by users may be one of the important features to be used for the machine learning algorithm to understand more on the user's behaviour. "
   ]
  },
  {
   "cell_type": "markdown",
   "metadata": {},
   "source": [
    "# Feature Engineering\n",
    "Once you've familiarized yourself with the data, build out the features you find promising to train your model on. To work with the full dataset, you can follow the following steps.\n",
    "- Write a script to extract the necessary features from the smaller subset of data\n",
    "- Ensure that your script is scalable, using the best practices discussed in Lesson 3\n",
    "- Try your script on the full data set, debugging your script if necessary\n",
    "\n",
    "If you are working in the classroom workspace, you can just extract features based on the small subset of data contained here. Be sure to transfer over this work to the larger dataset when you work on your Spark cluster."
   ]
  },
  {
   "cell_type": "code",
   "execution_count": null,
   "metadata": {},
   "outputs": [],
   "source": []
  },
  {
   "cell_type": "markdown",
   "metadata": {},
   "source": [
    "### Calculating Statistics by Day and Week"
   ]
  },
  {
   "cell_type": "code",
   "execution_count": 41,
   "metadata": {
    "execution": {
     "iopub.execute_input": "2023-02-11T07:58:30.258544Z",
     "iopub.status.busy": "2023-02-11T07:58:30.258309Z",
     "iopub.status.idle": "2023-02-11T07:58:30.324879Z",
     "shell.execute_reply": "2023-02-11T07:58:30.324122Z",
     "shell.execute_reply.started": "2023-02-11T07:58:30.258521Z"
    },
    "tags": []
   },
   "outputs": [
    {
     "data": {
      "application/vnd.jupyter.widget-view+json": {
       "model_id": "3a5a3ab2716c48d9a4d5f1ce24c8a68f",
       "version_major": 2,
       "version_minor": 0
      },
      "text/plain": [
       "VBox()"
      ]
     },
     "metadata": {},
     "output_type": "display_data"
    },
    {
     "data": {
      "application/vnd.jupyter.widget-view+json": {
       "model_id": "",
       "version_major": 2,
       "version_minor": 0
      },
      "text/plain": [
       "FloatProgress(value=0.0, bar_style='info', description='Progress:', layout=Layout(height='25px', width='50%'),…"
      ]
     },
     "metadata": {},
     "output_type": "display_data"
    }
   ],
   "source": [
    "# get_hour = udf(lambda x: datetime.datetime.fromtimestamp(x / 1000.0).hour)\n",
    "get_day = udf(lambda x: datetime.datetime.fromtimestamp(x / 1000.0).day)\n",
    "get_week = udf(lambda x: datetime.datetime.fromtimestamp(x / 1000.0).isocalendar()[1])\n",
    "get_dayweek = udf(lambda x: str(datetime.datetime.fromtimestamp(x / 1000.0).isocalendar()[2])+\"/\"+str(datetime.datetime.fromtimestamp(x / 1000.0).isocalendar()[1]))"
   ]
  },
  {
   "cell_type": "code",
   "execution_count": 42,
   "metadata": {
    "execution": {
     "iopub.execute_input": "2023-02-11T07:58:30.326412Z",
     "iopub.status.busy": "2023-02-11T07:58:30.326081Z",
     "iopub.status.idle": "2023-02-11T07:58:30.584650Z",
     "shell.execute_reply": "2023-02-11T07:58:30.583950Z",
     "shell.execute_reply.started": "2023-02-11T07:58:30.326376Z"
    },
    "tags": []
   },
   "outputs": [
    {
     "data": {
      "application/vnd.jupyter.widget-view+json": {
       "model_id": "13026bf08b6f4b16a904c883180d30aa",
       "version_major": 2,
       "version_minor": 0
      },
      "text/plain": [
       "VBox()"
      ]
     },
     "metadata": {},
     "output_type": "display_data"
    },
    {
     "data": {
      "application/vnd.jupyter.widget-view+json": {
       "model_id": "",
       "version_major": 2,
       "version_minor": 0
      },
      "text/plain": [
       "FloatProgress(value=0.0, bar_style='info', description='Progress:', layout=Layout(height='25px', width='50%'),…"
      ]
     },
     "metadata": {},
     "output_type": "display_data"
    }
   ],
   "source": [
    "# Date of registration\n",
    "df_valid = df_valid.withColumn(\"day_registration\", get_day(df_valid.registration).cast(IntegerType()))\n",
    "df_valid = df_valid.withColumn(\"week_registration\", get_week(df_valid.registration).cast(IntegerType()))"
   ]
  },
  {
   "cell_type": "code",
   "execution_count": 43,
   "metadata": {
    "execution": {
     "iopub.execute_input": "2023-02-11T07:58:30.585893Z",
     "iopub.status.busy": "2023-02-11T07:58:30.585611Z",
     "iopub.status.idle": "2023-02-11T07:58:30.849838Z",
     "shell.execute_reply": "2023-02-11T07:58:30.849003Z",
     "shell.execute_reply.started": "2023-02-11T07:58:30.585869Z"
    },
    "tags": []
   },
   "outputs": [
    {
     "data": {
      "application/vnd.jupyter.widget-view+json": {
       "model_id": "15a36ce477364182aed693f0d1187cd6",
       "version_major": 2,
       "version_minor": 0
      },
      "text/plain": [
       "VBox()"
      ]
     },
     "metadata": {},
     "output_type": "display_data"
    },
    {
     "data": {
      "application/vnd.jupyter.widget-view+json": {
       "model_id": "",
       "version_major": 2,
       "version_minor": 0
      },
      "text/plain": [
       "FloatProgress(value=0.0, bar_style='info', description='Progress:', layout=Layout(height='25px', width='50%'),…"
      ]
     },
     "metadata": {},
     "output_type": "display_data"
    }
   ],
   "source": [
    "# df_valid = df_valid.withColumn(\"hour\", get_hour(df_valid.ts))\n",
    "df_valid = df_valid.withColumn(\"day\", get_day(df_valid.ts).cast(IntegerType()))\n",
    "df_valid = df_valid.withColumn(\"week\", get_week(df_valid.ts).cast(IntegerType()))\n",
    "df_valid = df_valid.withColumn(\"day/week\", get_dayweek(df_valid.ts))"
   ]
  },
  {
   "cell_type": "code",
   "execution_count": 44,
   "metadata": {
    "execution": {
     "iopub.execute_input": "2023-02-11T07:58:30.851214Z",
     "iopub.status.busy": "2023-02-11T07:58:30.850951Z",
     "iopub.status.idle": "2023-02-11T07:58:30.908093Z",
     "shell.execute_reply": "2023-02-11T07:58:30.907196Z",
     "shell.execute_reply.started": "2023-02-11T07:58:30.851190Z"
    },
    "tags": []
   },
   "outputs": [
    {
     "data": {
      "application/vnd.jupyter.widget-view+json": {
       "model_id": "efd1e92a41c144c18409d160c4b8b286",
       "version_major": 2,
       "version_minor": 0
      },
      "text/plain": [
       "VBox()"
      ]
     },
     "metadata": {},
     "output_type": "display_data"
    },
    {
     "data": {
      "application/vnd.jupyter.widget-view+json": {
       "model_id": "",
       "version_major": 2,
       "version_minor": 0
      },
      "text/plain": [
       "FloatProgress(value=0.0, bar_style='info', description='Progress:', layout=Layout(height='25px', width='50%'),…"
      ]
     },
     "metadata": {},
     "output_type": "display_data"
    }
   ],
   "source": [
    "# Create column of how long since user registered\n",
    "df_valid = df_valid.withColumn(\"week_since_register\", (df_valid.week - df_valid.week_registration))"
   ]
  },
  {
   "cell_type": "markdown",
   "metadata": {},
   "source": [
    "## Assumptions"
   ]
  },
  {
   "cell_type": "markdown",
   "metadata": {},
   "source": [
    "To simplify the dataframe for Machine Learning Algorithm, the following columns are assumed to not play a role in detecting users behaviour whether they will churn or not:"
   ]
  },
  {
   "cell_type": "code",
   "execution_count": 45,
   "metadata": {
    "execution": {
     "iopub.execute_input": "2023-02-11T07:58:30.909789Z",
     "iopub.status.busy": "2023-02-11T07:58:30.909419Z",
     "iopub.status.idle": "2023-02-11T07:58:30.968308Z",
     "shell.execute_reply": "2023-02-11T07:58:30.967514Z",
     "shell.execute_reply.started": "2023-02-11T07:58:30.909752Z"
    },
    "tags": []
   },
   "outputs": [
    {
     "data": {
      "application/vnd.jupyter.widget-view+json": {
       "model_id": "2d4a35b998c24de0822fc4ad5ee4090e",
       "version_major": 2,
       "version_minor": 0
      },
      "text/plain": [
       "VBox()"
      ]
     },
     "metadata": {},
     "output_type": "display_data"
    },
    {
     "data": {
      "application/vnd.jupyter.widget-view+json": {
       "model_id": "",
       "version_major": 2,
       "version_minor": 0
      },
      "text/plain": [
       "FloatProgress(value=0.0, bar_style='info', description='Progress:', layout=Layout(height='25px', width='50%'),…"
      ]
     },
     "metadata": {},
     "output_type": "display_data"
    }
   ],
   "source": [
    "col_drop = ('artist','auth','firstName','gender','lastName','location','method','sessionId','song','status','userAgent','registration','ts','length')"
   ]
  },
  {
   "cell_type": "markdown",
   "metadata": {},
   "source": [
    "## Remove unnecessary columns"
   ]
  },
  {
   "cell_type": "code",
   "execution_count": 46,
   "metadata": {
    "execution": {
     "iopub.execute_input": "2023-02-11T07:58:30.969983Z",
     "iopub.status.busy": "2023-02-11T07:58:30.969629Z",
     "iopub.status.idle": "2023-02-11T07:58:31.025799Z",
     "shell.execute_reply": "2023-02-11T07:58:31.025074Z",
     "shell.execute_reply.started": "2023-02-11T07:58:30.969948Z"
    },
    "tags": []
   },
   "outputs": [
    {
     "data": {
      "application/vnd.jupyter.widget-view+json": {
       "model_id": "af92987939e547f892a417bdcf2f0340",
       "version_major": 2,
       "version_minor": 0
      },
      "text/plain": [
       "VBox()"
      ]
     },
     "metadata": {},
     "output_type": "display_data"
    },
    {
     "data": {
      "application/vnd.jupyter.widget-view+json": {
       "model_id": "",
       "version_major": 2,
       "version_minor": 0
      },
      "text/plain": [
       "FloatProgress(value=0.0, bar_style='info', description='Progress:', layout=Layout(height='25px', width='50%'),…"
      ]
     },
     "metadata": {},
     "output_type": "display_data"
    }
   ],
   "source": [
    "# Drop columns in dataframe\n",
    "df_valid = df_valid.drop(*col_drop)"
   ]
  },
  {
   "cell_type": "code",
   "execution_count": 47,
   "metadata": {
    "execution": {
     "iopub.execute_input": "2023-02-11T07:58:31.027031Z",
     "iopub.status.busy": "2023-02-11T07:58:31.026792Z",
     "iopub.status.idle": "2023-02-11T07:58:31.081926Z",
     "shell.execute_reply": "2023-02-11T07:58:31.081191Z",
     "shell.execute_reply.started": "2023-02-11T07:58:31.027007Z"
    },
    "scrolled": true,
    "tags": []
   },
   "outputs": [
    {
     "data": {
      "application/vnd.jupyter.widget-view+json": {
       "model_id": "a7af58f98cba46dc934214860aec3878",
       "version_major": 2,
       "version_minor": 0
      },
      "text/plain": [
       "VBox()"
      ]
     },
     "metadata": {},
     "output_type": "display_data"
    },
    {
     "data": {
      "application/vnd.jupyter.widget-view+json": {
       "model_id": "",
       "version_major": 2,
       "version_minor": 0
      },
      "text/plain": [
       "FloatProgress(value=0.0, bar_style='info', description='Progress:', layout=Layout(height='25px', width='50%'),…"
      ]
     },
     "metadata": {},
     "output_type": "display_data"
    },
    {
     "name": "stdout",
     "output_type": "stream",
     "text": [
      "root\n",
      " |-- itemInSession: long (nullable = true)\n",
      " |-- level: string (nullable = true)\n",
      " |-- page: string (nullable = true)\n",
      " |-- userId: string (nullable = true)\n",
      " |-- day_registration: integer (nullable = true)\n",
      " |-- week_registration: integer (nullable = true)\n",
      " |-- day: integer (nullable = true)\n",
      " |-- week: integer (nullable = true)\n",
      " |-- day/week: string (nullable = true)\n",
      " |-- week_since_register: integer (nullable = true)"
     ]
    }
   ],
   "source": [
    "df_valid.printSchema()"
   ]
  },
  {
   "cell_type": "markdown",
   "metadata": {},
   "source": [
    "Create new features using windows udf. Count number of page visits. "
   ]
  },
  {
   "cell_type": "code",
   "execution_count": 48,
   "metadata": {
    "execution": {
     "iopub.execute_input": "2023-02-11T07:58:31.083146Z",
     "iopub.status.busy": "2023-02-11T07:58:31.082910Z",
     "iopub.status.idle": "2023-02-11T08:00:16.637466Z",
     "shell.execute_reply": "2023-02-11T08:00:16.636661Z",
     "shell.execute_reply.started": "2023-02-11T07:58:31.083122Z"
    },
    "tags": []
   },
   "outputs": [
    {
     "data": {
      "application/vnd.jupyter.widget-view+json": {
       "model_id": "85b9b1b355c948aebfb2a5206f20c06e",
       "version_major": 2,
       "version_minor": 0
      },
      "text/plain": [
       "VBox()"
      ]
     },
     "metadata": {},
     "output_type": "display_data"
    },
    {
     "data": {
      "application/vnd.jupyter.widget-view+json": {
       "model_id": "",
       "version_major": 2,
       "version_minor": 0
      },
      "text/plain": [
       "FloatProgress(value=0.0, bar_style='info', description='Progress:', layout=Layout(height='25px', width='50%'),…"
      ]
     },
     "metadata": {},
     "output_type": "display_data"
    }
   ],
   "source": [
    "# Create list of columns\n",
    "pages = df_valid.select(\"page\").dropDuplicates().sort(\"page\").toPandas()\n",
    "\n",
    "# Iterate each column and convert each page to integer \n",
    "for i in pages['page']:\n",
    "    flag = udf(lambda x: 1 if x == i else 0, IntegerType())\n",
    "    df_valid = df_valid.withColumn(\"page_\" + i, flag(\"page\"))"
   ]
  },
  {
   "cell_type": "code",
   "execution_count": 49,
   "metadata": {
    "execution": {
     "iopub.execute_input": "2023-02-11T08:00:16.642537Z",
     "iopub.status.busy": "2023-02-11T08:00:16.642280Z",
     "iopub.status.idle": "2023-02-11T08:00:16.906960Z",
     "shell.execute_reply": "2023-02-11T08:00:16.906158Z",
     "shell.execute_reply.started": "2023-02-11T08:00:16.642514Z"
    },
    "tags": []
   },
   "outputs": [
    {
     "data": {
      "application/vnd.jupyter.widget-view+json": {
       "model_id": "9ab51870a6474124ac2ec5292b061916",
       "version_major": 2,
       "version_minor": 0
      },
      "text/plain": [
       "VBox()"
      ]
     },
     "metadata": {},
     "output_type": "display_data"
    },
    {
     "data": {
      "application/vnd.jupyter.widget-view+json": {
       "model_id": "",
       "version_major": 2,
       "version_minor": 0
      },
      "text/plain": [
       "FloatProgress(value=0.0, bar_style='info', description='Progress:', layout=Layout(height='25px', width='50%'),…"
      ]
     },
     "metadata": {},
     "output_type": "display_data"
    }
   ],
   "source": [
    "# Calculate sum of page visits for each user\n",
    "df_1 = df_valid.groupBy(\"userId\").sum('page_About', 'page_Add Friend',\n",
    "                                          'page_Add to Playlist', 'page_Cancel', 'page_Cancellation Confirmation',\n",
    "                                          'page_Downgrade', 'page_Error', 'page_Help', 'page_Home', 'page_Logout',\n",
    "                                          'page_NextSong', 'page_Roll Advert', 'page_Save Settings',\n",
    "                                          'page_Settings', 'page_Submit Downgrade', 'page_Submit Upgrade',\n",
    "                                          'page_Thumbs Down', 'page_Thumbs Up', 'page_Upgrade')"
   ]
  },
  {
   "cell_type": "markdown",
   "metadata": {},
   "source": [
    "## Calculate Variance of page for each userId"
   ]
  },
  {
   "cell_type": "markdown",
   "metadata": {},
   "source": [
    "References:\n",
    "\n",
    "https://datascienceparichay.com/article/pyspark-variance-of-dataframe-column/\n",
    "\n",
    "https://stackoverflow.com/questions/31960750/pyspark-dataframe-groupby-and-compute-variance-of-a-column\n",
    "\n",
    "https://www.analyticsvidhya.com/blog/2021/11/introduction-to-aggregation-functions-in-apache-spark/"
   ]
  },
  {
   "cell_type": "code",
   "execution_count": 50,
   "metadata": {
    "execution": {
     "iopub.execute_input": "2023-02-11T08:00:16.909881Z",
     "iopub.status.busy": "2023-02-11T08:00:16.909578Z",
     "iopub.status.idle": "2023-02-11T08:00:17.170891Z",
     "shell.execute_reply": "2023-02-11T08:00:17.170180Z",
     "shell.execute_reply.started": "2023-02-11T08:00:16.909856Z"
    },
    "tags": []
   },
   "outputs": [
    {
     "data": {
      "application/vnd.jupyter.widget-view+json": {
       "model_id": "6aa753fe7b0d41d5a27ec18971903b79",
       "version_major": 2,
       "version_minor": 0
      },
      "text/plain": [
       "VBox()"
      ]
     },
     "metadata": {},
     "output_type": "display_data"
    },
    {
     "data": {
      "application/vnd.jupyter.widget-view+json": {
       "model_id": "",
       "version_major": 2,
       "version_minor": 0
      },
      "text/plain": [
       "FloatProgress(value=0.0, bar_style='info', description='Progress:', layout=Layout(height='25px', width='50%'),…"
      ]
     },
     "metadata": {},
     "output_type": "display_data"
    }
   ],
   "source": [
    "# Sum all page count for each day, for each user\n",
    "df_var = df_valid.groupBy([\"userId\",\"day/week\"]).sum('page_About', 'page_Add Friend',\n",
    "                                          'page_Add to Playlist', 'page_Cancel', 'page_Cancellation Confirmation',\n",
    "                                          'page_Downgrade', 'page_Error', 'page_Help', 'page_Home', 'page_Logout',\n",
    "                                          'page_NextSong', 'page_Roll Advert', 'page_Save Settings',\n",
    "                                          'page_Settings', 'page_Submit Downgrade', 'page_Submit Upgrade',\n",
    "                                          'page_Thumbs Down', 'page_Thumbs Up', 'page_Upgrade').sort(desc(\"userId\"))"
   ]
  },
  {
   "cell_type": "code",
   "execution_count": 51,
   "metadata": {
    "execution": {
     "iopub.execute_input": "2023-02-11T08:00:17.172503Z",
     "iopub.status.busy": "2023-02-11T08:00:17.172152Z",
     "iopub.status.idle": "2023-02-11T08:00:17.227905Z",
     "shell.execute_reply": "2023-02-11T08:00:17.227238Z",
     "shell.execute_reply.started": "2023-02-11T08:00:17.172465Z"
    },
    "tags": []
   },
   "outputs": [
    {
     "data": {
      "application/vnd.jupyter.widget-view+json": {
       "model_id": "64c12ffb86214b8188b3ef750f07ebc4",
       "version_major": 2,
       "version_minor": 0
      },
      "text/plain": [
       "VBox()"
      ]
     },
     "metadata": {},
     "output_type": "display_data"
    },
    {
     "data": {
      "application/vnd.jupyter.widget-view+json": {
       "model_id": "",
       "version_major": 2,
       "version_minor": 0
      },
      "text/plain": [
       "FloatProgress(value=0.0, bar_style='info', description='Progress:', layout=Layout(height='25px', width='50%'),…"
      ]
     },
     "metadata": {},
     "output_type": "display_data"
    }
   ],
   "source": [
    "# Extract list of column names from df_var\n",
    "numeric_col_list = ['sum(page_About)',\n",
    " 'sum(page_Add Friend)',\n",
    " 'sum(page_Add to Playlist)',\n",
    " 'sum(page_Cancel)',\n",
    " 'sum(page_Cancellation Confirmation)',\n",
    " 'sum(page_Downgrade)',\n",
    " 'sum(page_Error)',\n",
    " 'sum(page_Help)',\n",
    " 'sum(page_Home)',\n",
    " 'sum(page_Logout)',\n",
    " 'sum(page_NextSong)',\n",
    " 'sum(page_Roll Advert)',\n",
    " 'sum(page_Save Settings)',\n",
    " 'sum(page_Settings)',\n",
    " 'sum(page_Submit Downgrade)',\n",
    " 'sum(page_Submit Upgrade)',\n",
    " 'sum(page_Thumbs Down)',\n",
    " 'sum(page_Thumbs Up)',\n",
    " 'sum(page_Upgrade)']"
   ]
  },
  {
   "cell_type": "code",
   "execution_count": 52,
   "metadata": {
    "execution": {
     "iopub.execute_input": "2023-02-11T08:00:17.229385Z",
     "iopub.status.busy": "2023-02-11T08:00:17.229053Z",
     "iopub.status.idle": "2023-02-11T08:00:17.490617Z",
     "shell.execute_reply": "2023-02-11T08:00:17.489864Z",
     "shell.execute_reply.started": "2023-02-11T08:00:17.229350Z"
    },
    "tags": []
   },
   "outputs": [
    {
     "data": {
      "application/vnd.jupyter.widget-view+json": {
       "model_id": "d511fa22c8ce4c9497a45916030abc18",
       "version_major": 2,
       "version_minor": 0
      },
      "text/plain": [
       "VBox()"
      ]
     },
     "metadata": {},
     "output_type": "display_data"
    },
    {
     "data": {
      "application/vnd.jupyter.widget-view+json": {
       "model_id": "",
       "version_major": 2,
       "version_minor": 0
      },
      "text/plain": [
       "FloatProgress(value=0.0, bar_style='info', description='Progress:', layout=Layout(height='25px', width='50%'),…"
      ]
     },
     "metadata": {},
     "output_type": "display_data"
    }
   ],
   "source": [
    "# Sum all page counts for each day, for each user\n",
    "df_var = df_var.withColumn('total_pages', sum([F.col(c) for c in numeric_col_list]))\n",
    "df_var = df_var.select('userId', 'total_pages')"
   ]
  },
  {
   "cell_type": "code",
   "execution_count": 53,
   "metadata": {
    "execution": {
     "iopub.execute_input": "2023-02-11T08:00:17.492303Z",
     "iopub.status.busy": "2023-02-11T08:00:17.491939Z",
     "iopub.status.idle": "2023-02-11T08:03:47.329383Z",
     "shell.execute_reply": "2023-02-11T08:03:47.328646Z",
     "shell.execute_reply.started": "2023-02-11T08:00:17.492266Z"
    },
    "tags": []
   },
   "outputs": [
    {
     "data": {
      "application/vnd.jupyter.widget-view+json": {
       "model_id": "d05a7ef8b56f44598cd4717594a4efc0",
       "version_major": 2,
       "version_minor": 0
      },
      "text/plain": [
       "VBox()"
      ]
     },
     "metadata": {},
     "output_type": "display_data"
    },
    {
     "data": {
      "application/vnd.jupyter.widget-view+json": {
       "model_id": "",
       "version_major": 2,
       "version_minor": 0
      },
      "text/plain": [
       "FloatProgress(value=0.0, bar_style='info', description='Progress:', layout=Layout(height='25px', width='50%'),…"
      ]
     },
     "metadata": {},
     "output_type": "display_data"
    },
    {
     "name": "stdout",
     "output_type": "stream",
     "text": [
      "    userId  var_total_pages\n",
      "0  1999996      1644.062500\n",
      "1  1999908      2905.168347\n",
      "2  1999905      1006.769231\n",
      "3  1999892      2808.694444\n",
      "4  1999848      2517.458669\n",
      "5  1999847      5313.800000\n",
      "6  1999781      9283.938462\n",
      "7  1999720     13242.746439\n",
      "8  1999691      6279.382353\n",
      "9  1999668              NaN"
     ]
    }
   ],
   "source": [
    "# Calculate the variance for each user\n",
    "df_var = df_var.groupby('userId').agg(variance('total_pages').alias('var_total_pages'))\n",
    "df_var.limit(10).toPandas()"
   ]
  },
  {
   "cell_type": "markdown",
   "metadata": {},
   "source": [
    "Drop page_Cancel because it has the same page visit as page_Cancellation Confirmation"
   ]
  },
  {
   "cell_type": "markdown",
   "metadata": {},
   "source": [
    "Create another dataframe that counts the total number of days per user. Then calculate the average page visit per person (Excluding cancellation confirmation which will be used as target feature)"
   ]
  },
  {
   "cell_type": "code",
   "execution_count": 54,
   "metadata": {
    "execution": {
     "iopub.execute_input": "2023-02-11T08:03:47.330967Z",
     "iopub.status.busy": "2023-02-11T08:03:47.330621Z",
     "iopub.status.idle": "2023-02-11T08:03:47.588556Z",
     "shell.execute_reply": "2023-02-11T08:03:47.587738Z",
     "shell.execute_reply.started": "2023-02-11T08:03:47.330930Z"
    },
    "tags": []
   },
   "outputs": [
    {
     "data": {
      "application/vnd.jupyter.widget-view+json": {
       "model_id": "bbe60aab4a7645f2bdfc2665a938294e",
       "version_major": 2,
       "version_minor": 0
      },
      "text/plain": [
       "VBox()"
      ]
     },
     "metadata": {},
     "output_type": "display_data"
    },
    {
     "data": {
      "application/vnd.jupyter.widget-view+json": {
       "model_id": "",
       "version_major": 2,
       "version_minor": 0
      },
      "text/plain": [
       "FloatProgress(value=0.0, bar_style='info', description='Progress:', layout=Layout(height='25px', width='50%'),…"
      ]
     },
     "metadata": {},
     "output_type": "display_data"
    }
   ],
   "source": [
    "# Count the total number of days for each user\n",
    "df_2 = df_valid.groupBy(\"userId\").agg(countDistinct('day/week').alias('total_days'))"
   ]
  },
  {
   "cell_type": "code",
   "execution_count": 55,
   "metadata": {
    "execution": {
     "iopub.execute_input": "2023-02-11T08:03:47.589855Z",
     "iopub.status.busy": "2023-02-11T08:03:47.589589Z",
     "iopub.status.idle": "2023-02-11T08:03:47.851381Z",
     "shell.execute_reply": "2023-02-11T08:03:47.850617Z",
     "shell.execute_reply.started": "2023-02-11T08:03:47.589832Z"
    },
    "tags": []
   },
   "outputs": [
    {
     "data": {
      "application/vnd.jupyter.widget-view+json": {
       "model_id": "a6d28044937640cf9a951779327947ab",
       "version_major": 2,
       "version_minor": 0
      },
      "text/plain": [
       "VBox()"
      ]
     },
     "metadata": {},
     "output_type": "display_data"
    },
    {
     "data": {
      "application/vnd.jupyter.widget-view+json": {
       "model_id": "",
       "version_major": 2,
       "version_minor": 0
      },
      "text/plain": [
       "FloatProgress(value=0.0, bar_style='info', description='Progress:', layout=Layout(height='25px', width='50%'),…"
      ]
     },
     "metadata": {},
     "output_type": "display_data"
    }
   ],
   "source": [
    "# Join the number of days to the dataframe\n",
    "df_ml = df_1.join(df_2, ['userId'], how = 'inner')"
   ]
  },
  {
   "cell_type": "code",
   "execution_count": 56,
   "metadata": {
    "execution": {
     "iopub.execute_input": "2023-02-11T08:03:47.853070Z",
     "iopub.status.busy": "2023-02-11T08:03:47.852719Z",
     "iopub.status.idle": "2023-02-11T08:03:47.911718Z",
     "shell.execute_reply": "2023-02-11T08:03:47.910864Z",
     "shell.execute_reply.started": "2023-02-11T08:03:47.853033Z"
    },
    "tags": []
   },
   "outputs": [
    {
     "data": {
      "application/vnd.jupyter.widget-view+json": {
       "model_id": "16d4b50a793f44589d2a7476e7633a3c",
       "version_major": 2,
       "version_minor": 0
      },
      "text/plain": [
       "VBox()"
      ]
     },
     "metadata": {},
     "output_type": "display_data"
    },
    {
     "data": {
      "application/vnd.jupyter.widget-view+json": {
       "model_id": "",
       "version_major": 2,
       "version_minor": 0
      },
      "text/plain": [
       "FloatProgress(value=0.0, bar_style='info', description='Progress:', layout=Layout(height='25px', width='50%'),…"
      ]
     },
     "metadata": {},
     "output_type": "display_data"
    }
   ],
   "source": [
    "cols = df_ml.columns"
   ]
  },
  {
   "cell_type": "code",
   "execution_count": 57,
   "metadata": {
    "execution": {
     "iopub.execute_input": "2023-02-11T08:03:47.913323Z",
     "iopub.status.busy": "2023-02-11T08:03:47.912953Z",
     "iopub.status.idle": "2023-02-11T08:03:47.969517Z",
     "shell.execute_reply": "2023-02-11T08:03:47.968822Z",
     "shell.execute_reply.started": "2023-02-11T08:03:47.913284Z"
    },
    "tags": []
   },
   "outputs": [
    {
     "data": {
      "application/vnd.jupyter.widget-view+json": {
       "model_id": "f43c963fc8ec474bbe17a7024cdec617",
       "version_major": 2,
       "version_minor": 0
      },
      "text/plain": [
       "VBox()"
      ]
     },
     "metadata": {},
     "output_type": "display_data"
    },
    {
     "data": {
      "application/vnd.jupyter.widget-view+json": {
       "model_id": "",
       "version_major": 2,
       "version_minor": 0
      },
      "text/plain": [
       "FloatProgress(value=0.0, bar_style='info', description='Progress:', layout=Layout(height='25px', width='50%'),…"
      ]
     },
     "metadata": {},
     "output_type": "display_data"
    },
    {
     "name": "stdout",
     "output_type": "stream",
     "text": [
      "['userId', 'sum(page_About)', 'sum(page_Add Friend)', 'sum(page_Add to Playlist)', 'sum(page_Cancel)', 'sum(page_Cancellation Confirmation)', 'sum(page_Downgrade)', 'sum(page_Error)', 'sum(page_Help)', 'sum(page_Home)', 'sum(page_Logout)', 'sum(page_NextSong)', 'sum(page_Roll Advert)', 'sum(page_Save Settings)', 'sum(page_Settings)', 'sum(page_Submit Downgrade)', 'sum(page_Submit Upgrade)', 'sum(page_Thumbs Down)', 'sum(page_Thumbs Up)', 'sum(page_Upgrade)', 'total_days']"
     ]
    }
   ],
   "source": [
    "cols"
   ]
  },
  {
   "cell_type": "code",
   "execution_count": 58,
   "metadata": {
    "execution": {
     "iopub.execute_input": "2023-02-11T08:03:47.970796Z",
     "iopub.status.busy": "2023-02-11T08:03:47.970551Z",
     "iopub.status.idle": "2023-02-11T08:03:48.741064Z",
     "shell.execute_reply": "2023-02-11T08:03:48.740283Z",
     "shell.execute_reply.started": "2023-02-11T08:03:47.970771Z"
    },
    "tags": []
   },
   "outputs": [
    {
     "data": {
      "application/vnd.jupyter.widget-view+json": {
       "model_id": "f16f6356d5554848a84f56ea6e0c01ae",
       "version_major": 2,
       "version_minor": 0
      },
      "text/plain": [
       "VBox()"
      ]
     },
     "metadata": {},
     "output_type": "display_data"
    },
    {
     "data": {
      "application/vnd.jupyter.widget-view+json": {
       "model_id": "",
       "version_major": 2,
       "version_minor": 0
      },
      "text/plain": [
       "FloatProgress(value=0.0, bar_style='info', description='Progress:', layout=Layout(height='25px', width='50%'),…"
      ]
     },
     "metadata": {},
     "output_type": "display_data"
    }
   ],
   "source": [
    "for i in cols:\n",
    "    df_ml = df_ml.withColumn(i+'_avg', df_ml[i] / df_ml['total_days'])"
   ]
  },
  {
   "cell_type": "code",
   "execution_count": 59,
   "metadata": {
    "execution": {
     "iopub.execute_input": "2023-02-11T08:03:48.742435Z",
     "iopub.status.busy": "2023-02-11T08:03:48.742195Z",
     "iopub.status.idle": "2023-02-11T08:03:49.002424Z",
     "shell.execute_reply": "2023-02-11T08:03:49.001590Z",
     "shell.execute_reply.started": "2023-02-11T08:03:48.742410Z"
    },
    "tags": []
   },
   "outputs": [
    {
     "data": {
      "application/vnd.jupyter.widget-view+json": {
       "model_id": "2b94701cd3654092abf9c78dfd4bbb54",
       "version_major": 2,
       "version_minor": 0
      },
      "text/plain": [
       "VBox()"
      ]
     },
     "metadata": {},
     "output_type": "display_data"
    },
    {
     "data": {
      "application/vnd.jupyter.widget-view+json": {
       "model_id": "",
       "version_major": 2,
       "version_minor": 0
      },
      "text/plain": [
       "FloatProgress(value=0.0, bar_style='info', description='Progress:', layout=Layout(height='25px', width='50%'),…"
      ]
     },
     "metadata": {},
     "output_type": "display_data"
    }
   ],
   "source": [
    "# Join the variance to the dataframe\n",
    "df_ml = df_ml.join(df_var, ['userId'], how = 'inner')"
   ]
  },
  {
   "cell_type": "code",
   "execution_count": 60,
   "metadata": {
    "execution": {
     "iopub.execute_input": "2023-02-11T08:03:49.003990Z",
     "iopub.status.busy": "2023-02-11T08:03:49.003649Z",
     "iopub.status.idle": "2023-02-11T08:03:49.265631Z",
     "shell.execute_reply": "2023-02-11T08:03:49.264744Z",
     "shell.execute_reply.started": "2023-02-11T08:03:49.003953Z"
    },
    "tags": []
   },
   "outputs": [
    {
     "data": {
      "application/vnd.jupyter.widget-view+json": {
       "model_id": "7073e8886e7f4d0c866cef12423fb5ed",
       "version_major": 2,
       "version_minor": 0
      },
      "text/plain": [
       "VBox()"
      ]
     },
     "metadata": {},
     "output_type": "display_data"
    },
    {
     "data": {
      "application/vnd.jupyter.widget-view+json": {
       "model_id": "",
       "version_major": 2,
       "version_minor": 0
      },
      "text/plain": [
       "FloatProgress(value=0.0, bar_style='info', description='Progress:', layout=Layout(height='25px', width='50%'),…"
      ]
     },
     "metadata": {},
     "output_type": "display_data"
    }
   ],
   "source": [
    "# Replace NAN with 0. \n",
    "df_ml = df_ml.fillna(value=0)"
   ]
  },
  {
   "cell_type": "markdown",
   "metadata": {},
   "source": [
    "Remove unnecessary columns and rearrange columns."
   ]
  },
  {
   "cell_type": "code",
   "execution_count": 61,
   "metadata": {
    "execution": {
     "iopub.execute_input": "2023-02-11T08:03:49.266927Z",
     "iopub.status.busy": "2023-02-11T08:03:49.266699Z",
     "iopub.status.idle": "2023-02-11T08:03:49.530152Z",
     "shell.execute_reply": "2023-02-11T08:03:49.529228Z",
     "shell.execute_reply.started": "2023-02-11T08:03:49.266905Z"
    },
    "tags": []
   },
   "outputs": [
    {
     "data": {
      "application/vnd.jupyter.widget-view+json": {
       "model_id": "31ec41f427494ac59bc564aea0765860",
       "version_major": 2,
       "version_minor": 0
      },
      "text/plain": [
       "VBox()"
      ]
     },
     "metadata": {},
     "output_type": "display_data"
    },
    {
     "data": {
      "application/vnd.jupyter.widget-view+json": {
       "model_id": "",
       "version_major": 2,
       "version_minor": 0
      },
      "text/plain": [
       "FloatProgress(value=0.0, bar_style='info', description='Progress:', layout=Layout(height='25px', width='50%'),…"
      ]
     },
     "metadata": {},
     "output_type": "display_data"
    }
   ],
   "source": [
    "df_ml = df_ml.select(['sum(page_About)_avg',\n",
    " 'sum(page_Add Friend)_avg',\n",
    " 'sum(page_Add to Playlist)_avg',\n",
    " 'sum(page_Downgrade)_avg',\n",
    " 'sum(page_Error)_avg',\n",
    " 'sum(page_Help)_avg',\n",
    " 'sum(page_Home)_avg',\n",
    " 'sum(page_Logout)_avg',\n",
    " 'sum(page_NextSong)_avg',\n",
    " 'sum(page_Roll Advert)_avg',\n",
    " 'sum(page_Save Settings)_avg',\n",
    " 'sum(page_Settings)_avg',\n",
    " 'sum(page_Submit Downgrade)_avg',\n",
    " 'sum(page_Submit Upgrade)_avg',\n",
    " 'sum(page_Thumbs Down)_avg',\n",
    " 'sum(page_Thumbs Up)_avg',\n",
    " 'sum(page_Upgrade)_avg', 'var_total_pages', col(\"sum(page_Cancellation Confirmation)\").alias(\"label\")])"
   ]
  },
  {
   "cell_type": "code",
   "execution_count": 62,
   "metadata": {
    "execution": {
     "iopub.execute_input": "2023-02-11T08:03:49.531770Z",
     "iopub.status.busy": "2023-02-11T08:03:49.531417Z",
     "iopub.status.idle": "2023-02-11T08:03:49.588428Z",
     "shell.execute_reply": "2023-02-11T08:03:49.587552Z",
     "shell.execute_reply.started": "2023-02-11T08:03:49.531733Z"
    },
    "tags": []
   },
   "outputs": [
    {
     "data": {
      "application/vnd.jupyter.widget-view+json": {
       "model_id": "3ef664aba5ba4a66bcb8763807cf22ed",
       "version_major": 2,
       "version_minor": 0
      },
      "text/plain": [
       "VBox()"
      ]
     },
     "metadata": {},
     "output_type": "display_data"
    },
    {
     "data": {
      "application/vnd.jupyter.widget-view+json": {
       "model_id": "",
       "version_major": 2,
       "version_minor": 0
      },
      "text/plain": [
       "FloatProgress(value=0.0, bar_style='info', description='Progress:', layout=Layout(height='25px', width='50%'),…"
      ]
     },
     "metadata": {},
     "output_type": "display_data"
    },
    {
     "name": "stdout",
     "output_type": "stream",
     "text": [
      "['sum(page_About)_avg', 'sum(page_Add Friend)_avg', 'sum(page_Add to Playlist)_avg', 'sum(page_Downgrade)_avg', 'sum(page_Error)_avg', 'sum(page_Help)_avg', 'sum(page_Home)_avg', 'sum(page_Logout)_avg', 'sum(page_NextSong)_avg', 'sum(page_Roll Advert)_avg', 'sum(page_Save Settings)_avg', 'sum(page_Settings)_avg', 'sum(page_Submit Downgrade)_avg', 'sum(page_Submit Upgrade)_avg', 'sum(page_Thumbs Down)_avg', 'sum(page_Thumbs Up)_avg', 'sum(page_Upgrade)_avg', 'var_total_pages', 'label']"
     ]
    }
   ],
   "source": [
    "df_ml.columns"
   ]
  },
  {
   "cell_type": "code",
   "execution_count": 63,
   "metadata": {
    "execution": {
     "iopub.execute_input": "2023-02-11T08:03:49.589733Z",
     "iopub.status.busy": "2023-02-11T08:03:49.589478Z",
     "iopub.status.idle": "2023-02-11T08:11:40.253925Z",
     "shell.execute_reply": "2023-02-11T08:11:40.253165Z",
     "shell.execute_reply.started": "2023-02-11T08:03:49.589709Z"
    },
    "tags": []
   },
   "outputs": [
    {
     "data": {
      "application/vnd.jupyter.widget-view+json": {
       "model_id": "7ed4ecdd3664495aaea93c0ca4a4ad03",
       "version_major": 2,
       "version_minor": 0
      },
      "text/plain": [
       "VBox()"
      ]
     },
     "metadata": {},
     "output_type": "display_data"
    },
    {
     "data": {
      "application/vnd.jupyter.widget-view+json": {
       "model_id": "",
       "version_major": 2,
       "version_minor": 0
      },
      "text/plain": [
       "FloatProgress(value=0.0, bar_style='info', description='Progress:', layout=Layout(height='25px', width='50%'),…"
      ]
     },
     "metadata": {},
     "output_type": "display_data"
    },
    {
     "name": "stdout",
     "output_type": "stream",
     "text": [
      "   sum(page_About)_avg  sum(page_Add Friend)_avg  \\\n",
      "0             0.050000                  1.050000   \n",
      "1             0.350000                  2.400000   \n",
      "2             0.200000                  1.600000   \n",
      "3             0.000000                  0.529412   \n",
      "4             0.153846                  2.961538   \n",
      "5             0.000000                  0.666667   \n",
      "6             0.083333                  1.500000   \n",
      "7             0.000000                  1.000000   \n",
      "8             0.312500                  1.437500   \n",
      "9             0.000000                  0.750000   \n",
      "\n",
      "   sum(page_Add to Playlist)_avg  sum(page_Downgrade)_avg  \\\n",
      "0                       1.950000                 0.300000   \n",
      "1                       3.425000                 1.100000   \n",
      "2                       1.900000                 0.000000   \n",
      "3                       1.176471                 0.000000   \n",
      "4                       2.653846                 0.846154   \n",
      "5                       2.000000                 0.666667   \n",
      "6                       3.833333                 1.416667   \n",
      "7                       2.000000                 0.000000   \n",
      "8                       2.812500                 0.937500   \n",
      "9                       0.750000                 0.500000   \n",
      "\n",
      "   sum(page_Error)_avg  sum(page_Help)_avg  sum(page_Home)_avg  \\\n",
      "0             0.050000            0.250000            2.250000   \n",
      "1             0.150000            0.675000            4.550000   \n",
      "2             0.100000            0.400000            1.800000   \n",
      "3             0.000000            0.294118            2.235294   \n",
      "4             0.076923            0.538462            3.461538   \n",
      "5             0.000000            0.000000            1.666667   \n",
      "6             0.083333            0.416667            4.416667   \n",
      "7             0.000000            0.000000            5.000000   \n",
      "8             0.312500            0.625000            3.500000   \n",
      "9             0.000000            0.250000            2.250000   \n",
      "\n",
      "   sum(page_Logout)_avg  sum(page_NextSong)_avg  sum(page_Roll Advert)_avg  \\\n",
      "0              0.350000               56.750000                   1.000000   \n",
      "1              1.450000              119.475000                   1.900000   \n",
      "2              0.700000               48.000000                   3.600000   \n",
      "3              0.764706               27.705882                   2.117647   \n",
      "4              0.807692              100.230769                   0.192308   \n",
      "5              0.666667               48.666667                   0.000000   \n",
      "6              1.750000              109.083333                   0.916667   \n",
      "7              1.000000               67.000000                   6.000000   \n",
      "8              0.937500               91.875000                   0.375000   \n",
      "9              0.500000               52.250000                   1.000000   \n",
      "\n",
      "   sum(page_Save Settings)_avg  sum(page_Settings)_avg  \\\n",
      "0                     0.100000                0.400000   \n",
      "1                     0.050000                0.600000   \n",
      "2                     0.100000                0.400000   \n",
      "3                     0.117647                0.176471   \n",
      "4                     0.115385                0.653846   \n",
      "5                     0.000000                0.333333   \n",
      "6                     0.000000                0.833333   \n",
      "7                     0.000000                0.000000   \n",
      "8                     0.125000                0.312500   \n",
      "9                     0.250000                0.500000   \n",
      "\n",
      "   sum(page_Submit Downgrade)_avg  sum(page_Submit Upgrade)_avg  \\\n",
      "0                        0.000000                      0.050000   \n",
      "1                        0.050000                      0.075000   \n",
      "2                        0.000000                      0.000000   \n",
      "3                        0.000000                      0.000000   \n",
      "4                        0.038462                      0.076923   \n",
      "5                        0.000000                      0.000000   \n",
      "6                        0.000000                      0.083333   \n",
      "7                        0.000000                      0.000000   \n",
      "8                        0.000000                      0.062500   \n",
      "9                        0.000000                      0.250000   \n",
      "\n",
      "   sum(page_Thumbs Down)_avg  sum(page_Thumbs Up)_avg  sum(page_Upgrade)_avg  \\\n",
      "0                   0.750000                 3.250000               0.200000   \n",
      "1                   1.250000                 6.250000               0.125000   \n",
      "2                   0.400000                 2.200000               0.400000   \n",
      "3                   0.176471                 1.352941               0.352941   \n",
      "4                   0.884615                 5.346154               0.076923   \n",
      "5                   0.666667                 3.666667               0.000000   \n",
      "6                   1.083333                 5.833333               0.250000   \n",
      "7                   2.000000                 2.000000               0.000000   \n",
      "8                   1.062500                 5.437500               0.062500   \n",
      "9                   0.500000                 1.500000               0.250000   \n",
      "\n",
      "   var_total_pages  label  \n",
      "0      3552.197368      0  \n",
      "1     10769.804487      0  \n",
      "2      2045.066667      0  \n",
      "3      1752.125000      0  \n",
      "4      9815.626154      0  \n",
      "5      1708.000000      0  \n",
      "6     17840.022727      1  \n",
      "7         0.000000      0  \n",
      "8      5105.029167      1  \n",
      "9      2418.666667      1"
     ]
    }
   ],
   "source": [
    "df_ml.limit(10).toPandas()"
   ]
  },
  {
   "cell_type": "markdown",
   "metadata": {},
   "source": [
    "Important note: Swap label value from positive class from 1 to 0 and negative class from 0 to 1 because Multiclass Evaluator has default metricLabel set to 0. \n",
    "\n",
    "https://stackoverflow.com/questions/68236058/how-to-specify-positive-class-in-sparkml-classification"
   ]
  },
  {
   "cell_type": "code",
   "execution_count": 64,
   "metadata": {
    "execution": {
     "iopub.execute_input": "2023-02-11T08:11:40.255215Z",
     "iopub.status.busy": "2023-02-11T08:11:40.254960Z",
     "iopub.status.idle": "2023-02-11T08:19:32.830286Z",
     "shell.execute_reply": "2023-02-11T08:19:32.829329Z",
     "shell.execute_reply.started": "2023-02-11T08:11:40.255182Z"
    },
    "tags": []
   },
   "outputs": [
    {
     "data": {
      "application/vnd.jupyter.widget-view+json": {
       "model_id": "7fb82f7b32df4bb18628ef3c01c3192b",
       "version_major": 2,
       "version_minor": 0
      },
      "text/plain": [
       "VBox()"
      ]
     },
     "metadata": {},
     "output_type": "display_data"
    },
    {
     "data": {
      "application/vnd.jupyter.widget-view+json": {
       "model_id": "",
       "version_major": 2,
       "version_minor": 0
      },
      "text/plain": [
       "FloatProgress(value=0.0, bar_style='info', description='Progress:', layout=Layout(height='25px', width='50%'),…"
      ]
     },
     "metadata": {},
     "output_type": "display_data"
    },
    {
     "name": "stdout",
     "output_type": "stream",
     "text": [
      "   sum(page_About)_avg  sum(page_Add Friend)_avg  \\\n",
      "0             0.000000                  1.000000   \n",
      "1             0.000000                  0.529412   \n",
      "2             0.250000                  1.583333   \n",
      "3             0.190476                  1.190476   \n",
      "4             0.153846                  2.961538   \n",
      "5             0.312500                  1.437500   \n",
      "6             0.200000                  1.500000   \n",
      "7             0.133333                  1.266667   \n",
      "8             0.292683                  1.926829   \n",
      "9             0.294118                  1.470588   \n",
      "\n",
      "   sum(page_Add to Playlist)_avg  sum(page_Downgrade)_avg  \\\n",
      "0                       1.666667                 1.333333   \n",
      "1                       1.176471                 0.000000   \n",
      "2                       1.083333                 0.833333   \n",
      "3                       3.142857                 0.952381   \n",
      "4                       2.653846                 0.846154   \n",
      "5                       2.812500                 0.937500   \n",
      "6                       2.100000                 0.400000   \n",
      "7                       2.000000                 1.033333   \n",
      "8                       2.707317                 1.024390   \n",
      "9                       2.000000                 0.294118   \n",
      "\n",
      "   sum(page_Error)_avg  sum(page_Help)_avg  sum(page_Home)_avg  \\\n",
      "0             0.333333            0.000000            1.666667   \n",
      "1             0.000000            0.294118            2.235294   \n",
      "2             0.000000            0.500000            4.166667   \n",
      "3             0.047619            0.571429            2.761905   \n",
      "4             0.076923            0.538462            3.461538   \n",
      "5             0.312500            0.625000            3.500000   \n",
      "6             0.100000            0.400000            3.200000   \n",
      "7             0.100000            0.466667            3.666667   \n",
      "8             0.170732            0.707317            3.951220   \n",
      "9             0.058824            0.176471            3.411765   \n",
      "\n",
      "   sum(page_Logout)_avg  sum(page_NextSong)_avg  sum(page_Roll Advert)_avg  \\\n",
      "0              0.000000               60.333333                   0.000000   \n",
      "1              0.764706               27.705882                   2.117647   \n",
      "2              1.416667               70.666667                   1.083333   \n",
      "3              0.857143               79.666667                   0.428571   \n",
      "4              0.807692              100.230769                   0.192308   \n",
      "5              0.937500               91.875000                   0.375000   \n",
      "6              0.900000               77.600000                   0.000000   \n",
      "7              1.266667               84.433333                   0.933333   \n",
      "8              1.000000              112.390244                   0.073171   \n",
      "9              1.117647               58.470588                   1.882353   \n",
      "\n",
      "   sum(page_Save Settings)_avg  sum(page_Settings)_avg  \\\n",
      "0                     0.000000                0.000000   \n",
      "1                     0.117647                0.176471   \n",
      "2                     0.083333                0.416667   \n",
      "3                     0.095238                0.809524   \n",
      "4                     0.115385                0.653846   \n",
      "5                     0.125000                0.312500   \n",
      "6                     0.100000                0.600000   \n",
      "7                     0.233333                0.866667   \n",
      "8                     0.317073                1.024390   \n",
      "9                     0.000000                0.117647   \n",
      "\n",
      "   sum(page_Submit Downgrade)_avg  sum(page_Submit Upgrade)_avg  \\\n",
      "0                        0.000000                      0.000000   \n",
      "1                        0.000000                      0.000000   \n",
      "2                        0.000000                      0.083333   \n",
      "3                        0.000000                      0.047619   \n",
      "4                        0.038462                      0.076923   \n",
      "5                        0.000000                      0.062500   \n",
      "6                        0.000000                      0.000000   \n",
      "7                        0.033333                      0.066667   \n",
      "8                        0.000000                      0.000000   \n",
      "9                        0.058824                      0.058824   \n",
      "\n",
      "   sum(page_Thumbs Down)_avg  sum(page_Thumbs Up)_avg  sum(page_Upgrade)_avg  \\\n",
      "0                   0.666667                 5.000000               0.000000   \n",
      "1                   0.176471                 1.352941               0.352941   \n",
      "2                   0.916667                 3.916667               0.083333   \n",
      "3                   0.761905                 3.714286               0.095238   \n",
      "4                   0.884615                 5.346154               0.076923   \n",
      "5                   1.062500                 5.437500               0.062500   \n",
      "6                   0.800000                 3.900000               0.000000   \n",
      "7                   0.833333                 4.166667               0.200000   \n",
      "8                   1.121951                 5.634146               0.000000   \n",
      "9                   0.882353                 2.470588               0.176471   \n",
      "\n",
      "   var_total_pages  label  \n",
      "0       550.333333      0  \n",
      "1      1752.125000      1  \n",
      "2      5312.628788      1  \n",
      "3      6030.733333      1  \n",
      "4      9815.626154      1  \n",
      "5      5105.029167      0  \n",
      "6     11143.777778      0  \n",
      "7     10848.837931      1  \n",
      "8      6662.480488      1  \n",
      "9      5718.433824      1"
     ]
    }
   ],
   "source": [
    "df_ml_2 = df_ml\n",
    "df_ml_2 = df_ml_2.withColumn('label', when(df_ml_2.label == 0, 2).otherwise(df_ml_2.label))\n",
    "df_ml_2 = df_ml_2.withColumn('label', when(df_ml_2.label == 1, 0).otherwise(df_ml_2.label))\n",
    "df_ml_2 = df_ml_2.withColumn('label', when(df_ml_2.label == 2, 1).otherwise(df_ml_2.label))\n",
    "df_ml_2.limit(10).toPandas()"
   ]
  },
  {
   "cell_type": "markdown",
   "metadata": {},
   "source": [
    "Next step to convert all features to vector using VectorAssembler and standardize using StandardScaler."
   ]
  },
  {
   "cell_type": "code",
   "execution_count": 65,
   "metadata": {
    "execution": {
     "iopub.execute_input": "2023-02-11T08:19:32.831814Z",
     "iopub.status.busy": "2023-02-11T08:19:32.831296Z",
     "iopub.status.idle": "2023-02-11T08:19:33.090498Z",
     "shell.execute_reply": "2023-02-11T08:19:33.089603Z",
     "shell.execute_reply.started": "2023-02-11T08:19:32.831785Z"
    },
    "tags": []
   },
   "outputs": [
    {
     "data": {
      "application/vnd.jupyter.widget-view+json": {
       "model_id": "56eaf394567a47e58f0ed65902bf6fd8",
       "version_major": 2,
       "version_minor": 0
      },
      "text/plain": [
       "VBox()"
      ]
     },
     "metadata": {},
     "output_type": "display_data"
    },
    {
     "data": {
      "application/vnd.jupyter.widget-view+json": {
       "model_id": "",
       "version_major": 2,
       "version_minor": 0
      },
      "text/plain": [
       "FloatProgress(value=0.0, bar_style='info', description='Progress:', layout=Layout(height='25px', width='50%'),…"
      ]
     },
     "metadata": {},
     "output_type": "display_data"
    }
   ],
   "source": [
    "col_feature = df_ml_2.select(['sum(page_About)_avg',\n",
    " 'sum(page_Add Friend)_avg',\n",
    " 'sum(page_Add to Playlist)_avg',\n",
    " 'sum(page_Downgrade)_avg',\n",
    " 'sum(page_Error)_avg',\n",
    " 'sum(page_Help)_avg',\n",
    " 'sum(page_Home)_avg',\n",
    " 'sum(page_Logout)_avg',\n",
    " 'sum(page_NextSong)_avg',\n",
    " 'sum(page_Roll Advert)_avg',\n",
    " 'sum(page_Save Settings)_avg',\n",
    " 'sum(page_Settings)_avg',\n",
    " 'sum(page_Submit Downgrade)_avg',\n",
    " 'sum(page_Submit Upgrade)_avg',\n",
    " 'sum(page_Thumbs Down)_avg',\n",
    " 'sum(page_Thumbs Up)_avg',\n",
    " 'sum(page_Upgrade)_avg', 'var_total_pages']).columns"
   ]
  },
  {
   "cell_type": "code",
   "execution_count": 66,
   "metadata": {
    "execution": {
     "iopub.execute_input": "2023-02-11T08:19:33.091739Z",
     "iopub.status.busy": "2023-02-11T08:19:33.091503Z",
     "iopub.status.idle": "2023-02-11T08:19:33.353965Z",
     "shell.execute_reply": "2023-02-11T08:19:33.353045Z",
     "shell.execute_reply.started": "2023-02-11T08:19:33.091716Z"
    },
    "tags": []
   },
   "outputs": [
    {
     "data": {
      "application/vnd.jupyter.widget-view+json": {
       "model_id": "b24f7fec6a3c4566ac86260cf91b30ac",
       "version_major": 2,
       "version_minor": 0
      },
      "text/plain": [
       "VBox()"
      ]
     },
     "metadata": {},
     "output_type": "display_data"
    },
    {
     "data": {
      "application/vnd.jupyter.widget-view+json": {
       "model_id": "",
       "version_major": 2,
       "version_minor": 0
      },
      "text/plain": [
       "FloatProgress(value=0.0, bar_style='info', description='Progress:', layout=Layout(height='25px', width='50%'),…"
      ]
     },
     "metadata": {},
     "output_type": "display_data"
    }
   ],
   "source": [
    "assembler = VectorAssembler(inputCols=col_feature, outputCol=\"vectorized_features\")\n",
    "df_vector = assembler.transform(df_ml_2)"
   ]
  },
  {
   "cell_type": "code",
   "execution_count": 67,
   "metadata": {
    "execution": {
     "iopub.execute_input": "2023-02-11T08:19:33.355244Z",
     "iopub.status.busy": "2023-02-11T08:19:33.354985Z",
     "iopub.status.idle": "2023-02-11T08:27:25.962327Z",
     "shell.execute_reply": "2023-02-11T08:27:25.961392Z",
     "shell.execute_reply.started": "2023-02-11T08:19:33.355219Z"
    },
    "tags": []
   },
   "outputs": [
    {
     "data": {
      "application/vnd.jupyter.widget-view+json": {
       "model_id": "0c5d085578344330a2fe5a5924c5a636",
       "version_major": 2,
       "version_minor": 0
      },
      "text/plain": [
       "VBox()"
      ]
     },
     "metadata": {},
     "output_type": "display_data"
    },
    {
     "data": {
      "application/vnd.jupyter.widget-view+json": {
       "model_id": "",
       "version_major": 2,
       "version_minor": 0
      },
      "text/plain": [
       "FloatProgress(value=0.0, bar_style='info', description='Progress:', layout=Layout(height='25px', width='50%'),…"
      ]
     },
     "metadata": {},
     "output_type": "display_data"
    }
   ],
   "source": [
    "Scaler=StandardScaler().setInputCol(\"vectorized_features\").setOutputCol(\"features\")\n",
    "df_scaled = Scaler.fit(df_vector).transform(df_vector)"
   ]
  },
  {
   "cell_type": "code",
   "execution_count": 68,
   "metadata": {
    "execution": {
     "iopub.execute_input": "2023-02-11T08:27:25.963949Z",
     "iopub.status.busy": "2023-02-11T08:27:25.963598Z",
     "iopub.status.idle": "2023-02-11T08:35:14.813204Z",
     "shell.execute_reply": "2023-02-11T08:35:14.812399Z",
     "shell.execute_reply.started": "2023-02-11T08:27:25.963910Z"
    },
    "tags": []
   },
   "outputs": [
    {
     "data": {
      "application/vnd.jupyter.widget-view+json": {
       "model_id": "ad097560f16d42949de340a213945756",
       "version_major": 2,
       "version_minor": 0
      },
      "text/plain": [
       "VBox()"
      ]
     },
     "metadata": {},
     "output_type": "display_data"
    },
    {
     "data": {
      "application/vnd.jupyter.widget-view+json": {
       "model_id": "",
       "version_major": 2,
       "version_minor": 0
      },
      "text/plain": [
       "FloatProgress(value=0.0, bar_style='info', description='Progress:', layout=Layout(height='25px', width='50%'),…"
      ]
     },
     "metadata": {},
     "output_type": "display_data"
    },
    {
     "name": "stdout",
     "output_type": "stream",
     "text": [
      "Row(sum(page_About)_avg=0.05, sum(page_Add Friend)_avg=1.05, sum(page_Add to Playlist)_avg=1.95, sum(page_Downgrade)_avg=0.3, sum(page_Error)_avg=0.05, sum(page_Help)_avg=0.25, sum(page_Home)_avg=2.25, sum(page_Logout)_avg=0.35, sum(page_NextSong)_avg=56.75, sum(page_Roll Advert)_avg=1.0, sum(page_Save Settings)_avg=0.1, sum(page_Settings)_avg=0.4, sum(page_Submit Downgrade)_avg=0.0, sum(page_Submit Upgrade)_avg=0.05, sum(page_Thumbs Down)_avg=0.75, sum(page_Thumbs Up)_avg=3.25, sum(page_Upgrade)_avg=0.2, var_total_pages=3552.1973684210525, label=1, vectorized_features=DenseVector([0.05, 1.05, 1.95, 0.3, 0.05, 0.25, 2.25, 0.35, 56.75, 1.0, 0.1, 0.4, 0.0, 0.05, 0.75, 3.25, 0.2, 3552.1974]), features=DenseVector([0.0103, 1.3562, 1.8543, 0.5682, 0.331, 0.0883, 0.05, 0.7153, 1.7656, 0.5125, 0.798, 1.1332, 0.0, 0.4972, 1.3505, 1.6209, 0.7686, 0.1581]))"
     ]
    }
   ],
   "source": [
    "df_scaled.head()"
   ]
  },
  {
   "cell_type": "code",
   "execution_count": 69,
   "metadata": {
    "execution": {
     "iopub.execute_input": "2023-02-11T08:35:14.814481Z",
     "iopub.status.busy": "2023-02-11T08:35:14.814237Z",
     "iopub.status.idle": "2023-02-11T08:40:10.985910Z",
     "shell.execute_reply": "2023-02-11T08:40:10.985002Z",
     "shell.execute_reply.started": "2023-02-11T08:35:14.814457Z"
    },
    "tags": []
   },
   "outputs": [
    {
     "data": {
      "application/vnd.jupyter.widget-view+json": {
       "model_id": "84f1b7f9022846a8adeb5d40fe1a7148",
       "version_major": 2,
       "version_minor": 0
      },
      "text/plain": [
       "VBox()"
      ]
     },
     "metadata": {},
     "output_type": "display_data"
    },
    {
     "data": {
      "application/vnd.jupyter.widget-view+json": {
       "model_id": "",
       "version_major": 2,
       "version_minor": 0
      },
      "text/plain": [
       "FloatProgress(value=0.0, bar_style='info', description='Progress:', layout=Layout(height='25px', width='50%'),…"
      ]
     },
     "metadata": {},
     "output_type": "display_data"
    }
   ],
   "source": [
    "# Index labels\n",
    "# stringOrderType='frequencyAsc' to ensure the most frequent label is set to 1. \n",
    "labelIndexer = StringIndexer(inputCol=\"label\", outputCol=\"indexedLabel\", stringOrderType='frequencyAsc').fit(df_scaled)"
   ]
  },
  {
   "cell_type": "code",
   "execution_count": 70,
   "metadata": {
    "execution": {
     "iopub.execute_input": "2023-02-11T08:40:10.987216Z",
     "iopub.status.busy": "2023-02-11T08:40:10.986944Z",
     "iopub.status.idle": "2023-02-11T08:48:09.653349Z",
     "shell.execute_reply": "2023-02-11T08:48:09.652591Z",
     "shell.execute_reply.started": "2023-02-11T08:40:10.987190Z"
    },
    "tags": []
   },
   "outputs": [
    {
     "data": {
      "application/vnd.jupyter.widget-view+json": {
       "model_id": "52c2bd56e85b43f49e9d5590aa8021ee",
       "version_major": 2,
       "version_minor": 0
      },
      "text/plain": [
       "VBox()"
      ]
     },
     "metadata": {},
     "output_type": "display_data"
    },
    {
     "data": {
      "application/vnd.jupyter.widget-view+json": {
       "model_id": "",
       "version_major": 2,
       "version_minor": 0
      },
      "text/plain": [
       "FloatProgress(value=0.0, bar_style='info', description='Progress:', layout=Layout(height='25px', width='50%'),…"
      ]
     },
     "metadata": {},
     "output_type": "display_data"
    }
   ],
   "source": [
    "featureIndexer = VectorIndexer(inputCol=\"features\", outputCol=\"indexedFeatures\", maxCategories=4).fit(df_scaled)"
   ]
  },
  {
   "cell_type": "code",
   "execution_count": 71,
   "metadata": {
    "execution": {
     "iopub.execute_input": "2023-02-11T08:48:09.654652Z",
     "iopub.status.busy": "2023-02-11T08:48:09.654376Z",
     "iopub.status.idle": "2023-02-11T08:48:09.919874Z",
     "shell.execute_reply": "2023-02-11T08:48:09.918996Z",
     "shell.execute_reply.started": "2023-02-11T08:48:09.654626Z"
    },
    "tags": []
   },
   "outputs": [
    {
     "data": {
      "application/vnd.jupyter.widget-view+json": {
       "model_id": "263166e10fef4ba48b995a815cc1ec9b",
       "version_major": 2,
       "version_minor": 0
      },
      "text/plain": [
       "VBox()"
      ]
     },
     "metadata": {},
     "output_type": "display_data"
    },
    {
     "data": {
      "application/vnd.jupyter.widget-view+json": {
       "model_id": "",
       "version_major": 2,
       "version_minor": 0
      },
      "text/plain": [
       "FloatProgress(value=0.0, bar_style='info', description='Progress:', layout=Layout(height='25px', width='50%'),…"
      ]
     },
     "metadata": {},
     "output_type": "display_data"
    }
   ],
   "source": [
    "labelConverter = IndexToString(inputCol=\"prediction\", outputCol=\"predictedLabel\", labels=labelIndexer.labels)"
   ]
  },
  {
   "cell_type": "code",
   "execution_count": null,
   "metadata": {},
   "outputs": [],
   "source": []
  },
  {
   "cell_type": "markdown",
   "metadata": {},
   "source": [
    "# Modeling\n",
    "Split the full dataset into train, test, and validation sets. Test out several of the machine learning methods you learned. Evaluate the accuracy of the various models, tuning parameters as necessary. Determine your winning model based on test accuracy and report results on the validation set. Since the churned users are a fairly small subset, I suggest using F1 score as the metric to optimize."
   ]
  },
  {
   "cell_type": "code",
   "execution_count": null,
   "metadata": {},
   "outputs": [],
   "source": []
  },
  {
   "cell_type": "markdown",
   "metadata": {},
   "source": [
    "## Train Test Split"
   ]
  },
  {
   "cell_type": "code",
   "execution_count": 72,
   "metadata": {
    "execution": {
     "iopub.execute_input": "2023-02-11T08:48:09.921721Z",
     "iopub.status.busy": "2023-02-11T08:48:09.921108Z",
     "iopub.status.idle": "2023-02-11T08:53:18.071738Z",
     "shell.execute_reply": "2023-02-11T08:53:18.071006Z",
     "shell.execute_reply.started": "2023-02-11T08:48:09.921682Z"
    },
    "tags": []
   },
   "outputs": [
    {
     "data": {
      "application/vnd.jupyter.widget-view+json": {
       "model_id": "5c4614c6c8da48a283608cbc8d9c78e0",
       "version_major": 2,
       "version_minor": 0
      },
      "text/plain": [
       "VBox()"
      ]
     },
     "metadata": {},
     "output_type": "display_data"
    },
    {
     "data": {
      "application/vnd.jupyter.widget-view+json": {
       "model_id": "",
       "version_major": 2,
       "version_minor": 0
      },
      "text/plain": [
       "FloatProgress(value=0.0, bar_style='info', description='Progress:', layout=Layout(height='25px', width='50%'),…"
      ]
     },
     "metadata": {},
     "output_type": "display_data"
    },
    {
     "name": "stdout",
     "output_type": "stream",
     "text": [
      "+-----+-----+\n",
      "|label|count|\n",
      "+-----+-----+\n",
      "|    1|17275|\n",
      "|    0| 5003|\n",
      "+-----+-----+"
     ]
    }
   ],
   "source": [
    "# Stratified train test split\n",
    "# https://stackoverflow.com/questions/47637760/stratified-sampling-with-pyspark\n",
    "df_scaled.groupBy('label').count().show()"
   ]
  },
  {
   "cell_type": "code",
   "execution_count": 73,
   "metadata": {
    "execution": {
     "iopub.execute_input": "2023-02-11T08:53:18.073155Z",
     "iopub.status.busy": "2023-02-11T08:53:18.072919Z",
     "iopub.status.idle": "2023-02-11T08:53:18.834798Z",
     "shell.execute_reply": "2023-02-11T08:53:18.819153Z",
     "shell.execute_reply.started": "2023-02-11T08:53:18.073133Z"
    },
    "tags": []
   },
   "outputs": [
    {
     "data": {
      "application/vnd.jupyter.widget-view+json": {
       "model_id": "f1d396fce83d4d7280f056d6a26437cd",
       "version_major": 2,
       "version_minor": 0
      },
      "text/plain": [
       "VBox()"
      ]
     },
     "metadata": {},
     "output_type": "display_data"
    },
    {
     "data": {
      "application/vnd.jupyter.widget-view+json": {
       "model_id": "",
       "version_major": 2,
       "version_minor": 0
      },
      "text/plain": [
       "FloatProgress(value=0.0, bar_style='info', description='Progress:', layout=Layout(height='25px', width='50%'),…"
      ]
     },
     "metadata": {},
     "output_type": "display_data"
    }
   ],
   "source": [
    "train = df_scaled.sampleBy(\"label\", fractions={0: 0.8, 1: 0.8}, seed=10)"
   ]
  },
  {
   "cell_type": "code",
   "execution_count": 74,
   "metadata": {
    "execution": {
     "iopub.execute_input": "2023-02-11T08:53:18.836331Z",
     "iopub.status.busy": "2023-02-11T08:53:18.836025Z",
     "iopub.status.idle": "2023-02-11T08:53:19.602355Z",
     "shell.execute_reply": "2023-02-11T08:53:19.601564Z",
     "shell.execute_reply.started": "2023-02-11T08:53:18.836302Z"
    },
    "tags": []
   },
   "outputs": [
    {
     "data": {
      "application/vnd.jupyter.widget-view+json": {
       "model_id": "09fd824b274c44eeb2310aa129c44c29",
       "version_major": 2,
       "version_minor": 0
      },
      "text/plain": [
       "VBox()"
      ]
     },
     "metadata": {},
     "output_type": "display_data"
    },
    {
     "data": {
      "application/vnd.jupyter.widget-view+json": {
       "model_id": "",
       "version_major": 2,
       "version_minor": 0
      },
      "text/plain": [
       "FloatProgress(value=0.0, bar_style='info', description='Progress:', layout=Layout(height='25px', width='50%'),…"
      ]
     },
     "metadata": {},
     "output_type": "display_data"
    }
   ],
   "source": [
    "test = df_scaled.subtract(train)"
   ]
  },
  {
   "cell_type": "code",
   "execution_count": 75,
   "metadata": {
    "execution": {
     "iopub.execute_input": "2023-02-11T08:53:19.603979Z",
     "iopub.status.busy": "2023-02-11T08:53:19.603634Z",
     "iopub.status.idle": "2023-02-11T08:58:37.754817Z",
     "shell.execute_reply": "2023-02-11T08:58:37.753985Z",
     "shell.execute_reply.started": "2023-02-11T08:53:19.603940Z"
    },
    "tags": []
   },
   "outputs": [
    {
     "data": {
      "application/vnd.jupyter.widget-view+json": {
       "model_id": "9ecbcae7c119494b96f151aebb78ec75",
       "version_major": 2,
       "version_minor": 0
      },
      "text/plain": [
       "VBox()"
      ]
     },
     "metadata": {},
     "output_type": "display_data"
    },
    {
     "data": {
      "application/vnd.jupyter.widget-view+json": {
       "model_id": "",
       "version_major": 2,
       "version_minor": 0
      },
      "text/plain": [
       "FloatProgress(value=0.0, bar_style='info', description='Progress:', layout=Layout(height='25px', width='50%'),…"
      ]
     },
     "metadata": {},
     "output_type": "display_data"
    },
    {
     "name": "stdout",
     "output_type": "stream",
     "text": [
      "+-----+-----+\n",
      "|label|count|\n",
      "+-----+-----+\n",
      "|    1|13778|\n",
      "|    0| 4012|\n",
      "+-----+-----+"
     ]
    }
   ],
   "source": [
    "train.groupBy('label').count().show()"
   ]
  },
  {
   "cell_type": "code",
   "execution_count": 76,
   "metadata": {
    "execution": {
     "iopub.execute_input": "2023-02-11T08:58:37.756025Z",
     "iopub.status.busy": "2023-02-11T08:58:37.755791Z",
     "iopub.status.idle": "2023-02-11T09:06:30.332750Z",
     "shell.execute_reply": "2023-02-11T09:06:30.331925Z",
     "shell.execute_reply.started": "2023-02-11T08:58:37.756003Z"
    },
    "tags": []
   },
   "outputs": [
    {
     "data": {
      "application/vnd.jupyter.widget-view+json": {
       "model_id": "e83afcfd6f72481c9ee940f8aa99dc85",
       "version_major": 2,
       "version_minor": 0
      },
      "text/plain": [
       "VBox()"
      ]
     },
     "metadata": {},
     "output_type": "display_data"
    },
    {
     "data": {
      "application/vnd.jupyter.widget-view+json": {
       "model_id": "",
       "version_major": 2,
       "version_minor": 0
      },
      "text/plain": [
       "FloatProgress(value=0.0, bar_style='info', description='Progress:', layout=Layout(height='25px', width='50%'),…"
      ]
     },
     "metadata": {},
     "output_type": "display_data"
    },
    {
     "name": "stdout",
     "output_type": "stream",
     "text": [
      "+-----+-----+\n",
      "|label|count|\n",
      "+-----+-----+\n",
      "|    1| 3511|\n",
      "|    0|  987|\n",
      "+-----+-----+"
     ]
    }
   ],
   "source": [
    "test.groupBy('label').count().show()"
   ]
  },
  {
   "cell_type": "markdown",
   "metadata": {},
   "source": [
    "## Oversampling"
   ]
  },
  {
   "cell_type": "markdown",
   "metadata": {},
   "source": [
    "Due to class imbalance, we would attempt to balance the labels with oversampling. \n",
    "\n",
    "Note: Skip this portion to proceed with modeling without oversampling."
   ]
  },
  {
   "cell_type": "markdown",
   "metadata": {},
   "source": [
    "Important to note that the oversampling shall only be done on the training set."
   ]
  },
  {
   "cell_type": "code",
   "execution_count": 77,
   "metadata": {
    "execution": {
     "iopub.execute_input": "2023-02-11T09:06:30.334574Z",
     "iopub.status.busy": "2023-02-11T09:06:30.334230Z",
     "iopub.status.idle": "2023-02-11T09:06:30.608456Z",
     "shell.execute_reply": "2023-02-11T09:06:30.607521Z",
     "shell.execute_reply.started": "2023-02-11T09:06:30.334538Z"
    },
    "tags": []
   },
   "outputs": [
    {
     "data": {
      "application/vnd.jupyter.widget-view+json": {
       "model_id": "139cc7581f4c4553a8d0ff7574707cd5",
       "version_major": 2,
       "version_minor": 0
      },
      "text/plain": [
       "VBox()"
      ]
     },
     "metadata": {},
     "output_type": "display_data"
    },
    {
     "data": {
      "application/vnd.jupyter.widget-view+json": {
       "model_id": "",
       "version_major": 2,
       "version_minor": 0
      },
      "text/plain": [
       "FloatProgress(value=0.0, bar_style='info', description='Progress:', layout=Layout(height='25px', width='50%'),…"
      ]
     },
     "metadata": {},
     "output_type": "display_data"
    }
   ],
   "source": [
    "major_df = train.filter(col(\"label\") == 1)\n",
    "minor_df = train.filter(col(\"label\") == 0)"
   ]
  },
  {
   "cell_type": "code",
   "execution_count": 78,
   "metadata": {
    "execution": {
     "iopub.execute_input": "2023-02-11T09:06:30.610121Z",
     "iopub.status.busy": "2023-02-11T09:06:30.609785Z",
     "iopub.status.idle": "2023-02-11T09:16:07.707298Z",
     "shell.execute_reply": "2023-02-11T09:16:07.706356Z",
     "shell.execute_reply.started": "2023-02-11T09:06:30.610086Z"
    },
    "tags": []
   },
   "outputs": [
    {
     "data": {
      "application/vnd.jupyter.widget-view+json": {
       "model_id": "da6387add063439d9c30079fd63a8903",
       "version_major": 2,
       "version_minor": 0
      },
      "text/plain": [
       "VBox()"
      ]
     },
     "metadata": {},
     "output_type": "display_data"
    },
    {
     "data": {
      "application/vnd.jupyter.widget-view+json": {
       "model_id": "",
       "version_major": 2,
       "version_minor": 0
      },
      "text/plain": [
       "FloatProgress(value=0.0, bar_style='info', description='Progress:', layout=Layout(height='25px', width='50%'),…"
      ]
     },
     "metadata": {},
     "output_type": "display_data"
    }
   ],
   "source": [
    "# Calculate fraction amount to oversample\n",
    "major_df_count = major_df.count()\n",
    "minor_df_count =minor_df.count()\n",
    "fraction_oversample = round((major_df_count - minor_df_count)/minor_df_count, 1)"
   ]
  },
  {
   "cell_type": "code",
   "execution_count": 79,
   "metadata": {
    "execution": {
     "iopub.execute_input": "2023-02-11T09:16:07.708997Z",
     "iopub.status.busy": "2023-02-11T09:16:07.708638Z",
     "iopub.status.idle": "2023-02-11T09:16:07.777356Z",
     "shell.execute_reply": "2023-02-11T09:16:07.776585Z",
     "shell.execute_reply.started": "2023-02-11T09:16:07.708941Z"
    },
    "tags": []
   },
   "outputs": [
    {
     "data": {
      "application/vnd.jupyter.widget-view+json": {
       "model_id": "df8321326cdd4a88a30ca9f451862512",
       "version_major": 2,
       "version_minor": 0
      },
      "text/plain": [
       "VBox()"
      ]
     },
     "metadata": {},
     "output_type": "display_data"
    },
    {
     "data": {
      "application/vnd.jupyter.widget-view+json": {
       "model_id": "",
       "version_major": 2,
       "version_minor": 0
      },
      "text/plain": [
       "FloatProgress(value=0.0, bar_style='info', description='Progress:', layout=Layout(height='25px', width='50%'),…"
      ]
     },
     "metadata": {},
     "output_type": "display_data"
    }
   ],
   "source": [
    "a = minor_df.sample(True, fraction_oversample, 42)"
   ]
  },
  {
   "cell_type": "code",
   "execution_count": 80,
   "metadata": {
    "execution": {
     "iopub.execute_input": "2023-02-11T09:16:07.779153Z",
     "iopub.status.busy": "2023-02-11T09:16:07.778614Z",
     "iopub.status.idle": "2023-02-11T09:21:05.929975Z",
     "shell.execute_reply": "2023-02-11T09:21:05.929168Z",
     "shell.execute_reply.started": "2023-02-11T09:16:07.779116Z"
    },
    "tags": []
   },
   "outputs": [
    {
     "data": {
      "application/vnd.jupyter.widget-view+json": {
       "model_id": "1776be375e374821935987fe060dfded",
       "version_major": 2,
       "version_minor": 0
      },
      "text/plain": [
       "VBox()"
      ]
     },
     "metadata": {},
     "output_type": "display_data"
    },
    {
     "data": {
      "application/vnd.jupyter.widget-view+json": {
       "model_id": "",
       "version_major": 2,
       "version_minor": 0
      },
      "text/plain": [
       "FloatProgress(value=0.0, bar_style='info', description='Progress:', layout=Layout(height='25px', width='50%'),…"
      ]
     },
     "metadata": {},
     "output_type": "display_data"
    },
    {
     "name": "stdout",
     "output_type": "stream",
     "text": [
      "9626"
     ]
    }
   ],
   "source": [
    "a.count()"
   ]
  },
  {
   "cell_type": "code",
   "execution_count": 81,
   "metadata": {
    "execution": {
     "iopub.execute_input": "2023-02-11T09:21:05.931238Z",
     "iopub.status.busy": "2023-02-11T09:21:05.930991Z",
     "iopub.status.idle": "2023-02-11T09:21:06.196139Z",
     "shell.execute_reply": "2023-02-11T09:21:06.195076Z",
     "shell.execute_reply.started": "2023-02-11T09:21:05.931214Z"
    },
    "tags": []
   },
   "outputs": [
    {
     "data": {
      "application/vnd.jupyter.widget-view+json": {
       "model_id": "756ec6bae9ac44ad87a665652e357763",
       "version_major": 2,
       "version_minor": 0
      },
      "text/plain": [
       "VBox()"
      ]
     },
     "metadata": {},
     "output_type": "display_data"
    },
    {
     "data": {
      "application/vnd.jupyter.widget-view+json": {
       "model_id": "",
       "version_major": 2,
       "version_minor": 0
      },
      "text/plain": [
       "FloatProgress(value=0.0, bar_style='info', description='Progress:', layout=Layout(height='25px', width='50%'),…"
      ]
     },
     "metadata": {},
     "output_type": "display_data"
    }
   ],
   "source": [
    "train = train.unionAll(a)"
   ]
  },
  {
   "cell_type": "code",
   "execution_count": 82,
   "metadata": {
    "execution": {
     "iopub.execute_input": "2023-02-11T09:21:06.197614Z",
     "iopub.status.busy": "2023-02-11T09:21:06.197282Z",
     "iopub.status.idle": "2023-02-11T09:26:04.314145Z",
     "shell.execute_reply": "2023-02-11T09:26:04.313216Z",
     "shell.execute_reply.started": "2023-02-11T09:21:06.197580Z"
    },
    "tags": []
   },
   "outputs": [
    {
     "data": {
      "application/vnd.jupyter.widget-view+json": {
       "model_id": "ce5b446f4793484bb267496afe5331cf",
       "version_major": 2,
       "version_minor": 0
      },
      "text/plain": [
       "VBox()"
      ]
     },
     "metadata": {},
     "output_type": "display_data"
    },
    {
     "data": {
      "application/vnd.jupyter.widget-view+json": {
       "model_id": "",
       "version_major": 2,
       "version_minor": 0
      },
      "text/plain": [
       "FloatProgress(value=0.0, bar_style='info', description='Progress:', layout=Layout(height='25px', width='50%'),…"
      ]
     },
     "metadata": {},
     "output_type": "display_data"
    },
    {
     "name": "stdout",
     "output_type": "stream",
     "text": [
      "+-----+-----+\n",
      "|label|count|\n",
      "+-----+-----+\n",
      "|    1|13818|\n",
      "|    0|13562|\n",
      "+-----+-----+"
     ]
    }
   ],
   "source": [
    "train.groupBy('label').count().show()"
   ]
  },
  {
   "cell_type": "code",
   "execution_count": 83,
   "metadata": {
    "execution": {
     "iopub.execute_input": "2023-02-11T09:26:04.315912Z",
     "iopub.status.busy": "2023-02-11T09:26:04.315550Z",
     "iopub.status.idle": "2023-02-11T09:33:50.915350Z",
     "shell.execute_reply": "2023-02-11T09:33:50.914590Z",
     "shell.execute_reply.started": "2023-02-11T09:26:04.315871Z"
    },
    "tags": []
   },
   "outputs": [
    {
     "data": {
      "application/vnd.jupyter.widget-view+json": {
       "model_id": "dea9dc2f358745c5ba870e6639fec0b2",
       "version_major": 2,
       "version_minor": 0
      },
      "text/plain": [
       "VBox()"
      ]
     },
     "metadata": {},
     "output_type": "display_data"
    },
    {
     "data": {
      "application/vnd.jupyter.widget-view+json": {
       "model_id": "",
       "version_major": 2,
       "version_minor": 0
      },
      "text/plain": [
       "FloatProgress(value=0.0, bar_style='info', description='Progress:', layout=Layout(height='25px', width='50%'),…"
      ]
     },
     "metadata": {},
     "output_type": "display_data"
    },
    {
     "name": "stdout",
     "output_type": "stream",
     "text": [
      "Row(sum(page_About)_avg=0.0, sum(page_Add Friend)_avg=1.0, sum(page_Add to Playlist)_avg=1.6666666666666667, sum(page_Downgrade)_avg=1.3333333333333333, sum(page_Error)_avg=0.3333333333333333, sum(page_Help)_avg=0.0, sum(page_Home)_avg=1.6666666666666667, sum(page_Logout)_avg=0.0, sum(page_NextSong)_avg=60.333333333333336, sum(page_Roll Advert)_avg=0.0, sum(page_Save Settings)_avg=0.0, sum(page_Settings)_avg=0.0, sum(page_Submit Downgrade)_avg=0.0, sum(page_Submit Upgrade)_avg=0.0, sum(page_Thumbs Down)_avg=0.6666666666666666, sum(page_Thumbs Up)_avg=5.0, sum(page_Upgrade)_avg=0.0, var_total_pages=550.3333333333334, label=0, vectorized_features=SparseVector(18, {1: 1.0, 2: 1.6667, 3: 1.3333, 4: 0.3333, 6: 1.6667, 8: 60.3333, 14: 0.6667, 15: 5.0, 17: 550.3333}), features=SparseVector(18, {1: 1.2916, 2: 1.5849, 3: 2.5255, 4: 2.2065, 6: 0.037, 8: 1.8771, 14: 1.2005, 15: 2.4938, 17: 0.0245}))"
     ]
    }
   ],
   "source": [
    "train.head()"
   ]
  },
  {
   "cell_type": "code",
   "execution_count": 84,
   "metadata": {
    "execution": {
     "iopub.execute_input": "2023-02-11T09:33:50.917102Z",
     "iopub.status.busy": "2023-02-11T09:33:50.916728Z",
     "iopub.status.idle": "2023-02-11T09:33:50.979356Z",
     "shell.execute_reply": "2023-02-11T09:33:50.978638Z",
     "shell.execute_reply.started": "2023-02-11T09:33:50.917051Z"
    },
    "tags": []
   },
   "outputs": [
    {
     "data": {
      "application/vnd.jupyter.widget-view+json": {
       "model_id": "d3c4b3ba20544d4d9693735b386740e7",
       "version_major": 2,
       "version_minor": 0
      },
      "text/plain": [
       "VBox()"
      ]
     },
     "metadata": {},
     "output_type": "display_data"
    },
    {
     "data": {
      "application/vnd.jupyter.widget-view+json": {
       "model_id": "",
       "version_major": 2,
       "version_minor": 0
      },
      "text/plain": [
       "FloatProgress(value=0.0, bar_style='info', description='Progress:', layout=Layout(height='25px', width='50%'),…"
      ]
     },
     "metadata": {},
     "output_type": "display_data"
    }
   ],
   "source": [
    "# train, test = df_scaled.randomSplit([0.7, 0.3], seed=24)"
   ]
  },
  {
   "cell_type": "code",
   "execution_count": 85,
   "metadata": {
    "execution": {
     "iopub.execute_input": "2023-02-11T09:33:50.980907Z",
     "iopub.status.busy": "2023-02-11T09:33:50.980573Z",
     "iopub.status.idle": "2023-02-11T09:33:51.239539Z",
     "shell.execute_reply": "2023-02-11T09:33:51.238611Z",
     "shell.execute_reply.started": "2023-02-11T09:33:50.980871Z"
    },
    "scrolled": true,
    "tags": []
   },
   "outputs": [
    {
     "data": {
      "application/vnd.jupyter.widget-view+json": {
       "model_id": "17fc00832eb24e8babb282229844285d",
       "version_major": 2,
       "version_minor": 0
      },
      "text/plain": [
       "VBox()"
      ]
     },
     "metadata": {},
     "output_type": "display_data"
    },
    {
     "data": {
      "application/vnd.jupyter.widget-view+json": {
       "model_id": "",
       "version_major": 2,
       "version_minor": 0
      },
      "text/plain": [
       "FloatProgress(value=0.0, bar_style='info', description='Progress:', layout=Layout(height='25px', width='50%'),…"
      ]
     },
     "metadata": {},
     "output_type": "display_data"
    },
    {
     "name": "stdout",
     "output_type": "stream",
     "text": [
      "['sum(page_About)_avg', 'sum(page_Add Friend)_avg', 'sum(page_Add to Playlist)_avg', 'sum(page_Downgrade)_avg', 'sum(page_Error)_avg', 'sum(page_Help)_avg', 'sum(page_Home)_avg', 'sum(page_Logout)_avg', 'sum(page_NextSong)_avg', 'sum(page_Roll Advert)_avg', 'sum(page_Save Settings)_avg', 'sum(page_Settings)_avg', 'sum(page_Submit Downgrade)_avg', 'sum(page_Submit Upgrade)_avg', 'sum(page_Thumbs Down)_avg', 'sum(page_Thumbs Up)_avg', 'sum(page_Upgrade)_avg', 'var_total_pages', 'label', 'vectorized_features', 'features']"
     ]
    }
   ],
   "source": [
    "train.select(['*']).columns"
   ]
  },
  {
   "cell_type": "code",
   "execution_count": null,
   "metadata": {},
   "outputs": [],
   "source": []
  },
  {
   "cell_type": "markdown",
   "metadata": {},
   "source": [
    "## Modeling"
   ]
  },
  {
   "cell_type": "markdown",
   "metadata": {},
   "source": [
    "References:\n",
    "\n",
    "Pyspark logistic regression example\n",
    "https://medium.com/swlh/logistic-regression-with-pyspark-60295d41221\n",
    "\n",
    "https://spark.apache.org/docs/latest/ml-tuning.html\n",
    "\n",
    "https://spark.apache.org/docs/2.2.0/mllib-evaluation-metrics.html\n",
    "\n",
    "https://spark.apache.org/docs/2.2.0/ml-classification-regression.html"
   ]
  },
  {
   "cell_type": "markdown",
   "metadata": {},
   "source": [
    "Models to test on are:\n",
    "- Logistic Regression\n",
    "- Random Forest Classifier\n",
    "- Gradient Boosting Tree Classifier\n",
    "\n",
    "Note: Due to the extensive time required to train the machine learning model with hyperparameter tuning, we will only apply hyperparameter tuning to Logistic Regression model as an example. "
   ]
  },
  {
   "cell_type": "markdown",
   "metadata": {},
   "source": [
    "## Logistic Regression"
   ]
  },
  {
   "cell_type": "markdown",
   "metadata": {},
   "source": [
    "## Pipeline with hyperparameter tuning"
   ]
  },
  {
   "cell_type": "code",
   "execution_count": 86,
   "metadata": {
    "execution": {
     "iopub.execute_input": "2023-02-11T09:33:51.241367Z",
     "iopub.status.busy": "2023-02-11T09:33:51.240968Z",
     "iopub.status.idle": "2023-02-11T09:33:51.521269Z",
     "shell.execute_reply": "2023-02-11T09:33:51.520356Z",
     "shell.execute_reply.started": "2023-02-11T09:33:51.241329Z"
    },
    "tags": []
   },
   "outputs": [
    {
     "data": {
      "application/vnd.jupyter.widget-view+json": {
       "model_id": "50cded78772443de99449c515fdc42aa",
       "version_major": 2,
       "version_minor": 0
      },
      "text/plain": [
       "VBox()"
      ]
     },
     "metadata": {},
     "output_type": "display_data"
    },
    {
     "data": {
      "application/vnd.jupyter.widget-view+json": {
       "model_id": "",
       "version_major": 2,
       "version_minor": 0
      },
      "text/plain": [
       "FloatProgress(value=0.0, bar_style='info', description='Progress:', layout=Layout(height='25px', width='50%'),…"
      ]
     },
     "metadata": {},
     "output_type": "display_data"
    }
   ],
   "source": [
    "logr = LogisticRegression(labelCol=\"indexedLabel\", featuresCol=\"indexedFeatures\", maxIter=30, regParam=0.0, elasticNetParam=0.0)"
   ]
  },
  {
   "cell_type": "code",
   "execution_count": 87,
   "metadata": {
    "execution": {
     "iopub.execute_input": "2023-02-11T09:33:51.522635Z",
     "iopub.status.busy": "2023-02-11T09:33:51.522384Z",
     "iopub.status.idle": "2023-02-11T09:33:52.478985Z",
     "shell.execute_reply": "2023-02-11T09:33:52.466488Z",
     "shell.execute_reply.started": "2023-02-11T09:33:51.522613Z"
    },
    "tags": []
   },
   "outputs": [
    {
     "data": {
      "application/vnd.jupyter.widget-view+json": {
       "model_id": "3406cc1bfac84e5ba6e19ea0ba32944e",
       "version_major": 2,
       "version_minor": 0
      },
      "text/plain": [
       "VBox()"
      ]
     },
     "metadata": {},
     "output_type": "display_data"
    },
    {
     "data": {
      "application/vnd.jupyter.widget-view+json": {
       "model_id": "",
       "version_major": 2,
       "version_minor": 0
      },
      "text/plain": [
       "FloatProgress(value=0.0, bar_style='info', description='Progress:', layout=Layout(height='25px', width='50%'),…"
      ]
     },
     "metadata": {},
     "output_type": "display_data"
    }
   ],
   "source": [
    "pipeline = Pipeline(stages=[labelIndexer, featureIndexer, logr, labelConverter])"
   ]
  },
  {
   "cell_type": "code",
   "execution_count": 88,
   "metadata": {
    "execution": {
     "iopub.execute_input": "2023-02-11T09:33:52.490316Z",
     "iopub.status.busy": "2023-02-11T09:33:52.490017Z",
     "iopub.status.idle": "2023-02-11T09:33:52.556510Z",
     "shell.execute_reply": "2023-02-11T09:33:52.554707Z",
     "shell.execute_reply.started": "2023-02-11T09:33:52.490290Z"
    },
    "tags": []
   },
   "outputs": [
    {
     "data": {
      "application/vnd.jupyter.widget-view+json": {
       "model_id": "36aeeac922664a99b9714d2409d80e52",
       "version_major": 2,
       "version_minor": 0
      },
      "text/plain": [
       "VBox()"
      ]
     },
     "metadata": {},
     "output_type": "display_data"
    },
    {
     "data": {
      "application/vnd.jupyter.widget-view+json": {
       "model_id": "",
       "version_major": 2,
       "version_minor": 0
      },
      "text/plain": [
       "FloatProgress(value=0.0, bar_style='info', description='Progress:', layout=Layout(height='25px', width='50%'),…"
      ]
     },
     "metadata": {},
     "output_type": "display_data"
    }
   ],
   "source": [
    "# https://stackoverflow.com/questions/68236058/how-to-specify-positive-class-in-sparkml-classification\n",
    "evaluator = MulticlassClassificationEvaluator()"
   ]
  },
  {
   "cell_type": "code",
   "execution_count": 89,
   "metadata": {
    "execution": {
     "iopub.execute_input": "2023-02-11T09:33:52.558477Z",
     "iopub.status.busy": "2023-02-11T09:33:52.558135Z",
     "iopub.status.idle": "2023-02-11T09:33:52.630316Z",
     "shell.execute_reply": "2023-02-11T09:33:52.629533Z",
     "shell.execute_reply.started": "2023-02-11T09:33:52.558439Z"
    },
    "tags": []
   },
   "outputs": [
    {
     "data": {
      "application/vnd.jupyter.widget-view+json": {
       "model_id": "b13c4194f668437ca6b45ca612910bbd",
       "version_major": 2,
       "version_minor": 0
      },
      "text/plain": [
       "VBox()"
      ]
     },
     "metadata": {},
     "output_type": "display_data"
    },
    {
     "data": {
      "application/vnd.jupyter.widget-view+json": {
       "model_id": "",
       "version_major": 2,
       "version_minor": 0
      },
      "text/plain": [
       "FloatProgress(value=0.0, bar_style='info', description='Progress:', layout=Layout(height='25px', width='50%'),…"
      ]
     },
     "metadata": {},
     "output_type": "display_data"
    }
   ],
   "source": [
    "paramGrid = (ParamGridBuilder()\n",
    "            .addGrid(logr.regParam, [0.0, 0.3])\n",
    "            .addGrid(logr.elasticNetParam,[0.0, 0.8])\n",
    "            .build())"
   ]
  },
  {
   "cell_type": "code",
   "execution_count": 90,
   "metadata": {
    "execution": {
     "iopub.execute_input": "2023-02-11T09:33:52.631831Z",
     "iopub.status.busy": "2023-02-11T09:33:52.631565Z",
     "iopub.status.idle": "2023-02-11T09:33:52.700809Z",
     "shell.execute_reply": "2023-02-11T09:33:52.699843Z",
     "shell.execute_reply.started": "2023-02-11T09:33:52.631796Z"
    },
    "tags": []
   },
   "outputs": [
    {
     "data": {
      "application/vnd.jupyter.widget-view+json": {
       "model_id": "901c6813f100400ebad2f07e20a85ab9",
       "version_major": 2,
       "version_minor": 0
      },
      "text/plain": [
       "VBox()"
      ]
     },
     "metadata": {},
     "output_type": "display_data"
    },
    {
     "data": {
      "application/vnd.jupyter.widget-view+json": {
       "model_id": "",
       "version_major": 2,
       "version_minor": 0
      },
      "text/plain": [
       "FloatProgress(value=0.0, bar_style='info', description='Progress:', layout=Layout(height='25px', width='50%'),…"
      ]
     },
     "metadata": {},
     "output_type": "display_data"
    }
   ],
   "source": [
    "# Train validation split\n",
    "tvs = TrainValidationSplit(estimator=pipeline,\n",
    "                           estimatorParamMaps=paramGrid,\n",
    "                           evaluator=evaluator,\n",
    "                           # 90% of the data will be used for training, 10% for validation.\n",
    "                           trainRatio=0.9, seed = 42)"
   ]
  },
  {
   "cell_type": "code",
   "execution_count": 91,
   "metadata": {
    "execution": {
     "iopub.execute_input": "2023-02-11T09:33:52.702724Z",
     "iopub.status.busy": "2023-02-11T09:33:52.702189Z",
     "iopub.status.idle": "2023-02-11T10:10:11.424354Z",
     "shell.execute_reply": "2023-02-11T10:10:11.423484Z",
     "shell.execute_reply.started": "2023-02-11T09:33:52.702686Z"
    },
    "tags": []
   },
   "outputs": [
    {
     "data": {
      "application/vnd.jupyter.widget-view+json": {
       "model_id": "c3aa49762b9f47ee8a501b0ee5e1e1eb",
       "version_major": 2,
       "version_minor": 0
      },
      "text/plain": [
       "VBox()"
      ]
     },
     "metadata": {},
     "output_type": "display_data"
    },
    {
     "data": {
      "application/vnd.jupyter.widget-view+json": {
       "model_id": "",
       "version_major": 2,
       "version_minor": 0
      },
      "text/plain": [
       "FloatProgress(value=0.0, bar_style='info', description='Progress:', layout=Layout(height='25px', width='50%'),…"
      ]
     },
     "metadata": {},
     "output_type": "display_data"
    }
   ],
   "source": [
    "tvsModel = tvs.fit(train)"
   ]
  },
  {
   "cell_type": "code",
   "execution_count": 92,
   "metadata": {
    "execution": {
     "iopub.execute_input": "2023-02-11T10:10:11.426574Z",
     "iopub.status.busy": "2023-02-11T10:10:11.426322Z",
     "iopub.status.idle": "2023-02-11T10:10:12.191547Z",
     "shell.execute_reply": "2023-02-11T10:10:12.190719Z",
     "shell.execute_reply.started": "2023-02-11T10:10:11.426548Z"
    },
    "tags": []
   },
   "outputs": [
    {
     "data": {
      "application/vnd.jupyter.widget-view+json": {
       "model_id": "e8ab48d54dc5431ea09da5a75aa812ff",
       "version_major": 2,
       "version_minor": 0
      },
      "text/plain": [
       "VBox()"
      ]
     },
     "metadata": {},
     "output_type": "display_data"
    },
    {
     "data": {
      "application/vnd.jupyter.widget-view+json": {
       "model_id": "",
       "version_major": 2,
       "version_minor": 0
      },
      "text/plain": [
       "FloatProgress(value=0.0, bar_style='info', description='Progress:', layout=Layout(height='25px', width='50%'),…"
      ]
     },
     "metadata": {},
     "output_type": "display_data"
    }
   ],
   "source": [
    "results = tvsModel.transform(test)"
   ]
  },
  {
   "cell_type": "code",
   "execution_count": 104,
   "metadata": {
    "execution": {
     "iopub.execute_input": "2023-02-11T11:35:41.496761Z",
     "iopub.status.busy": "2023-02-11T11:35:41.496429Z",
     "iopub.status.idle": "2023-02-11T11:35:41.756339Z",
     "shell.execute_reply": "2023-02-11T11:35:41.755416Z",
     "shell.execute_reply.started": "2023-02-11T11:35:41.496734Z"
    }
   },
   "outputs": [
    {
     "data": {
      "application/vnd.jupyter.widget-view+json": {
       "model_id": "cd99ebeac4054c4d9c9d1ccac7754a5e",
       "version_major": 2,
       "version_minor": 0
      },
      "text/plain": [
       "VBox()"
      ]
     },
     "metadata": {},
     "output_type": "display_data"
    },
    {
     "data": {
      "application/vnd.jupyter.widget-view+json": {
       "model_id": "",
       "version_major": 2,
       "version_minor": 0
      },
      "text/plain": [
       "FloatProgress(value=0.0, bar_style='info', description='Progress:', layout=Layout(height='25px', width='50%'),…"
      ]
     },
     "metadata": {},
     "output_type": "display_data"
    }
   ],
   "source": [
    "preds_and_labels_logr = results.select(['prediction','label']).withColumn('label', F.col('label').cast(FloatType())).orderBy('label', ascending = False)"
   ]
  },
  {
   "cell_type": "code",
   "execution_count": 105,
   "metadata": {
    "execution": {
     "iopub.execute_input": "2023-02-11T11:35:50.145883Z",
     "iopub.status.busy": "2023-02-11T11:35:50.145499Z",
     "iopub.status.idle": "2023-02-11T11:35:50.404105Z",
     "shell.execute_reply": "2023-02-11T11:35:50.403195Z",
     "shell.execute_reply.started": "2023-02-11T11:35:50.145855Z"
    }
   },
   "outputs": [
    {
     "data": {
      "application/vnd.jupyter.widget-view+json": {
       "model_id": "942d6603822f4fcd97ea8c7d987a5c17",
       "version_major": 2,
       "version_minor": 0
      },
      "text/plain": [
       "VBox()"
      ]
     },
     "metadata": {},
     "output_type": "display_data"
    },
    {
     "data": {
      "application/vnd.jupyter.widget-view+json": {
       "model_id": "",
       "version_major": 2,
       "version_minor": 0
      },
      "text/plain": [
       "FloatProgress(value=0.0, bar_style='info', description='Progress:', layout=Layout(height='25px', width='50%'),…"
      ]
     },
     "metadata": {},
     "output_type": "display_data"
    }
   ],
   "source": [
    "preds_and_labels_logr = preds_and_labels_logr.select(['prediction','label'])"
   ]
  },
  {
   "cell_type": "code",
   "execution_count": 108,
   "metadata": {
    "execution": {
     "iopub.execute_input": "2023-02-11T11:52:05.863087Z",
     "iopub.status.busy": "2023-02-11T11:52:05.862773Z",
     "iopub.status.idle": "2023-02-11T11:59:50.977719Z",
     "shell.execute_reply": "2023-02-11T11:59:50.961586Z",
     "shell.execute_reply.started": "2023-02-11T11:52:05.863062Z"
    },
    "tags": []
   },
   "outputs": [
    {
     "data": {
      "application/vnd.jupyter.widget-view+json": {
       "model_id": "57111f1a499040f4ab916c324a934e17",
       "version_major": 2,
       "version_minor": 0
      },
      "text/plain": [
       "VBox()"
      ]
     },
     "metadata": {},
     "output_type": "display_data"
    },
    {
     "data": {
      "application/vnd.jupyter.widget-view+json": {
       "model_id": "",
       "version_major": 2,
       "version_minor": 0
      },
      "text/plain": [
       "FloatProgress(value=0.0, bar_style='info', description='Progress:', layout=Layout(height='25px', width='50%'),…"
      ]
     },
     "metadata": {},
     "output_type": "display_data"
    },
    {
     "name": "stdout",
     "output_type": "stream",
     "text": [
      "+----------+-----+\n",
      "|prediction|label|\n",
      "+----------+-----+\n",
      "|       1.0|  1.0|\n",
      "|       1.0|  1.0|\n",
      "|       1.0|  1.0|\n",
      "|       0.0|  1.0|\n",
      "|       1.0|  1.0|\n",
      "|       0.0|  1.0|\n",
      "|       1.0|  1.0|\n",
      "|       1.0|  1.0|\n",
      "|       1.0|  1.0|\n",
      "|       1.0|  1.0|\n",
      "|       1.0|  1.0|\n",
      "|       1.0|  1.0|\n",
      "|       0.0|  1.0|\n",
      "|       1.0|  1.0|\n",
      "|       1.0|  1.0|\n",
      "|       1.0|  1.0|\n",
      "|       1.0|  1.0|\n",
      "|       1.0|  1.0|\n",
      "|       1.0|  1.0|\n",
      "|       1.0|  1.0|\n",
      "+----------+-----+\n",
      "only showing top 20 rows"
     ]
    }
   ],
   "source": [
    "preds_and_labels_logr.show()"
   ]
  },
  {
   "cell_type": "code",
   "execution_count": 111,
   "metadata": {
    "execution": {
     "iopub.execute_input": "2023-02-11T12:08:50.465587Z",
     "iopub.status.busy": "2023-02-11T12:08:50.465257Z",
     "iopub.status.idle": "2023-02-11T12:09:09.824837Z",
     "shell.execute_reply": "2023-02-11T12:09:09.823932Z",
     "shell.execute_reply.started": "2023-02-11T12:08:50.465560Z"
    },
    "tags": []
   },
   "outputs": [
    {
     "data": {
      "application/vnd.jupyter.widget-view+json": {
       "model_id": "00ab62a114f64b8eba34f73d5ce42e02",
       "version_major": 2,
       "version_minor": 0
      },
      "text/plain": [
       "VBox()"
      ]
     },
     "metadata": {},
     "output_type": "display_data"
    },
    {
     "data": {
      "application/vnd.jupyter.widget-view+json": {
       "model_id": "",
       "version_major": 2,
       "version_minor": 0
      },
      "text/plain": [
       "FloatProgress(value=0.0, bar_style='info', description='Progress:', layout=Layout(height='25px', width='50%'),…"
      ]
     },
     "metadata": {},
     "output_type": "display_data"
    }
   ],
   "source": [
    "metrics = MulticlassMetrics(preds_and_labels_logr.rdd.map(tuple))"
   ]
  },
  {
   "cell_type": "code",
   "execution_count": 113,
   "metadata": {
    "execution": {
     "iopub.execute_input": "2023-02-11T12:10:02.408697Z",
     "iopub.status.busy": "2023-02-11T12:10:02.408381Z",
     "iopub.status.idle": "2023-02-11T12:10:02.489076Z",
     "shell.execute_reply": "2023-02-11T12:10:02.488189Z",
     "shell.execute_reply.started": "2023-02-11T12:10:02.408673Z"
    }
   },
   "outputs": [
    {
     "data": {
      "application/vnd.jupyter.widget-view+json": {
       "model_id": "b1795e5ad21a44ddbe8d514d9b16156c",
       "version_major": 2,
       "version_minor": 0
      },
      "text/plain": [
       "VBox()"
      ]
     },
     "metadata": {},
     "output_type": "display_data"
    },
    {
     "data": {
      "application/vnd.jupyter.widget-view+json": {
       "model_id": "",
       "version_major": 2,
       "version_minor": 0
      },
      "text/plain": [
       "FloatProgress(value=0.0, bar_style='info', description='Progress:', layout=Layout(height='25px', width='50%'),…"
      ]
     },
     "metadata": {},
     "output_type": "display_data"
    },
    {
     "name": "stdout",
     "output_type": "stream",
     "text": [
      "Confusion Matrix\n",
      " [[ 609.  404.]\n",
      " [ 954. 2532.]]"
     ]
    }
   ],
   "source": [
    "print('Confusion Matrix\\n', metrics.confusionMatrix().toArray())"
   ]
  },
  {
   "cell_type": "code",
   "execution_count": 133,
   "metadata": {
    "execution": {
     "iopub.execute_input": "2023-02-11T12:26:18.583668Z",
     "iopub.status.busy": "2023-02-11T12:26:18.583300Z",
     "iopub.status.idle": "2023-02-11T12:26:18.643846Z",
     "shell.execute_reply": "2023-02-11T12:26:18.643137Z",
     "shell.execute_reply.started": "2023-02-11T12:26:18.583638Z"
    },
    "tags": []
   },
   "outputs": [
    {
     "data": {
      "application/vnd.jupyter.widget-view+json": {
       "model_id": "dc50683ee7d747f9b0cd9ac2574a9fae",
       "version_major": 2,
       "version_minor": 0
      },
      "text/plain": [
       "VBox()"
      ]
     },
     "metadata": {},
     "output_type": "display_data"
    },
    {
     "data": {
      "application/vnd.jupyter.widget-view+json": {
       "model_id": "",
       "version_major": 2,
       "version_minor": 0
      },
      "text/plain": [
       "FloatProgress(value=0.0, bar_style='info', description='Progress:', layout=Layout(height='25px', width='50%'),…"
      ]
     },
     "metadata": {},
     "output_type": "display_data"
    }
   ],
   "source": [
    "f1Score_logr = metrics.fMeasure(0.0,2.0)"
   ]
  },
  {
   "cell_type": "code",
   "execution_count": 134,
   "metadata": {
    "execution": {
     "iopub.execute_input": "2023-02-11T12:26:18.697304Z",
     "iopub.status.busy": "2023-02-11T12:26:18.696989Z",
     "iopub.status.idle": "2023-02-11T12:26:18.760414Z",
     "shell.execute_reply": "2023-02-11T12:26:18.759296Z",
     "shell.execute_reply.started": "2023-02-11T12:26:18.697278Z"
    },
    "tags": []
   },
   "outputs": [
    {
     "data": {
      "application/vnd.jupyter.widget-view+json": {
       "model_id": "028b1d0505774258b62dce6a9905e201",
       "version_major": 2,
       "version_minor": 0
      },
      "text/plain": [
       "VBox()"
      ]
     },
     "metadata": {},
     "output_type": "display_data"
    },
    {
     "data": {
      "application/vnd.jupyter.widget-view+json": {
       "model_id": "",
       "version_major": 2,
       "version_minor": 0
      },
      "text/plain": [
       "FloatProgress(value=0.0, bar_style='info', description='Progress:', layout=Layout(height='25px', width='50%'),…"
      ]
     },
     "metadata": {},
     "output_type": "display_data"
    },
    {
     "name": "stdout",
     "output_type": "stream",
     "text": [
      "F1 Score = 0.5422974176313445"
     ]
    }
   ],
   "source": [
    "print(\"F1 Score = %s\" % f1Score_logr)"
   ]
  },
  {
   "cell_type": "markdown",
   "metadata": {},
   "source": [
    "## Random Forest"
   ]
  },
  {
   "cell_type": "code",
   "execution_count": 95,
   "metadata": {
    "execution": {
     "iopub.execute_input": "2023-02-11T10:26:06.043826Z",
     "iopub.status.busy": "2023-02-11T10:26:06.043577Z",
     "iopub.status.idle": "2023-02-11T10:26:06.301632Z",
     "shell.execute_reply": "2023-02-11T10:26:06.300833Z",
     "shell.execute_reply.started": "2023-02-11T10:26:06.043802Z"
    },
    "tags": []
   },
   "outputs": [
    {
     "data": {
      "application/vnd.jupyter.widget-view+json": {
       "model_id": "f53ccb52f89943bc834912346d655cf8",
       "version_major": 2,
       "version_minor": 0
      },
      "text/plain": [
       "VBox()"
      ]
     },
     "metadata": {},
     "output_type": "display_data"
    },
    {
     "data": {
      "application/vnd.jupyter.widget-view+json": {
       "model_id": "",
       "version_major": 2,
       "version_minor": 0
      },
      "text/plain": [
       "FloatProgress(value=0.0, bar_style='info', description='Progress:', layout=Layout(height='25px', width='50%'),…"
      ]
     },
     "metadata": {},
     "output_type": "display_data"
    }
   ],
   "source": [
    "rf = RandomForestClassifier(labelCol=\"indexedLabel\", featuresCol=\"indexedFeatures\", numTrees=10)\n",
    "pipeline = Pipeline(stages=[labelIndexer, featureIndexer, rf, labelConverter])"
   ]
  },
  {
   "cell_type": "code",
   "execution_count": 96,
   "metadata": {
    "execution": {
     "iopub.execute_input": "2023-02-11T10:26:06.302938Z",
     "iopub.status.busy": "2023-02-11T10:26:06.302696Z",
     "iopub.status.idle": "2023-02-11T10:44:19.460401Z",
     "shell.execute_reply": "2023-02-11T10:44:19.459523Z",
     "shell.execute_reply.started": "2023-02-11T10:26:06.302915Z"
    },
    "tags": []
   },
   "outputs": [
    {
     "data": {
      "application/vnd.jupyter.widget-view+json": {
       "model_id": "6e4eac9d89f040e6893d363c17f23b04",
       "version_major": 2,
       "version_minor": 0
      },
      "text/plain": [
       "VBox()"
      ]
     },
     "metadata": {},
     "output_type": "display_data"
    },
    {
     "data": {
      "application/vnd.jupyter.widget-view+json": {
       "model_id": "",
       "version_major": 2,
       "version_minor": 0
      },
      "text/plain": [
       "FloatProgress(value=0.0, bar_style='info', description='Progress:', layout=Layout(height='25px', width='50%'),…"
      ]
     },
     "metadata": {},
     "output_type": "display_data"
    }
   ],
   "source": [
    "model = pipeline.fit(train)"
   ]
  },
  {
   "cell_type": "code",
   "execution_count": 149,
   "metadata": {
    "execution": {
     "iopub.execute_input": "2023-02-11T13:26:11.018431Z",
     "iopub.status.busy": "2023-02-11T13:26:11.018117Z",
     "iopub.status.idle": "2023-02-11T13:26:11.781102Z",
     "shell.execute_reply": "2023-02-11T13:26:11.780203Z",
     "shell.execute_reply.started": "2023-02-11T13:26:11.018406Z"
    },
    "tags": []
   },
   "outputs": [
    {
     "data": {
      "application/vnd.jupyter.widget-view+json": {
       "model_id": "714067c07bc446fd9a944f3a82650737",
       "version_major": 2,
       "version_minor": 0
      },
      "text/plain": [
       "VBox()"
      ]
     },
     "metadata": {},
     "output_type": "display_data"
    },
    {
     "data": {
      "application/vnd.jupyter.widget-view+json": {
       "model_id": "",
       "version_major": 2,
       "version_minor": 0
      },
      "text/plain": [
       "FloatProgress(value=0.0, bar_style='info', description='Progress:', layout=Layout(height='25px', width='50%'),…"
      ]
     },
     "metadata": {},
     "output_type": "display_data"
    }
   ],
   "source": [
    "predictions = model.transform(test)"
   ]
  },
  {
   "cell_type": "code",
   "execution_count": 164,
   "metadata": {
    "execution": {
     "iopub.execute_input": "2023-02-11T13:49:39.492493Z",
     "iopub.status.busy": "2023-02-11T13:49:39.492174Z",
     "iopub.status.idle": "2023-02-11T13:49:39.748730Z",
     "shell.execute_reply": "2023-02-11T13:49:39.747914Z",
     "shell.execute_reply.started": "2023-02-11T13:49:39.492466Z"
    },
    "tags": []
   },
   "outputs": [
    {
     "data": {
      "application/vnd.jupyter.widget-view+json": {
       "model_id": "9dbaaa84ca704103a91d3a68f741650d",
       "version_major": 2,
       "version_minor": 0
      },
      "text/plain": [
       "VBox()"
      ]
     },
     "metadata": {},
     "output_type": "display_data"
    },
    {
     "data": {
      "application/vnd.jupyter.widget-view+json": {
       "model_id": "",
       "version_major": 2,
       "version_minor": 0
      },
      "text/plain": [
       "FloatProgress(value=0.0, bar_style='info', description='Progress:', layout=Layout(height='25px', width='50%'),…"
      ]
     },
     "metadata": {},
     "output_type": "display_data"
    }
   ],
   "source": [
    "preds_and_labels_rf = predictions.select(['prediction','label']).withColumn('label', F.col('label').cast(FloatType())).orderBy('label', ascending = False)"
   ]
  },
  {
   "cell_type": "code",
   "execution_count": 165,
   "metadata": {
    "execution": {
     "iopub.execute_input": "2023-02-11T13:49:40.840504Z",
     "iopub.status.busy": "2023-02-11T13:49:40.840189Z",
     "iopub.status.idle": "2023-02-11T13:49:41.099927Z",
     "shell.execute_reply": "2023-02-11T13:49:41.099026Z",
     "shell.execute_reply.started": "2023-02-11T13:49:40.840478Z"
    },
    "tags": []
   },
   "outputs": [
    {
     "data": {
      "application/vnd.jupyter.widget-view+json": {
       "model_id": "fad5ad441074417090332a77f832e060",
       "version_major": 2,
       "version_minor": 0
      },
      "text/plain": [
       "VBox()"
      ]
     },
     "metadata": {},
     "output_type": "display_data"
    },
    {
     "data": {
      "application/vnd.jupyter.widget-view+json": {
       "model_id": "",
       "version_major": 2,
       "version_minor": 0
      },
      "text/plain": [
       "FloatProgress(value=0.0, bar_style='info', description='Progress:', layout=Layout(height='25px', width='50%'),…"
      ]
     },
     "metadata": {},
     "output_type": "display_data"
    }
   ],
   "source": [
    "preds_and_labels_rf = preds_and_labels_rf.select(['prediction','label'])"
   ]
  },
  {
   "cell_type": "code",
   "execution_count": 166,
   "metadata": {
    "execution": {
     "iopub.execute_input": "2023-02-11T13:49:42.364623Z",
     "iopub.status.busy": "2023-02-11T13:49:42.364306Z",
     "iopub.status.idle": "2023-02-11T13:57:37.405912Z",
     "shell.execute_reply": "2023-02-11T13:57:37.405030Z",
     "shell.execute_reply.started": "2023-02-11T13:49:42.364598Z"
    },
    "tags": []
   },
   "outputs": [
    {
     "data": {
      "application/vnd.jupyter.widget-view+json": {
       "model_id": "cc55b808256a4d33a8bf7afb2f946fcd",
       "version_major": 2,
       "version_minor": 0
      },
      "text/plain": [
       "VBox()"
      ]
     },
     "metadata": {},
     "output_type": "display_data"
    },
    {
     "data": {
      "application/vnd.jupyter.widget-view+json": {
       "model_id": "",
       "version_major": 2,
       "version_minor": 0
      },
      "text/plain": [
       "FloatProgress(value=0.0, bar_style='info', description='Progress:', layout=Layout(height='25px', width='50%'),…"
      ]
     },
     "metadata": {},
     "output_type": "display_data"
    },
    {
     "name": "stdout",
     "output_type": "stream",
     "text": [
      "+----------+-----+\n",
      "|prediction|label|\n",
      "+----------+-----+\n",
      "|       1.0|  1.0|\n",
      "|       1.0|  1.0|\n",
      "|       0.0|  1.0|\n",
      "|       1.0|  1.0|\n",
      "|       1.0|  1.0|\n",
      "|       1.0|  1.0|\n",
      "|       1.0|  1.0|\n",
      "|       1.0|  1.0|\n",
      "|       1.0|  1.0|\n",
      "|       1.0|  1.0|\n",
      "|       1.0|  1.0|\n",
      "|       0.0|  1.0|\n",
      "|       1.0|  1.0|\n",
      "|       0.0|  1.0|\n",
      "|       1.0|  1.0|\n",
      "|       1.0|  1.0|\n",
      "|       1.0|  1.0|\n",
      "|       1.0|  1.0|\n",
      "|       0.0|  1.0|\n",
      "|       1.0|  1.0|\n",
      "+----------+-----+\n",
      "only showing top 20 rows"
     ]
    }
   ],
   "source": [
    "preds_and_labels_rf.show()"
   ]
  },
  {
   "cell_type": "code",
   "execution_count": 154,
   "metadata": {
    "execution": {
     "iopub.execute_input": "2023-02-11T13:45:26.607475Z",
     "iopub.status.busy": "2023-02-11T13:45:26.607155Z",
     "iopub.status.idle": "2023-02-11T13:45:45.957611Z",
     "shell.execute_reply": "2023-02-11T13:45:45.956844Z",
     "shell.execute_reply.started": "2023-02-11T13:45:26.607451Z"
    },
    "tags": []
   },
   "outputs": [
    {
     "data": {
      "application/vnd.jupyter.widget-view+json": {
       "model_id": "352a759ff87249ee818c168668f2fddb",
       "version_major": 2,
       "version_minor": 0
      },
      "text/plain": [
       "VBox()"
      ]
     },
     "metadata": {},
     "output_type": "display_data"
    },
    {
     "data": {
      "application/vnd.jupyter.widget-view+json": {
       "model_id": "",
       "version_major": 2,
       "version_minor": 0
      },
      "text/plain": [
       "FloatProgress(value=0.0, bar_style='info', description='Progress:', layout=Layout(height='25px', width='50%'),…"
      ]
     },
     "metadata": {},
     "output_type": "display_data"
    }
   ],
   "source": [
    "metrics = MulticlassMetrics(preds_and_labels_rf.rdd.map(tuple))"
   ]
  },
  {
   "cell_type": "code",
   "execution_count": 155,
   "metadata": {
    "execution": {
     "iopub.execute_input": "2023-02-11T13:46:13.646552Z",
     "iopub.status.busy": "2023-02-11T13:46:13.646213Z",
     "iopub.status.idle": "2023-02-11T13:46:14.412399Z",
     "shell.execute_reply": "2023-02-11T13:46:14.411497Z",
     "shell.execute_reply.started": "2023-02-11T13:46:13.646522Z"
    },
    "tags": []
   },
   "outputs": [
    {
     "data": {
      "application/vnd.jupyter.widget-view+json": {
       "model_id": "5c1e7db934d9420e900538ba2af0621c",
       "version_major": 2,
       "version_minor": 0
      },
      "text/plain": [
       "VBox()"
      ]
     },
     "metadata": {},
     "output_type": "display_data"
    },
    {
     "data": {
      "application/vnd.jupyter.widget-view+json": {
       "model_id": "",
       "version_major": 2,
       "version_minor": 0
      },
      "text/plain": [
       "FloatProgress(value=0.0, bar_style='info', description='Progress:', layout=Layout(height='25px', width='50%'),…"
      ]
     },
     "metadata": {},
     "output_type": "display_data"
    },
    {
     "name": "stdout",
     "output_type": "stream",
     "text": [
      "Confusion Matrix\n",
      " [[ 805.  209.]\n",
      " [ 282. 3203.]]"
     ]
    }
   ],
   "source": [
    "print('Confusion Matrix\\n', metrics.confusionMatrix().toArray())"
   ]
  },
  {
   "cell_type": "code",
   "execution_count": 156,
   "metadata": {
    "execution": {
     "iopub.execute_input": "2023-02-11T13:46:35.076954Z",
     "iopub.status.busy": "2023-02-11T13:46:35.076635Z",
     "iopub.status.idle": "2023-02-11T13:46:35.140929Z",
     "shell.execute_reply": "2023-02-11T13:46:35.140188Z",
     "shell.execute_reply.started": "2023-02-11T13:46:35.076930Z"
    },
    "tags": []
   },
   "outputs": [
    {
     "data": {
      "application/vnd.jupyter.widget-view+json": {
       "model_id": "6488b7cd10314ee7ab4bada0508217a5",
       "version_major": 2,
       "version_minor": 0
      },
      "text/plain": [
       "VBox()"
      ]
     },
     "metadata": {},
     "output_type": "display_data"
    },
    {
     "data": {
      "application/vnd.jupyter.widget-view+json": {
       "model_id": "",
       "version_major": 2,
       "version_minor": 0
      },
      "text/plain": [
       "FloatProgress(value=0.0, bar_style='info', description='Progress:', layout=Layout(height='25px', width='50%'),…"
      ]
     },
     "metadata": {},
     "output_type": "display_data"
    }
   ],
   "source": [
    "f1Score_rf = metrics.fMeasure(0.0,2.0)"
   ]
  },
  {
   "cell_type": "code",
   "execution_count": 157,
   "metadata": {
    "execution": {
     "iopub.execute_input": "2023-02-11T13:46:37.181988Z",
     "iopub.status.busy": "2023-02-11T13:46:37.181487Z",
     "iopub.status.idle": "2023-02-11T13:46:37.242922Z",
     "shell.execute_reply": "2023-02-11T13:46:37.242167Z",
     "shell.execute_reply.started": "2023-02-11T13:46:37.181959Z"
    },
    "tags": []
   },
   "outputs": [
    {
     "data": {
      "application/vnd.jupyter.widget-view+json": {
       "model_id": "3c1a0ae0a0124ba2946efc136e5eb5dd",
       "version_major": 2,
       "version_minor": 0
      },
      "text/plain": [
       "VBox()"
      ]
     },
     "metadata": {},
     "output_type": "display_data"
    },
    {
     "data": {
      "application/vnd.jupyter.widget-view+json": {
       "model_id": "",
       "version_major": 2,
       "version_minor": 0
      },
      "text/plain": [
       "FloatProgress(value=0.0, bar_style='info', description='Progress:', layout=Layout(height='25px', width='50%'),…"
      ]
     },
     "metadata": {},
     "output_type": "display_data"
    },
    {
     "name": "stdout",
     "output_type": "stream",
     "text": [
      "F1 Score = 0.7826171495236243"
     ]
    }
   ],
   "source": [
    "print(\"F1 Score = %s\" % f1Score_rf)"
   ]
  },
  {
   "cell_type": "markdown",
   "metadata": {},
   "source": [
    "## Gradient Boosted Tree"
   ]
  },
  {
   "cell_type": "code",
   "execution_count": 100,
   "metadata": {
    "execution": {
     "iopub.execute_input": "2023-02-11T10:59:56.030718Z",
     "iopub.status.busy": "2023-02-11T10:59:56.030474Z",
     "iopub.status.idle": "2023-02-11T11:22:37.511696Z",
     "shell.execute_reply": "2023-02-11T11:22:37.510767Z",
     "shell.execute_reply.started": "2023-02-11T10:59:56.030690Z"
    },
    "tags": []
   },
   "outputs": [
    {
     "data": {
      "application/vnd.jupyter.widget-view+json": {
       "model_id": "7d289d1eb6a14fe99752b3673edbc5a2",
       "version_major": 2,
       "version_minor": 0
      },
      "text/plain": [
       "VBox()"
      ]
     },
     "metadata": {},
     "output_type": "display_data"
    },
    {
     "data": {
      "application/vnd.jupyter.widget-view+json": {
       "model_id": "",
       "version_major": 2,
       "version_minor": 0
      },
      "text/plain": [
       "FloatProgress(value=0.0, bar_style='info', description='Progress:', layout=Layout(height='25px', width='50%'),…"
      ]
     },
     "metadata": {},
     "output_type": "display_data"
    }
   ],
   "source": [
    "gbt = GBTClassifier(labelCol=\"indexedLabel\", featuresCol=\"indexedFeatures\", maxIter=20, maxDepth = 10)\n",
    "\n",
    "# Chain indexers and GBT in a Pipeline\n",
    "pipeline = Pipeline(stages=[labelIndexer, featureIndexer, gbt])\n",
    "\n",
    "# Train model.  This also runs the indexers.\n",
    "model = pipeline.fit(train)\n",
    "\n",
    "# Make predictions.\n",
    "predictions = model.transform(test)"
   ]
  },
  {
   "cell_type": "code",
   "execution_count": 167,
   "metadata": {
    "execution": {
     "iopub.execute_input": "2023-02-11T13:57:37.407929Z",
     "iopub.status.busy": "2023-02-11T13:57:37.407584Z",
     "iopub.status.idle": "2023-02-11T13:57:37.663466Z",
     "shell.execute_reply": "2023-02-11T13:57:37.662591Z",
     "shell.execute_reply.started": "2023-02-11T13:57:37.407892Z"
    },
    "tags": []
   },
   "outputs": [
    {
     "data": {
      "application/vnd.jupyter.widget-view+json": {
       "model_id": "e1683048aeb9457b97573f29eb92d854",
       "version_major": 2,
       "version_minor": 0
      },
      "text/plain": [
       "VBox()"
      ]
     },
     "metadata": {},
     "output_type": "display_data"
    },
    {
     "data": {
      "application/vnd.jupyter.widget-view+json": {
       "model_id": "",
       "version_major": 2,
       "version_minor": 0
      },
      "text/plain": [
       "FloatProgress(value=0.0, bar_style='info', description='Progress:', layout=Layout(height='25px', width='50%'),…"
      ]
     },
     "metadata": {},
     "output_type": "display_data"
    }
   ],
   "source": [
    "preds_and_labels_gbt = predictions.select(['prediction','label']).withColumn('label', F.col('label').cast(FloatType())).orderBy('label', ascending = False)"
   ]
  },
  {
   "cell_type": "code",
   "execution_count": 168,
   "metadata": {
    "execution": {
     "iopub.execute_input": "2023-02-11T13:57:37.665130Z",
     "iopub.status.busy": "2023-02-11T13:57:37.664882Z",
     "iopub.status.idle": "2023-02-11T13:57:37.916753Z",
     "shell.execute_reply": "2023-02-11T13:57:37.915844Z",
     "shell.execute_reply.started": "2023-02-11T13:57:37.665105Z"
    },
    "tags": []
   },
   "outputs": [
    {
     "data": {
      "application/vnd.jupyter.widget-view+json": {
       "model_id": "8396742e458748bb9a3f5bff23ada803",
       "version_major": 2,
       "version_minor": 0
      },
      "text/plain": [
       "VBox()"
      ]
     },
     "metadata": {},
     "output_type": "display_data"
    },
    {
     "data": {
      "application/vnd.jupyter.widget-view+json": {
       "model_id": "",
       "version_major": 2,
       "version_minor": 0
      },
      "text/plain": [
       "FloatProgress(value=0.0, bar_style='info', description='Progress:', layout=Layout(height='25px', width='50%'),…"
      ]
     },
     "metadata": {},
     "output_type": "display_data"
    }
   ],
   "source": [
    "preds_and_labels_gbt = preds_and_labels_gbt.select(['prediction','label'])"
   ]
  },
  {
   "cell_type": "code",
   "execution_count": 169,
   "metadata": {
    "execution": {
     "iopub.execute_input": "2023-02-11T13:57:37.918116Z",
     "iopub.status.busy": "2023-02-11T13:57:37.917881Z",
     "iopub.status.idle": "2023-02-11T14:04:57.581220Z",
     "shell.execute_reply": "2023-02-11T14:04:57.559185Z",
     "shell.execute_reply.started": "2023-02-11T13:57:37.918093Z"
    },
    "tags": []
   },
   "outputs": [
    {
     "data": {
      "application/vnd.jupyter.widget-view+json": {
       "model_id": "0112c2bc23b745e48bdb0a7e0bdaa128",
       "version_major": 2,
       "version_minor": 0
      },
      "text/plain": [
       "VBox()"
      ]
     },
     "metadata": {},
     "output_type": "display_data"
    },
    {
     "data": {
      "application/vnd.jupyter.widget-view+json": {
       "model_id": "",
       "version_major": 2,
       "version_minor": 0
      },
      "text/plain": [
       "FloatProgress(value=0.0, bar_style='info', description='Progress:', layout=Layout(height='25px', width='50%'),…"
      ]
     },
     "metadata": {},
     "output_type": "display_data"
    },
    {
     "name": "stdout",
     "output_type": "stream",
     "text": [
      "+----------+-----+\n",
      "|prediction|label|\n",
      "+----------+-----+\n",
      "|       1.0|  1.0|\n",
      "|       1.0|  1.0|\n",
      "|       1.0|  1.0|\n",
      "|       0.0|  1.0|\n",
      "|       1.0|  1.0|\n",
      "|       1.0|  1.0|\n",
      "|       1.0|  1.0|\n",
      "|       1.0|  1.0|\n",
      "|       1.0|  1.0|\n",
      "|       1.0|  1.0|\n",
      "|       1.0|  1.0|\n",
      "|       1.0|  1.0|\n",
      "|       1.0|  1.0|\n",
      "|       1.0|  1.0|\n",
      "|       1.0|  1.0|\n",
      "|       1.0|  1.0|\n",
      "|       1.0|  1.0|\n",
      "|       1.0|  1.0|\n",
      "|       1.0|  1.0|\n",
      "|       1.0|  1.0|\n",
      "+----------+-----+\n",
      "only showing top 20 rows"
     ]
    }
   ],
   "source": [
    "preds_and_labels_gbt.show()"
   ]
  },
  {
   "cell_type": "code",
   "execution_count": 158,
   "metadata": {
    "execution": {
     "iopub.execute_input": "2023-02-11T13:47:37.253633Z",
     "iopub.status.busy": "2023-02-11T13:47:37.253306Z",
     "iopub.status.idle": "2023-02-11T13:47:56.605064Z",
     "shell.execute_reply": "2023-02-11T13:47:56.604193Z",
     "shell.execute_reply.started": "2023-02-11T13:47:37.253608Z"
    },
    "tags": []
   },
   "outputs": [
    {
     "data": {
      "application/vnd.jupyter.widget-view+json": {
       "model_id": "16791f952cc24ec3a9066befad0babf6",
       "version_major": 2,
       "version_minor": 0
      },
      "text/plain": [
       "VBox()"
      ]
     },
     "metadata": {},
     "output_type": "display_data"
    },
    {
     "data": {
      "application/vnd.jupyter.widget-view+json": {
       "model_id": "",
       "version_major": 2,
       "version_minor": 0
      },
      "text/plain": [
       "FloatProgress(value=0.0, bar_style='info', description='Progress:', layout=Layout(height='25px', width='50%'),…"
      ]
     },
     "metadata": {},
     "output_type": "display_data"
    }
   ],
   "source": [
    "metrics = MulticlassMetrics(preds_and_labels_gbt.rdd.map(tuple))"
   ]
  },
  {
   "cell_type": "code",
   "execution_count": 159,
   "metadata": {
    "execution": {
     "iopub.execute_input": "2023-02-11T13:47:58.358001Z",
     "iopub.status.busy": "2023-02-11T13:47:58.357688Z",
     "iopub.status.idle": "2023-02-11T13:47:59.171498Z",
     "shell.execute_reply": "2023-02-11T13:47:59.170767Z",
     "shell.execute_reply.started": "2023-02-11T13:47:58.357977Z"
    },
    "tags": []
   },
   "outputs": [
    {
     "data": {
      "application/vnd.jupyter.widget-view+json": {
       "model_id": "b2845091cd8741d0ac31ef6aa39155c8",
       "version_major": 2,
       "version_minor": 0
      },
      "text/plain": [
       "VBox()"
      ]
     },
     "metadata": {},
     "output_type": "display_data"
    },
    {
     "data": {
      "application/vnd.jupyter.widget-view+json": {
       "model_id": "",
       "version_major": 2,
       "version_minor": 0
      },
      "text/plain": [
       "FloatProgress(value=0.0, bar_style='info', description='Progress:', layout=Layout(height='25px', width='50%'),…"
      ]
     },
     "metadata": {},
     "output_type": "display_data"
    },
    {
     "name": "stdout",
     "output_type": "stream",
     "text": [
      "Confusion Matrix\n",
      " [[ 785.  215.]\n",
      " [ 282. 3212.]]"
     ]
    }
   ],
   "source": [
    "print('Confusion Matrix\\n', metrics.confusionMatrix().toArray())"
   ]
  },
  {
   "cell_type": "code",
   "execution_count": 161,
   "metadata": {
    "execution": {
     "iopub.execute_input": "2023-02-11T13:48:07.133403Z",
     "iopub.status.busy": "2023-02-11T13:48:07.133083Z",
     "iopub.status.idle": "2023-02-11T13:48:07.197543Z",
     "shell.execute_reply": "2023-02-11T13:48:07.196857Z",
     "shell.execute_reply.started": "2023-02-11T13:48:07.133377Z"
    },
    "tags": []
   },
   "outputs": [
    {
     "data": {
      "application/vnd.jupyter.widget-view+json": {
       "model_id": "f41148820b004ad793893d931e55e14f",
       "version_major": 2,
       "version_minor": 0
      },
      "text/plain": [
       "VBox()"
      ]
     },
     "metadata": {},
     "output_type": "display_data"
    },
    {
     "data": {
      "application/vnd.jupyter.widget-view+json": {
       "model_id": "",
       "version_major": 2,
       "version_minor": 0
      },
      "text/plain": [
       "FloatProgress(value=0.0, bar_style='info', description='Progress:', layout=Layout(height='25px', width='50%'),…"
      ]
     },
     "metadata": {},
     "output_type": "display_data"
    }
   ],
   "source": [
    "f1Score_gbt = metrics.fMeasure(0.0,2.0)"
   ]
  },
  {
   "cell_type": "code",
   "execution_count": 162,
   "metadata": {
    "execution": {
     "iopub.execute_input": "2023-02-11T13:48:08.303649Z",
     "iopub.status.busy": "2023-02-11T13:48:08.303245Z",
     "iopub.status.idle": "2023-02-11T13:48:08.386462Z",
     "shell.execute_reply": "2023-02-11T13:48:08.385358Z",
     "shell.execute_reply.started": "2023-02-11T13:48:08.303598Z"
    },
    "tags": []
   },
   "outputs": [
    {
     "data": {
      "application/vnd.jupyter.widget-view+json": {
       "model_id": "06efad6f8c6249cc93cd2a3110231472",
       "version_major": 2,
       "version_minor": 0
      },
      "text/plain": [
       "VBox()"
      ]
     },
     "metadata": {},
     "output_type": "display_data"
    },
    {
     "data": {
      "application/vnd.jupyter.widget-view+json": {
       "model_id": "",
       "version_major": 2,
       "version_minor": 0
      },
      "text/plain": [
       "FloatProgress(value=0.0, bar_style='info', description='Progress:', layout=Layout(height='25px', width='50%'),…"
      ]
     },
     "metadata": {},
     "output_type": "display_data"
    },
    {
     "name": "stdout",
     "output_type": "stream",
     "text": [
      "F1 Score = 0.7746200907835011"
     ]
    }
   ],
   "source": [
    "print(\"F1 Score = %s\" % f1Score_gbt)"
   ]
  },
  {
   "cell_type": "markdown",
   "metadata": {},
   "source": [
    "## Conclusion"
   ]
  },
  {
   "cell_type": "code",
   "execution_count": 163,
   "metadata": {
    "execution": {
     "iopub.execute_input": "2023-02-11T13:48:14.405574Z",
     "iopub.status.busy": "2023-02-11T13:48:14.404970Z",
     "iopub.status.idle": "2023-02-11T13:48:14.468015Z",
     "shell.execute_reply": "2023-02-11T13:48:14.467145Z",
     "shell.execute_reply.started": "2023-02-11T13:48:14.405542Z"
    },
    "tags": []
   },
   "outputs": [
    {
     "data": {
      "application/vnd.jupyter.widget-view+json": {
       "model_id": "1bc70856209f48d2a829fc4fb168b1c7",
       "version_major": 2,
       "version_minor": 0
      },
      "text/plain": [
       "VBox()"
      ]
     },
     "metadata": {},
     "output_type": "display_data"
    },
    {
     "data": {
      "application/vnd.jupyter.widget-view+json": {
       "model_id": "",
       "version_major": 2,
       "version_minor": 0
      },
      "text/plain": [
       "FloatProgress(value=0.0, bar_style='info', description='Progress:', layout=Layout(height='25px', width='50%'),…"
      ]
     },
     "metadata": {},
     "output_type": "display_data"
    },
    {
     "name": "stdout",
     "output_type": "stream",
     "text": [
      "Logistic Regression F1 Score = 0.5422974176313445\n",
      "Random Forest F1 Score = 0.7826171495236243\n",
      "Gradient Boosted Tree F1 Score = 0.7746200907835011"
     ]
    }
   ],
   "source": [
    "print('Logistic Regression F1 Score = %s' % f1Score_logr)\n",
    "print('Random Forest F1 Score = %s' % f1Score_rf)\n",
    "print('Gradient Boosted Tree F1 Score = %s' % f1Score_gbt)"
   ]
  },
  {
   "cell_type": "markdown",
   "metadata": {},
   "source": [
    "Based on the F1 score of Logistic Regression, Random Forest and Gradient Boosted Tree, we can see that Random Forest obtained the highest F1 score."
   ]
  },
  {
   "cell_type": "markdown",
   "metadata": {},
   "source": [
    "# Final Steps\n",
    "Clean up your code, adding comments and renaming variables to make the code easier to read and maintain. Refer to the Spark Project Overview page and Data Scientist Capstone Project Rubric to make sure you are including all components of the capstone project and meet all expectations. Remember, this includes thorough documentation in a README file in a Github repository, as well as a web app or blog post."
   ]
  },
  {
   "cell_type": "code",
   "execution_count": null,
   "metadata": {},
   "outputs": [],
   "source": []
  },
  {
   "cell_type": "markdown",
   "metadata": {},
   "source": [
    "## Future work"
   ]
  },
  {
   "cell_type": "markdown",
   "metadata": {},
   "source": [
    "Consideration for improvement:\n",
    "1. To try working with different time window such as only taking 3 weeks of user's activity. The idea is that user's behaviour may change and hence user's activity from long ago may no longer be relevant. \n",
    "2. To try other classification models such as Support Vector Machine for comparison. "
   ]
  },
  {
   "cell_type": "markdown",
   "metadata": {},
   "source": [
    "### References"
   ]
  },
  {
   "cell_type": "markdown",
   "metadata": {},
   "source": [
    "https://stackoverflow.com/questions/43287451/divide-pyspark-dataframe-column-by-column-in-other-pyspark-dataframe-when-id-mat\n",
    "https://mrpowers.medium.com/performing-operations-on-multiple-columns-in-a-pyspark-dataframe-36e97896c378"
   ]
  }
 ],
 "metadata": {
  "kernelspec": {
   "display_name": "Python 3",
   "language": "python",
   "name": "python3"
  },
  "language_info": {
   "codemirror_mode": {
    "name": "ipython",
    "version": 3
   },
   "file_extension": ".py",
   "mimetype": "text/x-python",
   "name": "python",
   "nbconvert_exporter": "python",
   "pygments_lexer": "ipython3",
   "version": "3.8.5"
  }
 },
 "nbformat": 4,
 "nbformat_minor": 4
}
